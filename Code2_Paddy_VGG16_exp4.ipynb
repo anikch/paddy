{
  "nbformat": 4,
  "nbformat_minor": 0,
  "metadata": {
    "colab": {
      "provenance": [],
      "collapsed_sections": [],
      "mount_file_id": "1Tv3OCnqy1z5OpEkO130l3dxhXr0wsZgB",
      "authorship_tag": "ABX9TyMD6woH30YO4H5ZOV9CqkKV",
      "include_colab_link": true
    },
    "kernelspec": {
      "name": "python3",
      "display_name": "Python 3"
    },
    "language_info": {
      "name": "python"
    },
    "accelerator": "GPU",
    "gpuClass": "premium"
  },
  "cells": [
    {
      "cell_type": "markdown",
      "metadata": {
        "id": "view-in-github",
        "colab_type": "text"
      },
      "source": [
        "<a href=\"https://colab.research.google.com/github/anikch/paddy/blob/main/Code2_Paddy_VGG16_exp4.ipynb\" target=\"_parent\"><img src=\"https://colab.research.google.com/assets/colab-badge.svg\" alt=\"Open In Colab\"/></a>"
      ]
    },
    {
      "cell_type": "code",
      "execution_count": 1,
      "metadata": {
        "colab": {
          "base_uri": "https://localhost:8080/"
        },
        "id": "ldWDN70l6Hrz",
        "outputId": "89c7af7e-7894-4dbc-f706-c73abd6735df"
      },
      "outputs": [
        {
          "output_type": "stream",
          "name": "stdout",
          "text": [
            "Looking in indexes: https://pypi.org/simple, https://us-python.pkg.dev/colab-wheels/public/simple/\n",
            "Collecting tensorflow_addons\n",
            "  Downloading tensorflow_addons-0.18.0-cp37-cp37m-manylinux_2_17_x86_64.manylinux2014_x86_64.whl (1.1 MB)\n",
            "\u001b[K     |████████████████████████████████| 1.1 MB 5.0 MB/s \n",
            "\u001b[?25hRequirement already satisfied: packaging in /usr/local/lib/python3.7/dist-packages (from tensorflow_addons) (21.3)\n",
            "Requirement already satisfied: typeguard>=2.7 in /usr/local/lib/python3.7/dist-packages (from tensorflow_addons) (2.7.1)\n",
            "Requirement already satisfied: pyparsing!=3.0.5,>=2.0.2 in /usr/local/lib/python3.7/dist-packages (from packaging->tensorflow_addons) (3.0.9)\n",
            "Installing collected packages: tensorflow-addons\n",
            "Successfully installed tensorflow-addons-0.18.0\n"
          ]
        }
      ],
      "source": [
        "!pip install tensorflow_addons"
      ]
    },
    {
      "cell_type": "code",
      "source": [
        "!pip install keras_cv"
      ],
      "metadata": {
        "colab": {
          "base_uri": "https://localhost:8080/"
        },
        "id": "TEPL2726jHpv",
        "outputId": "55e22e04-cf35-4c7f-a0ab-ff13ff818c2a"
      },
      "execution_count": 2,
      "outputs": [
        {
          "output_type": "stream",
          "name": "stdout",
          "text": [
            "Looking in indexes: https://pypi.org/simple, https://us-python.pkg.dev/colab-wheels/public/simple/\n",
            "Collecting keras_cv\n",
            "  Downloading keras_cv-0.3.4-py3-none-any.whl (394 kB)\n",
            "\u001b[K     |████████████████████████████████| 394 kB 5.2 MB/s \n",
            "\u001b[?25hRequirement already satisfied: absl-py in /usr/local/lib/python3.7/dist-packages (from keras_cv) (1.3.0)\n",
            "Requirement already satisfied: packaging in /usr/local/lib/python3.7/dist-packages (from keras_cv) (21.3)\n",
            "Requirement already satisfied: regex in /usr/local/lib/python3.7/dist-packages (from keras_cv) (2022.6.2)\n",
            "Requirement already satisfied: pyparsing!=3.0.5,>=2.0.2 in /usr/local/lib/python3.7/dist-packages (from packaging->keras_cv) (3.0.9)\n",
            "Installing collected packages: keras-cv\n",
            "Successfully installed keras-cv-0.3.4\n"
          ]
        }
      ]
    },
    {
      "cell_type": "code",
      "source": [
        "import pandas as pd\n",
        "import numpy as np\n",
        "import tensorflow as tf\n",
        "import tensorflow_addons as tfa\n",
        "from sklearn.metrics import classification_report, confusion_matrix, ConfusionMatrixDisplay\n",
        "import matplotlib.pyplot as plt\n",
        "import seaborn as sns\n",
        "from typing import List\n",
        "from tensorflow import keras\n",
        "from keras.preprocessing.image import ImageDataGenerator\n",
        "from tensorflow.keras import layers\n",
        "from tensorflow.keras.callbacks import ModelCheckpoint, EarlyStopping\n",
        "from functools import partial\n",
        "import posixpath\n",
        "from keras import models, regularizers, layers, optimizers, losses, metrics\n",
        "import keras_cv\n",
        "from keras.models import Sequential\n",
        "from keras.layers import Dense\n",
        "from tensorflow.keras.utils import plot_model"
      ],
      "metadata": {
        "id": "7lI0v4g76OWm"
      },
      "execution_count": 3,
      "outputs": []
    },
    {
      "cell_type": "code",
      "source": [
        "from google.colab import drive\n",
        "drive.mount('/content/drive')"
      ],
      "metadata": {
        "colab": {
          "base_uri": "https://localhost:8080/"
        },
        "id": "v7njDtLg6Ps6",
        "outputId": "2e7f99e6-57ad-4ced-cfc2-72cbe95ecead"
      },
      "execution_count": 4,
      "outputs": [
        {
          "output_type": "stream",
          "name": "stdout",
          "text": [
            "Mounted at /content/drive\n"
          ]
        }
      ]
    },
    {
      "cell_type": "code",
      "source": [
        "!nvidia-smi"
      ],
      "metadata": {
        "colab": {
          "base_uri": "https://localhost:8080/"
        },
        "id": "lb2hQ92A6WOI",
        "outputId": "e7acff13-ebde-43e9-8e8d-717fd8999f6d"
      },
      "execution_count": 5,
      "outputs": [
        {
          "output_type": "stream",
          "name": "stdout",
          "text": [
            "Tue Oct 25 20:15:56 2022       \n",
            "+-----------------------------------------------------------------------------+\n",
            "| NVIDIA-SMI 460.32.03    Driver Version: 460.32.03    CUDA Version: 11.2     |\n",
            "|-------------------------------+----------------------+----------------------+\n",
            "| GPU  Name        Persistence-M| Bus-Id        Disp.A | Volatile Uncorr. ECC |\n",
            "| Fan  Temp  Perf  Pwr:Usage/Cap|         Memory-Usage | GPU-Util  Compute M. |\n",
            "|                               |                      |               MIG M. |\n",
            "|===============================+======================+======================|\n",
            "|   0  A100-SXM4-40GB      Off  | 00000000:00:04.0 Off |                    0 |\n",
            "| N/A   32C    P0    43W / 400W |      0MiB / 40536MiB |      0%      Default |\n",
            "|                               |                      |             Disabled |\n",
            "+-------------------------------+----------------------+----------------------+\n",
            "                                                                               \n",
            "+-----------------------------------------------------------------------------+\n",
            "| Processes:                                                                  |\n",
            "|  GPU   GI   CI        PID   Type   Process name                  GPU Memory |\n",
            "|        ID   ID                                                   Usage      |\n",
            "|=============================================================================|\n",
            "|  No running processes found                                                 |\n",
            "+-----------------------------------------------------------------------------+\n"
          ]
        }
      ]
    },
    {
      "cell_type": "code",
      "source": [
        "colab= '/content/drive/MyDrive'\n",
        "local= r'G:\\My Drive'\n",
        "\n",
        "code_runtime= colab"
      ],
      "metadata": {
        "id": "4AtLPkXN6aSa"
      },
      "execution_count": 6,
      "outputs": []
    },
    {
      "cell_type": "code",
      "source": [
        "tf.__version__"
      ],
      "metadata": {
        "colab": {
          "base_uri": "https://localhost:8080/",
          "height": 35
        },
        "id": "FzWX_57e6dMv",
        "outputId": "421402d5-b109-455a-ce98-e86aaf2c9eb7"
      },
      "execution_count": 7,
      "outputs": [
        {
          "output_type": "execute_result",
          "data": {
            "text/plain": [
              "'2.9.2'"
            ],
            "application/vnd.google.colaboratory.intrinsic+json": {
              "type": "string"
            }
          },
          "metadata": {},
          "execution_count": 7
        }
      ]
    },
    {
      "cell_type": "code",
      "source": [
        "file1= 'thesis/dataset/paddy_doctor/train.csv'\n",
        "inp_file = posixpath.join(code_runtime, file1)\n",
        "\n",
        "train_table=pd.read_csv(inp_file)\n",
        "train_table"
      ],
      "metadata": {
        "colab": {
          "base_uri": "https://localhost:8080/",
          "height": 424
        },
        "id": "1pzjWUi86exJ",
        "outputId": "2783cdaa-f370-4412-eacc-a1aa3907fc90"
      },
      "execution_count": 8,
      "outputs": [
        {
          "output_type": "execute_result",
          "data": {
            "text/plain": [
              "         image_id                  label variety  age\n",
              "0      100330.jpg  bacterial_leaf_blight   ADT45   45\n",
              "1      100365.jpg  bacterial_leaf_blight   ADT45   45\n",
              "2      100382.jpg  bacterial_leaf_blight   ADT45   45\n",
              "3      100632.jpg  bacterial_leaf_blight   ADT45   45\n",
              "4      101918.jpg  bacterial_leaf_blight   ADT45   45\n",
              "...           ...                    ...     ...  ...\n",
              "10402  107607.jpg                 tungro   Zonal   55\n",
              "10403  107811.jpg                 tungro   Zonal   55\n",
              "10404  108547.jpg                 tungro   Zonal   55\n",
              "10405  110245.jpg                 tungro   Zonal   55\n",
              "10406  110381.jpg                 tungro   Zonal   55\n",
              "\n",
              "[10407 rows x 4 columns]"
            ],
            "text/html": [
              "\n",
              "  <div id=\"df-137df062-ab43-4648-89e3-b35e1f6e95a8\">\n",
              "    <div class=\"colab-df-container\">\n",
              "      <div>\n",
              "<style scoped>\n",
              "    .dataframe tbody tr th:only-of-type {\n",
              "        vertical-align: middle;\n",
              "    }\n",
              "\n",
              "    .dataframe tbody tr th {\n",
              "        vertical-align: top;\n",
              "    }\n",
              "\n",
              "    .dataframe thead th {\n",
              "        text-align: right;\n",
              "    }\n",
              "</style>\n",
              "<table border=\"1\" class=\"dataframe\">\n",
              "  <thead>\n",
              "    <tr style=\"text-align: right;\">\n",
              "      <th></th>\n",
              "      <th>image_id</th>\n",
              "      <th>label</th>\n",
              "      <th>variety</th>\n",
              "      <th>age</th>\n",
              "    </tr>\n",
              "  </thead>\n",
              "  <tbody>\n",
              "    <tr>\n",
              "      <th>0</th>\n",
              "      <td>100330.jpg</td>\n",
              "      <td>bacterial_leaf_blight</td>\n",
              "      <td>ADT45</td>\n",
              "      <td>45</td>\n",
              "    </tr>\n",
              "    <tr>\n",
              "      <th>1</th>\n",
              "      <td>100365.jpg</td>\n",
              "      <td>bacterial_leaf_blight</td>\n",
              "      <td>ADT45</td>\n",
              "      <td>45</td>\n",
              "    </tr>\n",
              "    <tr>\n",
              "      <th>2</th>\n",
              "      <td>100382.jpg</td>\n",
              "      <td>bacterial_leaf_blight</td>\n",
              "      <td>ADT45</td>\n",
              "      <td>45</td>\n",
              "    </tr>\n",
              "    <tr>\n",
              "      <th>3</th>\n",
              "      <td>100632.jpg</td>\n",
              "      <td>bacterial_leaf_blight</td>\n",
              "      <td>ADT45</td>\n",
              "      <td>45</td>\n",
              "    </tr>\n",
              "    <tr>\n",
              "      <th>4</th>\n",
              "      <td>101918.jpg</td>\n",
              "      <td>bacterial_leaf_blight</td>\n",
              "      <td>ADT45</td>\n",
              "      <td>45</td>\n",
              "    </tr>\n",
              "    <tr>\n",
              "      <th>...</th>\n",
              "      <td>...</td>\n",
              "      <td>...</td>\n",
              "      <td>...</td>\n",
              "      <td>...</td>\n",
              "    </tr>\n",
              "    <tr>\n",
              "      <th>10402</th>\n",
              "      <td>107607.jpg</td>\n",
              "      <td>tungro</td>\n",
              "      <td>Zonal</td>\n",
              "      <td>55</td>\n",
              "    </tr>\n",
              "    <tr>\n",
              "      <th>10403</th>\n",
              "      <td>107811.jpg</td>\n",
              "      <td>tungro</td>\n",
              "      <td>Zonal</td>\n",
              "      <td>55</td>\n",
              "    </tr>\n",
              "    <tr>\n",
              "      <th>10404</th>\n",
              "      <td>108547.jpg</td>\n",
              "      <td>tungro</td>\n",
              "      <td>Zonal</td>\n",
              "      <td>55</td>\n",
              "    </tr>\n",
              "    <tr>\n",
              "      <th>10405</th>\n",
              "      <td>110245.jpg</td>\n",
              "      <td>tungro</td>\n",
              "      <td>Zonal</td>\n",
              "      <td>55</td>\n",
              "    </tr>\n",
              "    <tr>\n",
              "      <th>10406</th>\n",
              "      <td>110381.jpg</td>\n",
              "      <td>tungro</td>\n",
              "      <td>Zonal</td>\n",
              "      <td>55</td>\n",
              "    </tr>\n",
              "  </tbody>\n",
              "</table>\n",
              "<p>10407 rows × 4 columns</p>\n",
              "</div>\n",
              "      <button class=\"colab-df-convert\" onclick=\"convertToInteractive('df-137df062-ab43-4648-89e3-b35e1f6e95a8')\"\n",
              "              title=\"Convert this dataframe to an interactive table.\"\n",
              "              style=\"display:none;\">\n",
              "        \n",
              "  <svg xmlns=\"http://www.w3.org/2000/svg\" height=\"24px\"viewBox=\"0 0 24 24\"\n",
              "       width=\"24px\">\n",
              "    <path d=\"M0 0h24v24H0V0z\" fill=\"none\"/>\n",
              "    <path d=\"M18.56 5.44l.94 2.06.94-2.06 2.06-.94-2.06-.94-.94-2.06-.94 2.06-2.06.94zm-11 1L8.5 8.5l.94-2.06 2.06-.94-2.06-.94L8.5 2.5l-.94 2.06-2.06.94zm10 10l.94 2.06.94-2.06 2.06-.94-2.06-.94-.94-2.06-.94 2.06-2.06.94z\"/><path d=\"M17.41 7.96l-1.37-1.37c-.4-.4-.92-.59-1.43-.59-.52 0-1.04.2-1.43.59L10.3 9.45l-7.72 7.72c-.78.78-.78 2.05 0 2.83L4 21.41c.39.39.9.59 1.41.59.51 0 1.02-.2 1.41-.59l7.78-7.78 2.81-2.81c.8-.78.8-2.07 0-2.86zM5.41 20L4 18.59l7.72-7.72 1.47 1.35L5.41 20z\"/>\n",
              "  </svg>\n",
              "      </button>\n",
              "      \n",
              "  <style>\n",
              "    .colab-df-container {\n",
              "      display:flex;\n",
              "      flex-wrap:wrap;\n",
              "      gap: 12px;\n",
              "    }\n",
              "\n",
              "    .colab-df-convert {\n",
              "      background-color: #E8F0FE;\n",
              "      border: none;\n",
              "      border-radius: 50%;\n",
              "      cursor: pointer;\n",
              "      display: none;\n",
              "      fill: #1967D2;\n",
              "      height: 32px;\n",
              "      padding: 0 0 0 0;\n",
              "      width: 32px;\n",
              "    }\n",
              "\n",
              "    .colab-df-convert:hover {\n",
              "      background-color: #E2EBFA;\n",
              "      box-shadow: 0px 1px 2px rgba(60, 64, 67, 0.3), 0px 1px 3px 1px rgba(60, 64, 67, 0.15);\n",
              "      fill: #174EA6;\n",
              "    }\n",
              "\n",
              "    [theme=dark] .colab-df-convert {\n",
              "      background-color: #3B4455;\n",
              "      fill: #D2E3FC;\n",
              "    }\n",
              "\n",
              "    [theme=dark] .colab-df-convert:hover {\n",
              "      background-color: #434B5C;\n",
              "      box-shadow: 0px 1px 3px 1px rgba(0, 0, 0, 0.15);\n",
              "      filter: drop-shadow(0px 1px 2px rgba(0, 0, 0, 0.3));\n",
              "      fill: #FFFFFF;\n",
              "    }\n",
              "  </style>\n",
              "\n",
              "      <script>\n",
              "        const buttonEl =\n",
              "          document.querySelector('#df-137df062-ab43-4648-89e3-b35e1f6e95a8 button.colab-df-convert');\n",
              "        buttonEl.style.display =\n",
              "          google.colab.kernel.accessAllowed ? 'block' : 'none';\n",
              "\n",
              "        async function convertToInteractive(key) {\n",
              "          const element = document.querySelector('#df-137df062-ab43-4648-89e3-b35e1f6e95a8');\n",
              "          const dataTable =\n",
              "            await google.colab.kernel.invokeFunction('convertToInteractive',\n",
              "                                                     [key], {});\n",
              "          if (!dataTable) return;\n",
              "\n",
              "          const docLinkHtml = 'Like what you see? Visit the ' +\n",
              "            '<a target=\"_blank\" href=https://colab.research.google.com/notebooks/data_table.ipynb>data table notebook</a>'\n",
              "            + ' to learn more about interactive tables.';\n",
              "          element.innerHTML = '';\n",
              "          dataTable['output_type'] = 'display_data';\n",
              "          await google.colab.output.renderOutput(dataTable, element);\n",
              "          const docLink = document.createElement('div');\n",
              "          docLink.innerHTML = docLinkHtml;\n",
              "          element.appendChild(docLink);\n",
              "        }\n",
              "      </script>\n",
              "    </div>\n",
              "  </div>\n",
              "  "
            ]
          },
          "metadata": {},
          "execution_count": 8
        }
      ]
    },
    {
      "cell_type": "code",
      "source": [
        "labels=list(np.unique(train_table['label']))\n",
        "labels"
      ],
      "metadata": {
        "colab": {
          "base_uri": "https://localhost:8080/"
        },
        "id": "SJnUw8yI6j-u",
        "outputId": "13b59df2-6e47-4bf4-b99c-4445694c6a59"
      },
      "execution_count": 9,
      "outputs": [
        {
          "output_type": "execute_result",
          "data": {
            "text/plain": [
              "['bacterial_leaf_blight',\n",
              " 'bacterial_leaf_streak',\n",
              " 'bacterial_panicle_blight',\n",
              " 'blast',\n",
              " 'brown_spot',\n",
              " 'dead_heart',\n",
              " 'downy_mildew',\n",
              " 'hispa',\n",
              " 'normal',\n",
              " 'tungro']"
            ]
          },
          "metadata": {},
          "execution_count": 9
        }
      ]
    },
    {
      "cell_type": "code",
      "source": [
        "train_dir= 'thesis/dataset/paddy_doctor/train/'\n",
        "val_dir= 'thesis/dataset/paddy_doctor/val/'\n",
        "img_size= 224\n",
        "\n",
        "train_files= posixpath.join(code_runtime, train_dir)\n",
        "test_files= posixpath.join(code_runtime, val_dir)\n",
        "\n",
        "train_data= tf.keras.utils.image_dataset_from_directory(train_files,\n",
        "                                                        labels='inferred',\n",
        "                                                        label_mode='categorical',\n",
        "                                                        validation_split=0.2,\n",
        "                                                        subset=\"training\",\n",
        "                                                        class_names=labels,\n",
        "                                                        color_mode='rgb',\n",
        "                                                        image_size=(img_size, img_size),\n",
        "                                                        shuffle=True,\n",
        "                                                        seed= 42,\n",
        "                                                        batch_size= 16)\n",
        "\n",
        "val_data= tf.keras.utils.image_dataset_from_directory(train_files,\n",
        "                                                        labels= 'inferred',\n",
        "                                                        label_mode='categorical',\n",
        "                                                        validation_split=0.2,\n",
        "                                                        subset=\"validation\",\n",
        "                                                        class_names= labels,\n",
        "                                                        color_mode='rgb',\n",
        "                                                        image_size=(img_size, img_size),\n",
        "                                                        shuffle=True,\n",
        "                                                        seed= 42,\n",
        "                                                        batch_size= 16)\n",
        "\n",
        "\n",
        "test_datagen= ImageDataGenerator()\n",
        "test_data= test_datagen.flow_from_directory(test_files,\n",
        "                                            target_size= (img_size, img_size),\n",
        "                                            batch_size= 16,\n",
        "                                            shuffle = False, \n",
        "                                            class_mode='categorical')"
      ],
      "metadata": {
        "colab": {
          "base_uri": "https://localhost:8080/"
        },
        "id": "ZOsJAOVU6naa",
        "outputId": "8e7ea126-1841-401c-8cfb-255fd36a6e94"
      },
      "execution_count": 10,
      "outputs": [
        {
          "output_type": "stream",
          "name": "stdout",
          "text": [
            "Found 14302 files belonging to 10 classes.\n",
            "Using 11442 files for training.\n",
            "Found 14302 files belonging to 10 classes.\n",
            "Using 2860 files for validation.\n",
            "Found 1500 images belonging to 10 classes.\n"
          ]
        }
      ]
    },
    {
      "cell_type": "code",
      "source": [
        "class_names = train_data.class_names\n",
        "print(class_names)"
      ],
      "metadata": {
        "colab": {
          "base_uri": "https://localhost:8080/"
        },
        "id": "3NskJ7ArhJWJ",
        "outputId": "4332e10f-cec6-4422-f847-9ac0233eba59"
      },
      "execution_count": 11,
      "outputs": [
        {
          "output_type": "stream",
          "name": "stdout",
          "text": [
            "['bacterial_leaf_blight', 'bacterial_leaf_streak', 'bacterial_panicle_blight', 'blast', 'brown_spot', 'dead_heart', 'downy_mildew', 'hispa', 'normal', 'tungro']\n"
          ]
        }
      ]
    },
    {
      "cell_type": "code",
      "source": [
        "test_data.class_indices"
      ],
      "metadata": {
        "colab": {
          "base_uri": "https://localhost:8080/"
        },
        "id": "g5lYz3u4bK77",
        "outputId": "14cdb8b2-a503-47d8-c3a0-531b1a4fcde0"
      },
      "execution_count": 12,
      "outputs": [
        {
          "output_type": "execute_result",
          "data": {
            "text/plain": [
              "{'bacterial_leaf_blight': 0,\n",
              " 'bacterial_leaf_streak': 1,\n",
              " 'bacterial_panicle_blight': 2,\n",
              " 'blast': 3,\n",
              " 'brown_spot': 4,\n",
              " 'dead_heart': 5,\n",
              " 'downy_mildew': 6,\n",
              " 'hispa': 7,\n",
              " 'normal': 8,\n",
              " 'tungro': 9}"
            ]
          },
          "metadata": {},
          "execution_count": 12
        }
      ]
    },
    {
      "cell_type": "markdown",
      "source": [
        "## Augmentation Pipeline"
      ],
      "metadata": {
        "id": "jvjXLOt4iFkj"
      }
    },
    {
      "cell_type": "code",
      "source": [
        "# data augmentation\n",
        "def augment_train_data(images, labels):\n",
        "  inputs= {\"images\": images, \"labels\": labels}\n",
        "  layers= keras_cv.layers.RandAugment.get_standard_policy(value_range=(0, 255), geometric= True, magnitude= 0.5, magnitude_stddev= 0.2)\n",
        "  layers= layers[1:3] + layers[8:] + [keras_cv.layers.preprocessing.RandomFlip(mode= 'horizontal'),\n",
        "                         keras_cv.layers.preprocessing.RandomRotation(0.2),\n",
        "                    keras_cv.layers.preprocessing.RandomRotation(factor= .1, seed= 42),\n",
        "                    keras_cv.layers.GridMask(ratio_factor= (.0, .3), rotation_factor= (.0,.1), fill_mode= 'gaussian_noise'), \n",
        "                    #keras_cv.layers.RandomColorJitter(brightness_factor= .5, contrast_factor= .5, hue_factor= .2, saturation_factor= (.1, .9), value_range= [0, 255])\n",
        "                    ]\n",
        "  aug_pipeline= keras_cv.layers.RandomAugmentationPipeline(layers= layers, augmentations_per_image= 3, rate= .5)\n",
        "  outputs= aug_pipeline(inputs)\n",
        "  print(*layers)\n",
        "  return outputs['images'], outputs['labels']"
      ],
      "metadata": {
        "id": "rIQR6MzoiG-A"
      },
      "execution_count": 28,
      "outputs": []
    },
    {
      "cell_type": "code",
      "source": [
        "AUTOTUNE= tf.data.AUTOTUNE\n",
        "train_aug_ds= train_data.map(augment_train_data, num_parallel_calls= tf.data.AUTOTUNE).prefetch(tf.data.AUTOTUNE)\n",
        "val_ds= val_data.prefetch(buffer_size= AUTOTUNE)"
      ],
      "metadata": {
        "colab": {
          "base_uri": "https://localhost:8080/"
        },
        "id": "ZDvxAwUfiVjJ",
        "outputId": "a94af009-d09a-4772-a3f5-80f492790687"
      },
      "execution_count": 29,
      "outputs": [
        {
          "output_type": "stream",
          "name": "stdout",
          "text": [
            "<keras_cv.layers.preprocessing.equalization.Equalization object at 0x7fdc8b3444d0> <keras_cv.layers.preprocessing.solarization.Solarization object at 0x7fdc8afa9510> <keras.layers.preprocessing.image_preprocessing.RandomTranslation object at 0x7fdc89ebe950> <keras.layers.preprocessing.image_preprocessing.RandomTranslation object at 0x7fdd1eef8690> <keras_cv.layers.preprocessing.random_flip.RandomFlip object at 0x7fdc8b030b90> <keras_cv.layers.preprocessing.random_rotation.RandomRotation object at 0x7fdc8b097f50> <keras_cv.layers.preprocessing.random_rotation.RandomRotation object at 0x7fdc8b0076d0> <keras_cv.layers.preprocessing.grid_mask.GridMask object at 0x7fdc8af42850>\n"
          ]
        }
      ]
    },
    {
      "cell_type": "markdown",
      "source": [
        "## VGG16 (Augmentation + Transfer Learning + Fine Tune)"
      ],
      "metadata": {
        "id": "ZdGqx8T3OC5O"
      }
    },
    {
      "cell_type": "code",
      "source": [
        "base_model= tf.keras.applications.VGG16(\n",
        "    include_top= False,\n",
        "    weights= 'imagenet',\n",
        "    input_shape=(img_size, img_size, 3),\n",
        "    pooling= 'max'\n",
        ")"
      ],
      "metadata": {
        "id": "Mg74WAkUc0IO"
      },
      "execution_count": 30,
      "outputs": []
    },
    {
      "cell_type": "code",
      "source": [
        "tf.keras.utils.plot_model(\n",
        "    base_model,\n",
        "    show_shapes= True,\n",
        "    show_dtype=False,\n",
        "    show_layer_names=True,\n",
        "    rankdir=\"TR\",\n",
        "    expand_nested=False,\n",
        "    dpi=72,\n",
        "    layer_range=None,\n",
        "    show_layer_activations=True,\n",
        ")"
      ],
      "metadata": {
        "colab": {
          "base_uri": "https://localhost:8080/",
          "height": 1000
        },
        "id": "vwEB5G2tXWvY",
        "outputId": "4dd8bd33-7db9-48c6-b1f9-821d85ea4c4d"
      },
      "execution_count": 31,
      "outputs": [
        {
          "output_type": "execute_result",
          "data": {
            "image/png": "[encoded data removed]",
            "text/plain": [
              "<IPython.core.display.Image object>"
            ]
          },
          "metadata": {},
          "execution_count": 31
        }
      ]
    },
    {
      "cell_type": "code",
      "source": [
        "inputs= tf.keras.Input(shape= (img_size, img_size, 3))\n",
        "preprocess_layer= tf.keras.applications.vgg16.preprocess_input(inputs)\n",
        "normalization_layer= tf.keras.layers.Rescaling(scale= 1./127.5, offset= -1)(preprocess_layer)\n",
        "x= base_model(normalization_layer)\n",
        "x= tf.keras.layers.Dropout(0.25)(x)\n",
        "x= tf.keras.layers.Dense(256, activation= 'relu')(x)\n",
        "x= tf.keras.layers.Dropout(0.2)(x)\n",
        "outputs= tf.keras.layers.Dense(10, activation= 'softmax')(x)"
      ],
      "metadata": {
        "id": "l9mR1azhWhJd"
      },
      "execution_count": 32,
      "outputs": []
    },
    {
      "cell_type": "code",
      "source": [
        "model= tf.keras.Model(inputs= inputs, outputs= outputs, name= \"vgg16_TL_augmentation\")"
      ],
      "metadata": {
        "id": "TS4VmA2QC32F"
      },
      "execution_count": 33,
      "outputs": []
    },
    {
      "cell_type": "code",
      "source": [
        "model.summary()"
      ],
      "metadata": {
        "colab": {
          "base_uri": "https://localhost:8080/"
        },
        "id": "bdDyJ_-CM6DD",
        "outputId": "f2b73318-bade-42ad-a6f8-c66eed50f13a"
      },
      "execution_count": 34,
      "outputs": [
        {
          "output_type": "stream",
          "name": "stdout",
          "text": [
            "Model: \"vgg16_TL_augmentation\"\n",
            "_________________________________________________________________\n",
            " Layer (type)                Output Shape              Param #   \n",
            "=================================================================\n",
            " input_4 (InputLayer)        [(None, 224, 224, 3)]     0         \n",
            "                                                                 \n",
            " tf.__operators__.getitem_1   (None, 224, 224, 3)      0         \n",
            " (SlicingOpLambda)                                               \n",
            "                                                                 \n",
            " tf.nn.bias_add_1 (TFOpLambd  (None, 224, 224, 3)      0         \n",
            " a)                                                              \n",
            "                                                                 \n",
            " rescaling_1 (Rescaling)     (None, 224, 224, 3)       0         \n",
            "                                                                 \n",
            " vgg16 (Functional)          (None, 512)               14714688  \n",
            "                                                                 \n",
            " dropout_2 (Dropout)         (None, 512)               0         \n",
            "                                                                 \n",
            " dense_2 (Dense)             (None, 256)               131328    \n",
            "                                                                 \n",
            " dropout_3 (Dropout)         (None, 256)               0         \n",
            "                                                                 \n",
            " dense_3 (Dense)             (None, 10)                2570      \n",
            "                                                                 \n",
            "=================================================================\n",
            "Total params: 14,848,586\n",
            "Trainable params: 14,848,586\n",
            "Non-trainable params: 0\n",
            "_________________________________________________________________\n"
          ]
        }
      ]
    },
    {
      "cell_type": "code",
      "source": [
        "tf.keras.utils.plot_model(\n",
        "    model,\n",
        "    show_shapes= True,\n",
        "    show_dtype=False,\n",
        "    show_layer_names=True,\n",
        "    rankdir=\"TR\",\n",
        "    expand_nested=False,\n",
        "    dpi=72,\n",
        "    layer_range=None,\n",
        "    show_layer_activations=True,\n",
        ")"
      ],
      "metadata": {
        "colab": {
          "base_uri": "https://localhost:8080/",
          "height": 736
        },
        "id": "omIMBz7MXhHZ",
        "outputId": "a1df5047-50b2-4cfb-b9ba-6330bcbea894"
      },
      "execution_count": 35,
      "outputs": [
        {
          "output_type": "execute_result",
          "data": {
            "image/png": "[encoded data removed]",
            "text/plain": [
              "<IPython.core.display.Image object>"
            ]
          },
          "metadata": {},
          "execution_count": 35
        }
      ]
    },
    {
      "cell_type": "code",
      "source": [
        "%%time\n",
        "n_epochs= 100\n",
        "\n",
        "filepath= \"weights-improvement-{epoch:02d}-{val_accuracy:.4f}.hdf5\"\n",
        "checkpoint_callback= ModelCheckpoint(filepath, monitor= 'val_accuracy', verbose= 1, save_best_only= True, mode= 'max')\n",
        "early_stop_callback= EarlyStopping(monitor='val_accuracy', patience= 10, verbose= 1, mode='max', restore_best_weights= True)\n",
        "callbacks_list=[checkpoint_callback, early_stop_callback]"
      ],
      "metadata": {
        "colab": {
          "base_uri": "https://localhost:8080/"
        },
        "id": "JEPSySyRXjtU",
        "outputId": "8b60a2a6-ea9a-4bb7-a5cb-7db55de550e1"
      },
      "execution_count": 36,
      "outputs": [
        {
          "output_type": "stream",
          "name": "stdout",
          "text": [
            "CPU times: user 101 µs, sys: 23 µs, total: 124 µs\n",
            "Wall time: 129 µs\n"
          ]
        }
      ]
    },
    {
      "cell_type": "code",
      "source": [
        "optimizer_adam_amsgrad= tf.keras.optimizers.Adam(learning_rate= 1e-3, amsgrad= True)\n",
        "optimizer_adam= tf.keras.optimizers.Adam(learning_rate= 1e-4, amsgrad= False)\n",
        "optimizer_sgd= tf.keras.optimizers.SGD(learning_rate= 1e-4, momentum= 0.9)"
      ],
      "metadata": {
        "id": "GTyzHOiIXpqF"
      },
      "execution_count": 37,
      "outputs": []
    },
    {
      "cell_type": "code",
      "source": [
        "model.compile(\n",
        "        optimizer = optimizer_sgd,\n",
        "        loss = 'categorical_crossentropy', \n",
        "        metrics = ['accuracy', tfa.metrics.F1Score(average='macro', num_classes= 10)]\n",
        "        )"
      ],
      "metadata": {
        "id": "YB-F0cnAFnky"
      },
      "execution_count": 38,
      "outputs": []
    },
    {
      "cell_type": "code",
      "source": [
        "history= model.fit(train_aug_ds,\n",
        "                  epochs= n_epochs,\n",
        "                  validation_data= val_ds,\n",
        "                  callbacks= callbacks_list,\n",
        "                  verbose= 1)"
      ],
      "metadata": {
        "colab": {
          "base_uri": "https://localhost:8080/"
        },
        "id": "QJmzjWyjX40y",
        "outputId": "2a983a35-a5cb-461b-eadc-f33db5349886"
      },
      "execution_count": 39,
      "outputs": [
        {
          "output_type": "stream",
          "name": "stdout",
          "text": [
            "Epoch 1/100\n",
            "716/716 [==============================] - ETA: 0s - loss: 2.1249 - accuracy: 0.2198 - f1_score: 0.2177\n",
            "Epoch 1: val_accuracy improved from -inf to 0.42762, saving model to weights-improvement-01-0.4276.hdf5\n",
            "716/716 [==============================] - 215s 300ms/step - loss: 2.1249 - accuracy: 0.2198 - f1_score: 0.2177 - val_loss: 1.6124 - val_accuracy: 0.4276 - val_f1_score: 0.3891\n",
            "Epoch 2/100\n",
            "714/716 [============================>.] - ETA: 0s - loss: 1.5445 - accuracy: 0.4460 - f1_score: 0.4437\n",
            "Epoch 2: val_accuracy improved from 0.42762 to 0.60000, saving model to weights-improvement-02-0.6000.hdf5\n",
            "716/716 [==============================] - 31s 43ms/step - loss: 1.5448 - accuracy: 0.4457 - f1_score: 0.4435 - val_loss: 1.1893 - val_accuracy: 0.6000 - val_f1_score: 0.5945\n",
            "Epoch 3/100\n",
            "714/716 [============================>.] - ETA: 0s - loss: 1.2154 - accuracy: 0.5752 - f1_score: 0.5707\n",
            "Epoch 3: val_accuracy improved from 0.60000 to 0.65280, saving model to weights-improvement-03-0.6528.hdf5\n",
            "716/716 [==============================] - 31s 43ms/step - loss: 1.2152 - accuracy: 0.5751 - f1_score: 0.5706 - val_loss: 0.9911 - val_accuracy: 0.6528 - val_f1_score: 0.6499\n",
            "Epoch 4/100\n",
            "715/716 [============================>.] - ETA: 0s - loss: 0.9768 - accuracy: 0.6667 - f1_score: 0.6630\n",
            "Epoch 4: val_accuracy improved from 0.65280 to 0.75699, saving model to weights-improvement-04-0.7570.hdf5\n",
            "716/716 [==============================] - 31s 43ms/step - loss: 0.9766 - accuracy: 0.6668 - f1_score: 0.6630 - val_loss: 0.7396 - val_accuracy: 0.7570 - val_f1_score: 0.7549\n",
            "Epoch 5/100\n",
            "715/716 [============================>.] - ETA: 0s - loss: 0.8076 - accuracy: 0.7223 - f1_score: 0.7197\n",
            "Epoch 5: val_accuracy improved from 0.75699 to 0.76469, saving model to weights-improvement-05-0.7647.hdf5\n",
            "716/716 [==============================] - 31s 43ms/step - loss: 0.8075 - accuracy: 0.7223 - f1_score: 0.7198 - val_loss: 0.7176 - val_accuracy: 0.7647 - val_f1_score: 0.7639\n",
            "Epoch 6/100\n",
            "714/716 [============================>.] - ETA: 0s - loss: 0.6503 - accuracy: 0.7748 - f1_score: 0.7730\n",
            "Epoch 6: val_accuracy improved from 0.76469 to 0.81538, saving model to weights-improvement-06-0.8154.hdf5\n",
            "716/716 [==============================] - 31s 43ms/step - loss: 0.6504 - accuracy: 0.7748 - f1_score: 0.7730 - val_loss: 0.5414 - val_accuracy: 0.8154 - val_f1_score: 0.8119\n",
            "Epoch 7/100\n",
            "715/716 [============================>.] - ETA: 0s - loss: 0.5398 - accuracy: 0.8198 - f1_score: 0.8184\n",
            "Epoch 7: val_accuracy improved from 0.81538 to 0.81958, saving model to weights-improvement-07-0.8196.hdf5\n",
            "716/716 [==============================] - 31s 43ms/step - loss: 0.5397 - accuracy: 0.8198 - f1_score: 0.8184 - val_loss: 0.5379 - val_accuracy: 0.8196 - val_f1_score: 0.8217\n",
            "Epoch 8/100\n",
            "715/716 [============================>.] - ETA: 0s - loss: 0.4527 - accuracy: 0.8461 - f1_score: 0.8446\n",
            "Epoch 8: val_accuracy improved from 0.81958 to 0.84790, saving model to weights-improvement-08-0.8479.hdf5\n",
            "716/716 [==============================] - 31s 43ms/step - loss: 0.4527 - accuracy: 0.8461 - f1_score: 0.8446 - val_loss: 0.4511 - val_accuracy: 0.8479 - val_f1_score: 0.8481\n",
            "Epoch 9/100\n",
            "715/716 [============================>.] - ETA: 0s - loss: 0.3817 - accuracy: 0.8718 - f1_score: 0.8711\n",
            "Epoch 9: val_accuracy improved from 0.84790 to 0.86643, saving model to weights-improvement-09-0.8664.hdf5\n",
            "716/716 [==============================] - 31s 43ms/step - loss: 0.3817 - accuracy: 0.8718 - f1_score: 0.8711 - val_loss: 0.4288 - val_accuracy: 0.8664 - val_f1_score: 0.8659\n",
            "Epoch 10/100\n",
            "715/716 [============================>.] - ETA: 0s - loss: 0.3352 - accuracy: 0.8839 - f1_score: 0.8832\n",
            "Epoch 10: val_accuracy improved from 0.86643 to 0.87483, saving model to weights-improvement-10-0.8748.hdf5\n",
            "716/716 [==============================] - 31s 42ms/step - loss: 0.3352 - accuracy: 0.8839 - f1_score: 0.8832 - val_loss: 0.4146 - val_accuracy: 0.8748 - val_f1_score: 0.8740\n",
            "Epoch 11/100\n",
            "714/716 [============================>.] - ETA: 0s - loss: 0.2799 - accuracy: 0.9087 - f1_score: 0.9083\n",
            "Epoch 11: val_accuracy improved from 0.87483 to 0.89091, saving model to weights-improvement-11-0.8909.hdf5\n",
            "716/716 [==============================] - 31s 42ms/step - loss: 0.2798 - accuracy: 0.9088 - f1_score: 0.9084 - val_loss: 0.3549 - val_accuracy: 0.8909 - val_f1_score: 0.8894\n",
            "Epoch 12/100\n",
            "714/716 [============================>.] - ETA: 0s - loss: 0.2368 - accuracy: 0.9210 - f1_score: 0.9206\n",
            "Epoch 12: val_accuracy did not improve from 0.89091\n",
            "716/716 [==============================] - 30s 42ms/step - loss: 0.2369 - accuracy: 0.9209 - f1_score: 0.9206 - val_loss: 0.3626 - val_accuracy: 0.8871 - val_f1_score: 0.8844\n",
            "Epoch 13/100\n",
            "714/716 [============================>.] - ETA: 0s - loss: 0.2259 - accuracy: 0.9253 - f1_score: 0.9250\n",
            "Epoch 13: val_accuracy improved from 0.89091 to 0.89965, saving model to weights-improvement-13-0.8997.hdf5\n",
            "716/716 [==============================] - 31s 43ms/step - loss: 0.2264 - accuracy: 0.9251 - f1_score: 0.9247 - val_loss: 0.3207 - val_accuracy: 0.8997 - val_f1_score: 0.8992\n",
            "Epoch 14/100\n",
            "715/716 [============================>.] - ETA: 0s - loss: 0.1800 - accuracy: 0.9391 - f1_score: 0.9389\n",
            "Epoch 14: val_accuracy improved from 0.89965 to 0.90280, saving model to weights-improvement-14-0.9028.hdf5\n",
            "716/716 [==============================] - 31s 42ms/step - loss: 0.1799 - accuracy: 0.9391 - f1_score: 0.9389 - val_loss: 0.3160 - val_accuracy: 0.9028 - val_f1_score: 0.9020\n",
            "Epoch 15/100\n",
            "715/716 [============================>.] - ETA: 0s - loss: 0.1488 - accuracy: 0.9532 - f1_score: 0.9531\n",
            "Epoch 15: val_accuracy improved from 0.90280 to 0.90769, saving model to weights-improvement-15-0.9077.hdf5\n",
            "716/716 [==============================] - 31s 43ms/step - loss: 0.1487 - accuracy: 0.9532 - f1_score: 0.9531 - val_loss: 0.3234 - val_accuracy: 0.9077 - val_f1_score: 0.9074\n",
            "Epoch 16/100\n",
            "714/716 [============================>.] - ETA: 0s - loss: 0.1263 - accuracy: 0.9611 - f1_score: 0.9610\n",
            "Epoch 16: val_accuracy did not improve from 0.90769\n",
            "716/716 [==============================] - 30s 42ms/step - loss: 0.1262 - accuracy: 0.9611 - f1_score: 0.9609 - val_loss: 0.3252 - val_accuracy: 0.9031 - val_f1_score: 0.9026\n",
            "Epoch 17/100\n",
            "714/716 [============================>.] - ETA: 0s - loss: 0.1061 - accuracy: 0.9644 - f1_score: 0.9641\n",
            "Epoch 17: val_accuracy did not improve from 0.90769\n",
            "716/716 [==============================] - 30s 42ms/step - loss: 0.1064 - accuracy: 0.9643 - f1_score: 0.9641 - val_loss: 0.3632 - val_accuracy: 0.8937 - val_f1_score: 0.8937\n",
            "Epoch 18/100\n",
            "714/716 [============================>.] - ETA: 0s - loss: 0.1333 - accuracy: 0.9591 - f1_score: 0.9593\n",
            "Epoch 18: val_accuracy improved from 0.90769 to 0.91189, saving model to weights-improvement-18-0.9119.hdf5\n",
            "716/716 [==============================] - 31s 43ms/step - loss: 0.1331 - accuracy: 0.9592 - f1_score: 0.9594 - val_loss: 0.2978 - val_accuracy: 0.9119 - val_f1_score: 0.9114\n",
            "Epoch 19/100\n",
            "715/716 [============================>.] - ETA: 0s - loss: 0.0939 - accuracy: 0.9695 - f1_score: 0.9695\n",
            "Epoch 19: val_accuracy did not improve from 0.91189\n",
            "716/716 [==============================] - 30s 42ms/step - loss: 0.0939 - accuracy: 0.9695 - f1_score: 0.9695 - val_loss: 0.4237 - val_accuracy: 0.9031 - val_f1_score: 0.9032\n",
            "Epoch 20/100\n",
            "715/716 [============================>.] - ETA: 0s - loss: 0.0869 - accuracy: 0.9715 - f1_score: 0.9714\n",
            "Epoch 20: val_accuracy improved from 0.91189 to 0.91608, saving model to weights-improvement-20-0.9161.hdf5\n",
            "716/716 [==============================] - 31s 43ms/step - loss: 0.0869 - accuracy: 0.9715 - f1_score: 0.9714 - val_loss: 0.3241 - val_accuracy: 0.9161 - val_f1_score: 0.9148\n",
            "Epoch 21/100\n",
            "715/716 [============================>.] - ETA: 0s - loss: 0.0755 - accuracy: 0.9751 - f1_score: 0.9750\n",
            "Epoch 21: val_accuracy did not improve from 0.91608\n",
            "716/716 [==============================] - 30s 42ms/step - loss: 0.0754 - accuracy: 0.9751 - f1_score: 0.9750 - val_loss: 0.3944 - val_accuracy: 0.8951 - val_f1_score: 0.8961\n",
            "Epoch 22/100\n",
            "715/716 [============================>.] - ETA: 0s - loss: 0.0682 - accuracy: 0.9809 - f1_score: 0.9809\n",
            "Epoch 22: val_accuracy improved from 0.91608 to 0.92343, saving model to weights-improvement-22-0.9234.hdf5\n",
            "716/716 [==============================] - 30s 42ms/step - loss: 0.0682 - accuracy: 0.9809 - f1_score: 0.9809 - val_loss: 0.3216 - val_accuracy: 0.9234 - val_f1_score: 0.9232\n",
            "Epoch 23/100\n",
            "715/716 [============================>.] - ETA: 0s - loss: 0.0637 - accuracy: 0.9802 - f1_score: 0.9802\n",
            "Epoch 23: val_accuracy did not improve from 0.92343\n",
            "716/716 [==============================] - 30s 42ms/step - loss: 0.0637 - accuracy: 0.9802 - f1_score: 0.9802 - val_loss: 0.2982 - val_accuracy: 0.9231 - val_f1_score: 0.9213\n",
            "Epoch 24/100\n",
            "715/716 [============================>.] - ETA: 0s - loss: 0.0553 - accuracy: 0.9838 - f1_score: 0.9838\n",
            "Epoch 24: val_accuracy did not improve from 0.92343\n",
            "716/716 [==============================] - 30s 42ms/step - loss: 0.0553 - accuracy: 0.9838 - f1_score: 0.9838 - val_loss: 0.3924 - val_accuracy: 0.9098 - val_f1_score: 0.9086\n",
            "Epoch 25/100\n",
            "715/716 [============================>.] - ETA: 0s - loss: 0.0487 - accuracy: 0.9843 - f1_score: 0.9843\n",
            "Epoch 25: val_accuracy did not improve from 0.92343\n",
            "716/716 [==============================] - 30s 42ms/step - loss: 0.0487 - accuracy: 0.9843 - f1_score: 0.9843 - val_loss: 0.3472 - val_accuracy: 0.9227 - val_f1_score: 0.9221\n",
            "Epoch 26/100\n",
            "715/716 [============================>.] - ETA: 0s - loss: 0.0446 - accuracy: 0.9850 - f1_score: 0.9850\n",
            "Epoch 26: val_accuracy improved from 0.92343 to 0.93042, saving model to weights-improvement-26-0.9304.hdf5\n",
            "716/716 [==============================] - 31s 42ms/step - loss: 0.0446 - accuracy: 0.9850 - f1_score: 0.9850 - val_loss: 0.3089 - val_accuracy: 0.9304 - val_f1_score: 0.9294\n",
            "Epoch 27/100\n",
            "715/716 [============================>.] - ETA: 0s - loss: 0.0517 - accuracy: 0.9835 - f1_score: 0.9835\n",
            "Epoch 27: val_accuracy did not improve from 0.93042\n",
            "716/716 [==============================] - 30s 42ms/step - loss: 0.0517 - accuracy: 0.9835 - f1_score: 0.9835 - val_loss: 0.2959 - val_accuracy: 0.9210 - val_f1_score: 0.9202\n",
            "Epoch 28/100\n",
            "714/716 [============================>.] - ETA: 0s - loss: 0.0430 - accuracy: 0.9870 - f1_score: 0.9869\n",
            "Epoch 28: val_accuracy did not improve from 0.93042\n",
            "716/716 [==============================] - 30s 42ms/step - loss: 0.0429 - accuracy: 0.9871 - f1_score: 0.9869 - val_loss: 0.2719 - val_accuracy: 0.9294 - val_f1_score: 0.9286\n",
            "Epoch 29/100\n",
            "715/716 [============================>.] - ETA: 0s - loss: 0.0320 - accuracy: 0.9904 - f1_score: 0.9904\n",
            "Epoch 29: val_accuracy did not improve from 0.93042\n",
            "716/716 [==============================] - 30s 42ms/step - loss: 0.0320 - accuracy: 0.9904 - f1_score: 0.9904 - val_loss: 0.3263 - val_accuracy: 0.9287 - val_f1_score: 0.9284\n",
            "Epoch 30/100\n",
            "715/716 [============================>.] - ETA: 0s - loss: 0.0371 - accuracy: 0.9887 - f1_score: 0.9887\n",
            "Epoch 30: val_accuracy did not improve from 0.93042\n",
            "716/716 [==============================] - 30s 42ms/step - loss: 0.0371 - accuracy: 0.9887 - f1_score: 0.9887 - val_loss: 0.3315 - val_accuracy: 0.9238 - val_f1_score: 0.9244\n",
            "Epoch 31/100\n",
            "715/716 [============================>.] - ETA: 0s - loss: 0.0412 - accuracy: 0.9867 - f1_score: 0.9867\n",
            "Epoch 31: val_accuracy did not improve from 0.93042\n",
            "716/716 [==============================] - 30s 42ms/step - loss: 0.0412 - accuracy: 0.9867 - f1_score: 0.9867 - val_loss: 0.3216 - val_accuracy: 0.9178 - val_f1_score: 0.9168\n",
            "Epoch 32/100\n",
            "715/716 [============================>.] - ETA: 0s - loss: 0.0349 - accuracy: 0.9894 - f1_score: 0.9894\n",
            "Epoch 32: val_accuracy did not improve from 0.93042\n",
            "716/716 [==============================] - 30s 42ms/step - loss: 0.0349 - accuracy: 0.9894 - f1_score: 0.9894 - val_loss: 0.3381 - val_accuracy: 0.9196 - val_f1_score: 0.9191\n",
            "Epoch 33/100\n",
            "715/716 [============================>.] - ETA: 0s - loss: 0.0398 - accuracy: 0.9881 - f1_score: 0.9881\n",
            "Epoch 33: val_accuracy did not improve from 0.93042\n",
            "716/716 [==============================] - 30s 42ms/step - loss: 0.0398 - accuracy: 0.9881 - f1_score: 0.9881 - val_loss: 0.3591 - val_accuracy: 0.9210 - val_f1_score: 0.9207\n",
            "Epoch 34/100\n",
            "715/716 [============================>.] - ETA: 0s - loss: 0.0298 - accuracy: 0.9906 - f1_score: 0.9906\n",
            "Epoch 34: val_accuracy did not improve from 0.93042\n",
            "716/716 [==============================] - 30s 42ms/step - loss: 0.0298 - accuracy: 0.9906 - f1_score: 0.9906 - val_loss: 0.2730 - val_accuracy: 0.9304 - val_f1_score: 0.9303\n",
            "Epoch 35/100\n",
            "714/716 [============================>.] - ETA: 0s - loss: 0.0217 - accuracy: 0.9934 - f1_score: 0.9935\n",
            "Epoch 35: val_accuracy did not improve from 0.93042\n",
            "716/716 [==============================] - 30s 42ms/step - loss: 0.0217 - accuracy: 0.9934 - f1_score: 0.9935 - val_loss: 0.3064 - val_accuracy: 0.9287 - val_f1_score: 0.9282\n",
            "Epoch 36/100\n",
            "715/716 [============================>.] - ETA: 0s - loss: 0.0232 - accuracy: 0.9927 - f1_score: 0.9926\n",
            "Epoch 36: val_accuracy improved from 0.93042 to 0.93217, saving model to weights-improvement-36-0.9322.hdf5\n",
            "716/716 [==============================] - 31s 43ms/step - loss: 0.0232 - accuracy: 0.9927 - f1_score: 0.9926 - val_loss: 0.3281 - val_accuracy: 0.9322 - val_f1_score: 0.9317\n",
            "Epoch 37/100\n",
            "714/716 [============================>.] - ETA: 0s - loss: 0.0157 - accuracy: 0.9959 - f1_score: 0.9959\n",
            "Epoch 37: val_accuracy did not improve from 0.93217\n",
            "716/716 [==============================] - 30s 42ms/step - loss: 0.0158 - accuracy: 0.9958 - f1_score: 0.9958 - val_loss: 0.3149 - val_accuracy: 0.9290 - val_f1_score: 0.9284\n",
            "Epoch 38/100\n",
            "714/716 [============================>.] - ETA: 0s - loss: 0.0267 - accuracy: 0.9916 - f1_score: 0.9915\n",
            "Epoch 38: val_accuracy did not improve from 0.93217\n",
            "716/716 [==============================] - 30s 42ms/step - loss: 0.0267 - accuracy: 0.9916 - f1_score: 0.9915 - val_loss: 0.3555 - val_accuracy: 0.9217 - val_f1_score: 0.9220\n",
            "Epoch 39/100\n",
            "714/716 [============================>.] - ETA: 0s - loss: 0.0240 - accuracy: 0.9931 - f1_score: 0.9931\n",
            "Epoch 39: val_accuracy did not improve from 0.93217\n",
            "716/716 [==============================] - 30s 42ms/step - loss: 0.0240 - accuracy: 0.9931 - f1_score: 0.9931 - val_loss: 0.3222 - val_accuracy: 0.9318 - val_f1_score: 0.9315\n",
            "Epoch 40/100\n",
            "715/716 [============================>.] - ETA: 0s - loss: 0.0140 - accuracy: 0.9958 - f1_score: 0.9958\n",
            "Epoch 40: val_accuracy did not improve from 0.93217\n",
            "716/716 [==============================] - 30s 42ms/step - loss: 0.0140 - accuracy: 0.9958 - f1_score: 0.9958 - val_loss: 0.3283 - val_accuracy: 0.9308 - val_f1_score: 0.9302\n",
            "Epoch 41/100\n",
            "715/716 [============================>.] - ETA: 0s - loss: 0.0273 - accuracy: 0.9927 - f1_score: 0.9927\n",
            "Epoch 41: val_accuracy improved from 0.93217 to 0.93252, saving model to weights-improvement-41-0.9325.hdf5\n",
            "716/716 [==============================] - 31s 42ms/step - loss: 0.0273 - accuracy: 0.9927 - f1_score: 0.9927 - val_loss: 0.3474 - val_accuracy: 0.9325 - val_f1_score: 0.9323\n",
            "Epoch 42/100\n",
            "715/716 [============================>.] - ETA: 0s - loss: 0.0226 - accuracy: 0.9926 - f1_score: 0.9925\n",
            "Epoch 42: val_accuracy did not improve from 0.93252\n",
            "716/716 [==============================] - 30s 42ms/step - loss: 0.0226 - accuracy: 0.9926 - f1_score: 0.9925 - val_loss: 0.3446 - val_accuracy: 0.9276 - val_f1_score: 0.9271\n",
            "Epoch 43/100\n",
            "715/716 [============================>.] - ETA: 0s - loss: 0.0144 - accuracy: 0.9955 - f1_score: 0.9955\n",
            "Epoch 43: val_accuracy did not improve from 0.93252\n",
            "716/716 [==============================] - 30s 42ms/step - loss: 0.0144 - accuracy: 0.9955 - f1_score: 0.9955 - val_loss: 0.3463 - val_accuracy: 0.9290 - val_f1_score: 0.9286\n",
            "Epoch 44/100\n",
            "715/716 [============================>.] - ETA: 0s - loss: 0.0154 - accuracy: 0.9954 - f1_score: 0.9953\n",
            "Epoch 44: val_accuracy improved from 0.93252 to 0.93322, saving model to weights-improvement-44-0.9332.hdf5\n",
            "716/716 [==============================] - 30s 42ms/step - loss: 0.0154 - accuracy: 0.9954 - f1_score: 0.9953 - val_loss: 0.3077 - val_accuracy: 0.9332 - val_f1_score: 0.9328\n",
            "Epoch 45/100\n",
            "715/716 [============================>.] - ETA: 0s - loss: 0.0182 - accuracy: 0.9952 - f1_score: 0.9952\n",
            "Epoch 45: val_accuracy improved from 0.93322 to 0.93531, saving model to weights-improvement-45-0.9353.hdf5\n",
            "716/716 [==============================] - 30s 42ms/step - loss: 0.0182 - accuracy: 0.9952 - f1_score: 0.9952 - val_loss: 0.3138 - val_accuracy: 0.9353 - val_f1_score: 0.9347\n",
            "Epoch 46/100\n",
            "715/716 [============================>.] - ETA: 0s - loss: 0.0136 - accuracy: 0.9957 - f1_score: 0.9957\n",
            "Epoch 46: val_accuracy improved from 0.93531 to 0.93776, saving model to weights-improvement-46-0.9378.hdf5\n",
            "716/716 [==============================] - 31s 43ms/step - loss: 0.0136 - accuracy: 0.9957 - f1_score: 0.9957 - val_loss: 0.2992 - val_accuracy: 0.9378 - val_f1_score: 0.9374\n",
            "Epoch 47/100\n",
            "714/716 [============================>.] - ETA: 0s - loss: 0.0190 - accuracy: 0.9946 - f1_score: 0.9945\n",
            "Epoch 47: val_accuracy did not improve from 0.93776\n",
            "716/716 [==============================] - 30s 42ms/step - loss: 0.0190 - accuracy: 0.9946 - f1_score: 0.9945 - val_loss: 0.3486 - val_accuracy: 0.9304 - val_f1_score: 0.9301\n",
            "Epoch 48/100\n",
            "715/716 [============================>.] - ETA: 0s - loss: 0.0153 - accuracy: 0.9955 - f1_score: 0.9955\n",
            "Epoch 48: val_accuracy did not improve from 0.93776\n",
            "716/716 [==============================] - 30s 42ms/step - loss: 0.0153 - accuracy: 0.9955 - f1_score: 0.9956 - val_loss: 0.3277 - val_accuracy: 0.9294 - val_f1_score: 0.9287\n",
            "Epoch 49/100\n",
            "714/716 [============================>.] - ETA: 0s - loss: 0.0147 - accuracy: 0.9957 - f1_score: 0.9957\n",
            "Epoch 49: val_accuracy did not improve from 0.93776\n",
            "716/716 [==============================] - 30s 42ms/step - loss: 0.0147 - accuracy: 0.9957 - f1_score: 0.9957 - val_loss: 0.3453 - val_accuracy: 0.9294 - val_f1_score: 0.9292\n",
            "Epoch 50/100\n",
            "715/716 [============================>.] - ETA: 0s - loss: 0.0114 - accuracy: 0.9962 - f1_score: 0.9963\n",
            "Epoch 50: val_accuracy did not improve from 0.93776\n",
            "716/716 [==============================] - 30s 42ms/step - loss: 0.0114 - accuracy: 0.9962 - f1_score: 0.9963 - val_loss: 0.2897 - val_accuracy: 0.9329 - val_f1_score: 0.9321\n",
            "Epoch 51/100\n",
            "715/716 [============================>.] - ETA: 0s - loss: 0.0137 - accuracy: 0.9957 - f1_score: 0.9957\n",
            "Epoch 51: val_accuracy did not improve from 0.93776\n",
            "716/716 [==============================] - 30s 42ms/step - loss: 0.0137 - accuracy: 0.9957 - f1_score: 0.9957 - val_loss: 0.3007 - val_accuracy: 0.9367 - val_f1_score: 0.9362\n",
            "Epoch 52/100\n",
            "714/716 [============================>.] - ETA: 0s - loss: 0.0125 - accuracy: 0.9965 - f1_score: 0.9965\n",
            "Epoch 52: val_accuracy did not improve from 0.93776\n",
            "716/716 [==============================] - 30s 42ms/step - loss: 0.0126 - accuracy: 0.9964 - f1_score: 0.9964 - val_loss: 0.3132 - val_accuracy: 0.9301 - val_f1_score: 0.9292\n",
            "Epoch 53/100\n",
            "715/716 [============================>.] - ETA: 0s - loss: 0.0135 - accuracy: 0.9957 - f1_score: 0.9956\n",
            "Epoch 53: val_accuracy did not improve from 0.93776\n",
            "716/716 [==============================] - 30s 42ms/step - loss: 0.0135 - accuracy: 0.9957 - f1_score: 0.9956 - val_loss: 0.3183 - val_accuracy: 0.9364 - val_f1_score: 0.9358\n",
            "Epoch 54/100\n",
            "715/716 [============================>.] - ETA: 0s - loss: 0.0093 - accuracy: 0.9970 - f1_score: 0.9970\n",
            "Epoch 54: val_accuracy did not improve from 0.93776\n",
            "716/716 [==============================] - 30s 42ms/step - loss: 0.0093 - accuracy: 0.9970 - f1_score: 0.9970 - val_loss: 0.3210 - val_accuracy: 0.9339 - val_f1_score: 0.9337\n",
            "Epoch 55/100\n",
            "715/716 [============================>.] - ETA: 0s - loss: 0.0157 - accuracy: 0.9947 - f1_score: 0.9947\n",
            "Epoch 55: val_accuracy did not improve from 0.93776\n",
            "716/716 [==============================] - 30s 42ms/step - loss: 0.0157 - accuracy: 0.9947 - f1_score: 0.9947 - val_loss: 0.2977 - val_accuracy: 0.9364 - val_f1_score: 0.9360\n",
            "Epoch 56/100\n",
            "714/716 [============================>.] - ETA: 0s - loss: 0.0075 - accuracy: 0.9983 - f1_score: 0.9983\n",
            "Epoch 56: val_accuracy did not improve from 0.93776\n",
            "Restoring model weights from the end of the best epoch: 46.\n",
            "716/716 [==============================] - 30s 42ms/step - loss: 0.0074 - accuracy: 0.9983 - f1_score: 0.9983 - val_loss: 0.3174 - val_accuracy: 0.9329 - val_f1_score: 0.9325\n",
            "Epoch 56: early stopping\n"
          ]
        }
      ]
    },
    {
      "cell_type": "code",
      "source": [
        "model.evaluate(test_data, batch_size= 16, return_dict= True)"
      ],
      "metadata": {
        "colab": {
          "base_uri": "https://localhost:8080/"
        },
        "id": "I2xN4seoYV2b",
        "outputId": "b4650cd9-2ac0-4c05-bb9d-3b73ca8892b0"
      },
      "execution_count": 40,
      "outputs": [
        {
          "output_type": "stream",
          "name": "stdout",
          "text": [
            "94/94 [==============================] - 260s 3s/step - loss: 0.3131 - accuracy: 0.9433 - f1_score: 0.9432\n"
          ]
        },
        {
          "output_type": "execute_result",
          "data": {
            "text/plain": [
              "{'loss': 0.31310051679611206,\n",
              " 'accuracy': 0.9433333277702332,\n",
              " 'f1_score': 0.9432026147842407}"
            ]
          },
          "metadata": {},
          "execution_count": 40
        }
      ]
    },
    {
      "cell_type": "code",
      "source": [
        "# Generating Confusion Matrix and Classification Report\n",
        "Y_pred= model.predict_generator(test_data, 1500// 16 + 1)\n",
        "y_pred= np.argmax(Y_pred, axis= 1)\n",
        "print('Confusion Matrix')\n",
        "conf_matrix= confusion_matrix(test_data.classes, y_pred)\n",
        "conf_mat = np.array2string(conf_matrix)\n",
        "#print(conf_matrix)\n",
        "#print(\"=============================================================================================\")\n",
        "print('Classification Report')\n",
        "target_names= test_data.class_indices\n",
        "class_rep_vgg = classification_report(test_data.classes, y_pred, target_names=target_names)\n",
        "print(class_rep_vgg)"
      ],
      "metadata": {
        "colab": {
          "base_uri": "https://localhost:8080/"
        },
        "id": "EAjGmcc2YZVY",
        "outputId": "af65c28b-7ae0-41c1-94b2-5588edf229f9"
      },
      "execution_count": 41,
      "outputs": [
        {
          "output_type": "stream",
          "name": "stderr",
          "text": [
            "/usr/local/lib/python3.7/dist-packages/ipykernel_launcher.py:2: UserWarning: `Model.predict_generator` is deprecated and will be removed in a future version. Please use `Model.predict`, which supports generators.\n",
            "  \n"
          ]
        },
        {
          "output_type": "stream",
          "name": "stdout",
          "text": [
            "Confusion Matrix\n",
            "Classification Report\n",
            "                          precision    recall  f1-score   support\n",
            "\n",
            "   bacterial_leaf_blight       0.95      0.87      0.91       150\n",
            "   bacterial_leaf_streak       0.96      0.97      0.96       150\n",
            "bacterial_panicle_blight       0.98      0.95      0.96       150\n",
            "                   blast       0.90      0.97      0.94       150\n",
            "              brown_spot       0.92      0.94      0.93       150\n",
            "              dead_heart       0.94      0.99      0.96       150\n",
            "            downy_mildew       0.95      0.92      0.93       150\n",
            "                   hispa       0.96      0.93      0.95       150\n",
            "                  normal       0.94      0.96      0.95       150\n",
            "                  tungro       0.95      0.93      0.94       150\n",
            "\n",
            "                accuracy                           0.94      1500\n",
            "               macro avg       0.94      0.94      0.94      1500\n",
            "            weighted avg       0.94      0.94      0.94      1500\n",
            "\n"
          ]
        }
      ]
    },
    {
      "cell_type": "code",
      "source": [
        "ConfusionMatrixDisplay.from_predictions(test_data.classes, y_pred, display_labels= target_names, xticks_rotation= 'vertical')"
      ],
      "metadata": {
        "colab": {
          "base_uri": "https://localhost:8080/",
          "height": 406
        },
        "id": "tT3VcrsgYdGx",
        "outputId": "05877ee4-c5a8-45fd-b212-11953cc1519e"
      },
      "execution_count": 42,
      "outputs": [
        {
          "output_type": "execute_result",
          "data": {
            "text/plain": [
              "<sklearn.metrics._plot.confusion_matrix.ConfusionMatrixDisplay at 0x7fdc882f32d0>"
            ]
          },
          "metadata": {},
          "execution_count": 42
        },
        {
          "output_type": "display_data",
          "data": {
            "text/plain": [
              "<Figure size 432x288 with 2 Axes>"
            ],
            "image/png": "[encoded data removed]"
          },
          "metadata": {
            "needs_background": "light"
          }
        }
      ]
    }
  ]
}