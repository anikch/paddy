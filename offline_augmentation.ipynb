{
  "nbformat": 4,
  "nbformat_minor": 0,
  "metadata": {
    "colab": {
      "name": "offline_augmentation.ipynb",
      "provenance": [],
      "mount_file_id": "1M4YIiBbdUvvEf8e51nEwcqOrCSWOy8WA",
      "authorship_tag": "ABX9TyNVArDNWA3Q387Rtwv9RPO1",
      "include_colab_link": true
    },
    "kernelspec": {
      "name": "python3",
      "display_name": "Python 3"
    },
    "language_info": {
      "name": "python"
    }
  },
  "cells": [
    {
      "cell_type": "markdown",
      "metadata": {
        "id": "view-in-github",
        "colab_type": "text"
      },
      "source": [
        "<a href=\"https://colab.research.google.com/github/anikch/paddy/blob/main/offline_augmentation.ipynb\" target=\"_parent\"><img src=\"https://colab.research.google.com/assets/colab-badge.svg\" alt=\"Open In Colab\"/></a>"
      ]
    },
    {
      "cell_type": "code",
      "execution_count": 1,
      "metadata": {
        "colab": {
          "base_uri": "https://localhost:8080/"
        },
        "id": "ShcfNxlHOiOA",
        "outputId": "2fb73587-b2f1-4511-b6b7-b3a3ab17105f"
      },
      "outputs": [
        {
          "output_type": "stream",
          "name": "stdout",
          "text": [
            "Looking in indexes: https://pypi.org/simple, https://us-python.pkg.dev/colab-wheels/public/simple/\n",
            "Collecting Augmentor\n",
            "  Downloading Augmentor-0.2.10-py2.py3-none-any.whl (38 kB)\n",
            "Requirement already satisfied: numpy>=1.11.0 in /usr/local/lib/python3.7/dist-packages (from Augmentor) (1.21.6)\n",
            "Requirement already satisfied: Pillow>=5.2.0 in /usr/local/lib/python3.7/dist-packages (from Augmentor) (7.1.2)\n",
            "Requirement already satisfied: future>=0.16.0 in /usr/local/lib/python3.7/dist-packages (from Augmentor) (0.16.0)\n",
            "Requirement already satisfied: tqdm>=4.9.0 in /usr/local/lib/python3.7/dist-packages (from Augmentor) (4.64.0)\n",
            "Installing collected packages: Augmentor\n",
            "Successfully installed Augmentor-0.2.10\n"
          ]
        }
      ],
      "source": [
        "!pip install Augmentor"
      ]
    },
    {
      "cell_type": "code",
      "source": [
        "from google.colab import drive\n",
        "drive.mount('/content/drive')"
      ],
      "metadata": {
        "colab": {
          "base_uri": "https://localhost:8080/"
        },
        "id": "VCwd_RnWO0Qb",
        "outputId": "405d68ab-1838-4f9d-c2cd-0595466fd669"
      },
      "execution_count": 2,
      "outputs": [
        {
          "output_type": "stream",
          "name": "stdout",
          "text": [
            "Mounted at /content/drive\n"
          ]
        }
      ]
    },
    {
      "cell_type": "code",
      "source": [
        "from glob import glob\n",
        "import os\n",
        "import pandas as pd\n",
        "\n",
        "train_directory= '/content/drive/MyDrive/thesis/dataset/paddy_doctor/train_images'\n",
        "train_files= list(glob(os.path.join(train_directory, '*', '*.jpg')))\n",
        "train_labels= list(map(lambda x: x.split('/')[-2], train_files))\n",
        "original_df= pd.DataFrame(list(zip(train_files, train_labels)), columns= ['Path','Label'])\n",
        "original_df.head()"
      ],
      "metadata": {
        "colab": {
          "base_uri": "https://localhost:8080/",
          "height": 206
        },
        "id": "ZDjS-GNlPbaa",
        "outputId": "0ed06795-d127-48bf-995c-5bf02a0387d4"
      },
      "execution_count": 5,
      "outputs": [
        {
          "output_type": "execute_result",
          "data": {
            "text/plain": [
              "                                                Path                  Label\n",
              "0  /content/drive/MyDrive/thesis/dataset/paddy_do...  bacterial_leaf_blight\n",
              "1  /content/drive/MyDrive/thesis/dataset/paddy_do...  bacterial_leaf_blight\n",
              "2  /content/drive/MyDrive/thesis/dataset/paddy_do...  bacterial_leaf_blight\n",
              "3  /content/drive/MyDrive/thesis/dataset/paddy_do...  bacterial_leaf_blight\n",
              "4  /content/drive/MyDrive/thesis/dataset/paddy_do...  bacterial_leaf_blight"
            ],
            "text/html": [
              "\n",
              "  <div id=\"df-c38fe933-4eb5-4500-8e1c-7268067e3724\">\n",
              "    <div class=\"colab-df-container\">\n",
              "      <div>\n",
              "<style scoped>\n",
              "    .dataframe tbody tr th:only-of-type {\n",
              "        vertical-align: middle;\n",
              "    }\n",
              "\n",
              "    .dataframe tbody tr th {\n",
              "        vertical-align: top;\n",
              "    }\n",
              "\n",
              "    .dataframe thead th {\n",
              "        text-align: right;\n",
              "    }\n",
              "</style>\n",
              "<table border=\"1\" class=\"dataframe\">\n",
              "  <thead>\n",
              "    <tr style=\"text-align: right;\">\n",
              "      <th></th>\n",
              "      <th>Path</th>\n",
              "      <th>Label</th>\n",
              "    </tr>\n",
              "  </thead>\n",
              "  <tbody>\n",
              "    <tr>\n",
              "      <th>0</th>\n",
              "      <td>/content/drive/MyDrive/thesis/dataset/paddy_do...</td>\n",
              "      <td>bacterial_leaf_blight</td>\n",
              "    </tr>\n",
              "    <tr>\n",
              "      <th>1</th>\n",
              "      <td>/content/drive/MyDrive/thesis/dataset/paddy_do...</td>\n",
              "      <td>bacterial_leaf_blight</td>\n",
              "    </tr>\n",
              "    <tr>\n",
              "      <th>2</th>\n",
              "      <td>/content/drive/MyDrive/thesis/dataset/paddy_do...</td>\n",
              "      <td>bacterial_leaf_blight</td>\n",
              "    </tr>\n",
              "    <tr>\n",
              "      <th>3</th>\n",
              "      <td>/content/drive/MyDrive/thesis/dataset/paddy_do...</td>\n",
              "      <td>bacterial_leaf_blight</td>\n",
              "    </tr>\n",
              "    <tr>\n",
              "      <th>4</th>\n",
              "      <td>/content/drive/MyDrive/thesis/dataset/paddy_do...</td>\n",
              "      <td>bacterial_leaf_blight</td>\n",
              "    </tr>\n",
              "  </tbody>\n",
              "</table>\n",
              "</div>\n",
              "      <button class=\"colab-df-convert\" onclick=\"convertToInteractive('df-c38fe933-4eb5-4500-8e1c-7268067e3724')\"\n",
              "              title=\"Convert this dataframe to an interactive table.\"\n",
              "              style=\"display:none;\">\n",
              "        \n",
              "  <svg xmlns=\"http://www.w3.org/2000/svg\" height=\"24px\"viewBox=\"0 0 24 24\"\n",
              "       width=\"24px\">\n",
              "    <path d=\"M0 0h24v24H0V0z\" fill=\"none\"/>\n",
              "    <path d=\"M18.56 5.44l.94 2.06.94-2.06 2.06-.94-2.06-.94-.94-2.06-.94 2.06-2.06.94zm-11 1L8.5 8.5l.94-2.06 2.06-.94-2.06-.94L8.5 2.5l-.94 2.06-2.06.94zm10 10l.94 2.06.94-2.06 2.06-.94-2.06-.94-.94-2.06-.94 2.06-2.06.94z\"/><path d=\"M17.41 7.96l-1.37-1.37c-.4-.4-.92-.59-1.43-.59-.52 0-1.04.2-1.43.59L10.3 9.45l-7.72 7.72c-.78.78-.78 2.05 0 2.83L4 21.41c.39.39.9.59 1.41.59.51 0 1.02-.2 1.41-.59l7.78-7.78 2.81-2.81c.8-.78.8-2.07 0-2.86zM5.41 20L4 18.59l7.72-7.72 1.47 1.35L5.41 20z\"/>\n",
              "  </svg>\n",
              "      </button>\n",
              "      \n",
              "  <style>\n",
              "    .colab-df-container {\n",
              "      display:flex;\n",
              "      flex-wrap:wrap;\n",
              "      gap: 12px;\n",
              "    }\n",
              "\n",
              "    .colab-df-convert {\n",
              "      background-color: #E8F0FE;\n",
              "      border: none;\n",
              "      border-radius: 50%;\n",
              "      cursor: pointer;\n",
              "      display: none;\n",
              "      fill: #1967D2;\n",
              "      height: 32px;\n",
              "      padding: 0 0 0 0;\n",
              "      width: 32px;\n",
              "    }\n",
              "\n",
              "    .colab-df-convert:hover {\n",
              "      background-color: #E2EBFA;\n",
              "      box-shadow: 0px 1px 2px rgba(60, 64, 67, 0.3), 0px 1px 3px 1px rgba(60, 64, 67, 0.15);\n",
              "      fill: #174EA6;\n",
              "    }\n",
              "\n",
              "    [theme=dark] .colab-df-convert {\n",
              "      background-color: #3B4455;\n",
              "      fill: #D2E3FC;\n",
              "    }\n",
              "\n",
              "    [theme=dark] .colab-df-convert:hover {\n",
              "      background-color: #434B5C;\n",
              "      box-shadow: 0px 1px 3px 1px rgba(0, 0, 0, 0.15);\n",
              "      filter: drop-shadow(0px 1px 2px rgba(0, 0, 0, 0.3));\n",
              "      fill: #FFFFFF;\n",
              "    }\n",
              "  </style>\n",
              "\n",
              "      <script>\n",
              "        const buttonEl =\n",
              "          document.querySelector('#df-c38fe933-4eb5-4500-8e1c-7268067e3724 button.colab-df-convert');\n",
              "        buttonEl.style.display =\n",
              "          google.colab.kernel.accessAllowed ? 'block' : 'none';\n",
              "\n",
              "        async function convertToInteractive(key) {\n",
              "          const element = document.querySelector('#df-c38fe933-4eb5-4500-8e1c-7268067e3724');\n",
              "          const dataTable =\n",
              "            await google.colab.kernel.invokeFunction('convertToInteractive',\n",
              "                                                     [key], {});\n",
              "          if (!dataTable) return;\n",
              "\n",
              "          const docLinkHtml = 'Like what you see? Visit the ' +\n",
              "            '<a target=\"_blank\" href=https://colab.research.google.com/notebooks/data_table.ipynb>data table notebook</a>'\n",
              "            + ' to learn more about interactive tables.';\n",
              "          element.innerHTML = '';\n",
              "          dataTable['output_type'] = 'display_data';\n",
              "          await google.colab.output.renderOutput(dataTable, element);\n",
              "          const docLink = document.createElement('div');\n",
              "          docLink.innerHTML = docLinkHtml;\n",
              "          element.appendChild(docLink);\n",
              "        }\n",
              "      </script>\n",
              "    </div>\n",
              "  </div>\n",
              "  "
            ]
          },
          "metadata": {},
          "execution_count": 5
        }
      ]
    },
    {
      "cell_type": "code",
      "source": [
        "# Plotting using countplot\n",
        "import matplotlib.pyplot as plt\n",
        "import seaborn as sns\n",
        "\n",
        "plt.figure(figsize= (12,7))\n",
        "plt.title('No. observations for each class')\n",
        "plt.xticks(rotation= 30, ha= 'right')\n",
        "sns.countplot(data= original_df, x= 'Label')\n",
        "plt.show()"
      ],
      "metadata": {
        "colab": {
          "base_uri": "https://localhost:8080/",
          "height": 517
        },
        "id": "v0vZB3pCP4vc",
        "outputId": "b453d33d-6741-4f11-d6bc-91de9d034bc5"
      },
      "execution_count": 8,
      "outputs": [
        {
          "output_type": "display_data",
          "data": {
            "text/plain": [
              "<Figure size 864x504 with 1 Axes>"
            ],
            "image/png": "[encoded data removed]"
          },
          "metadata": {
            "needs_background": "light"
          }
        }
      ]
    },
    {
      "cell_type": "code",
      "source": [
        "# Checking proportion of classes\n",
        "original_df.Label.value_counts()"
      ],
      "metadata": {
        "colab": {
          "base_uri": "https://localhost:8080/"
        },
        "id": "XjIpZX56P0OZ",
        "outputId": "7e402fb3-1851-4d2f-92cc-b6997ea40049"
      },
      "execution_count": 10,
      "outputs": [
        {
          "output_type": "execute_result",
          "data": {
            "text/plain": [
              "normal                      1764\n",
              "blast                       1738\n",
              "hispa                       1594\n",
              "dead_heart                  1442\n",
              "tungro                      1088\n",
              "brown_spot                   965\n",
              "downy_mildew                 620\n",
              "bacterial_leaf_blight        479\n",
              "bacterial_leaf_streak        380\n",
              "bacterial_panicle_blight     337\n",
              "Name: Label, dtype: int64"
            ]
          },
          "metadata": {},
          "execution_count": 10
        }
      ]
    },
    {
      "cell_type": "code",
      "source": [
        "class_names= original_df.Label.unique()\n",
        "val_df= pd.DataFrame(columns= ['Path', 'Label'])\n",
        "original_df['marker']= 'default'\n",
        "for c in class_names:\n",
        "  val_ind= original_df[original_df.Label== c].sample(n= 150, random_state= 42).index\n",
        "  original_df.loc[val_ind, 'marker']= 'val'"
      ],
      "metadata": {
        "id": "InBYE1XfrS1y"
      },
      "execution_count": 19,
      "outputs": []
    },
    {
      "cell_type": "code",
      "source": [
        "original_df[original_df.marker=='val'].Label.value_counts()"
      ],
      "metadata": {
        "colab": {
          "base_uri": "https://localhost:8080/"
        },
        "id": "2abE26FEwk7n",
        "outputId": "79620e43-6c76-4440-e819-37841c0d11b6"
      },
      "execution_count": 20,
      "outputs": [
        {
          "output_type": "execute_result",
          "data": {
            "text/plain": [
              "bacterial_leaf_blight       150\n",
              "bacterial_leaf_streak       150\n",
              "bacterial_panicle_blight    150\n",
              "blast                       150\n",
              "brown_spot                  150\n",
              "dead_heart                  150\n",
              "downy_mildew                150\n",
              "hispa                       150\n",
              "normal                      150\n",
              "tungro                      150\n",
              "Name: Label, dtype: int64"
            ]
          },
          "metadata": {},
          "execution_count": 20
        }
      ]
    },
    {
      "cell_type": "code",
      "source": [
        "original_df.loc[original_df.marker== 'default', 'marker' ]= 'train'\n",
        "original_df[original_df.marker=='train'].Label.value_counts()"
      ],
      "metadata": {
        "colab": {
          "base_uri": "https://localhost:8080/"
        },
        "id": "7j4ZC70Btbxc",
        "outputId": "16af161e-d69c-42ba-eebc-5844be1e28af"
      },
      "execution_count": 21,
      "outputs": [
        {
          "output_type": "execute_result",
          "data": {
            "text/plain": [
              "normal                      1614\n",
              "blast                       1588\n",
              "hispa                       1444\n",
              "dead_heart                  1292\n",
              "tungro                       938\n",
              "brown_spot                   815\n",
              "downy_mildew                 470\n",
              "bacterial_leaf_blight        329\n",
              "bacterial_leaf_streak        230\n",
              "bacterial_panicle_blight     187\n",
              "Name: Label, dtype: int64"
            ]
          },
          "metadata": {},
          "execution_count": 21
        }
      ]
    },
    {
      "cell_type": "code",
      "source": [
        "import os\n",
        "import shutil\n",
        "\n",
        "def create_val_data(df):\n",
        "  new_val= r'/content/drive/MyDrive/thesis/dataset/paddy_doctor/val/'\n",
        "  label= df.Label\n",
        "  path= df.Path\n",
        "  img_name= path.split('/')[-1]\n",
        "  if not os.path.exists(new_val+label):\n",
        "    os.makedirs(new_val+label)\n",
        "  shutil.copy(path, new_val+label+'/'+img_name)\n",
        "\n",
        "\n",
        "def create_train_data(df):\n",
        "  new_val= r'/content/drive/MyDrive/thesis/dataset/paddy_doctor/train/'\n",
        "  label= df.Label\n",
        "  path= df.Path\n",
        "  img_name= path.split('/')[-1]\n",
        "  if not os.path.exists(new_val+label):\n",
        "    os.makedirs(new_val+label)\n",
        "  shutil.copy(path, new_val+label+'/'+img_name)"
      ],
      "metadata": {
        "id": "hevXcpYQxHsa"
      },
      "execution_count": 45,
      "outputs": []
    },
    {
      "cell_type": "code",
      "source": [
        "# Copy val files\n",
        "original_df[original_df.marker=='val'].apply(create_val_data, axis= 1)"
      ],
      "metadata": {
        "colab": {
          "base_uri": "https://localhost:8080/"
        },
        "id": "Ai5iYcASxH3N",
        "outputId": "9b7f8325-6f42-4b3f-c110-2b67ad6ddd4c"
      },
      "execution_count": 43,
      "outputs": [
        {
          "output_type": "execute_result",
          "data": {
            "text/plain": [
              "0        None\n",
              "3        None\n",
              "5        None\n",
              "9        None\n",
              "11       None\n",
              "         ... \n",
              "10327    None\n",
              "10333    None\n",
              "10360    None\n",
              "10398    None\n",
              "10401    None\n",
              "Length: 1500, dtype: object"
            ]
          },
          "metadata": {},
          "execution_count": 43
        }
      ]
    },
    {
      "cell_type": "code",
      "source": [
        "# Copy train files\n",
        "original_df[original_df.marker=='train'].apply(create_train_data, axis= 1)"
      ],
      "metadata": {
        "id": "Al-o6Ac22W_t"
      },
      "execution_count": null,
      "outputs": []
    },
    {
      "cell_type": "code",
      "source": [
        "import Augmentor\n",
        "\n",
        "path_to_training_dataset= r'/content/drive/MyDrive/thesis/dataset/paddy_doctor/train/'\n",
        "\n",
        "aug_dict= {'dead_heart': 200, 'tungro': 500, 'brown_spot': 600, 'downy_mildew': 900, 'bacterial_leaf_blight': 1000, 'bacterial_leaf_streak': 1100, \n",
        "'bacterial_panicle_blight': 1100}\n",
        "\n",
        "for key in aug_dict:\n",
        "    p = Augmentor.Pipeline(path_to_training_dataset + key)\n",
        "    p.flip_left_right(probability= 1)\n",
        "    p.skew_left_right(probability= .4)\n",
        "    p.skew_top_bottom(probability= .4)\n",
        "    p.rotate(probability= 0.5, max_left_rotation=10, max_right_rotation=10)\n",
        "    p.zoom(probability= 0.5, min_factor= 1.1, max_factor= 1.6)\n",
        "    p.sample(aug_dict[key])"
      ],
      "metadata": {
        "colab": {
          "base_uri": "https://localhost:8080/"
        },
        "id": "a5BqzSlCOvFn",
        "outputId": "981a58dc-c346-4fc8-ab8d-b4d5dd60d11b"
      },
      "execution_count": 69,
      "outputs": [
        {
          "output_type": "stream",
          "name": "stdout",
          "text": [
            "Initialised with 1292 image(s) found.\n",
            "Output directory set to /content/drive/MyDrive/thesis/dataset/paddy_doctor/train/dead_heart/output."
          ]
        },
        {
          "output_type": "stream",
          "name": "stderr",
          "text": [
            "Processing <PIL.Image.Image image mode=RGB size=480x640 at 0x7FBEDA4A02D0>: 100%|██████████| 200/200 [00:15<00:00, 13.11 Samples/s]\n"
          ]
        },
        {
          "output_type": "stream",
          "name": "stdout",
          "text": [
            "Initialised with 938 image(s) found.\n",
            "Output directory set to /content/drive/MyDrive/thesis/dataset/paddy_doctor/train/tungro/output."
          ]
        },
        {
          "output_type": "stream",
          "name": "stderr",
          "text": [
            "Processing <PIL.Image.Image image mode=RGB size=480x640 at 0x7FBED8ADDF10>: 100%|██████████| 500/500 [00:48<00:00, 10.28 Samples/s]\n"
          ]
        },
        {
          "output_type": "stream",
          "name": "stdout",
          "text": [
            "Initialised with 815 image(s) found.\n",
            "Output directory set to /content/drive/MyDrive/thesis/dataset/paddy_doctor/train/brown_spot/output."
          ]
        },
        {
          "output_type": "stream",
          "name": "stderr",
          "text": [
            "Processing <PIL.Image.Image image mode=RGB size=480x640 at 0x7FBEDA06E810>: 100%|██████████| 600/600 [00:48<00:00, 12.30 Samples/s]\n"
          ]
        },
        {
          "output_type": "stream",
          "name": "stdout",
          "text": [
            "Initialised with 470 image(s) found.\n",
            "Output directory set to /content/drive/MyDrive/thesis/dataset/paddy_doctor/train/downy_mildew/output."
          ]
        },
        {
          "output_type": "stream",
          "name": "stderr",
          "text": [
            "Processing <PIL.Image.Image image mode=RGB size=480x640 at 0x7FBED7E6AF10>: 100%|██████████| 900/900 [01:23<00:00, 10.83 Samples/s]\n"
          ]
        },
        {
          "output_type": "stream",
          "name": "stdout",
          "text": [
            "Initialised with 329 image(s) found.\n",
            "Output directory set to /content/drive/MyDrive/thesis/dataset/paddy_doctor/train/bacterial_leaf_blight/output."
          ]
        },
        {
          "output_type": "stream",
          "name": "stderr",
          "text": [
            "Processing <PIL.Image.Image image mode=RGB size=480x640 at 0x7FBED9CF5F50>: 100%|██████████| 1000/1000 [01:24<00:00, 11.86 Samples/s]\n"
          ]
        },
        {
          "output_type": "stream",
          "name": "stdout",
          "text": [
            "Initialised with 230 image(s) found.\n",
            "Output directory set to /content/drive/MyDrive/thesis/dataset/paddy_doctor/train/bacterial_leaf_streak/output."
          ]
        },
        {
          "output_type": "stream",
          "name": "stderr",
          "text": [
            "Processing <PIL.Image.Image image mode=RGB size=480x640 at 0x7FBED8A983D0>: 100%|██████████| 1100/1100 [01:38<00:00, 11.18 Samples/s]\n"
          ]
        },
        {
          "output_type": "stream",
          "name": "stdout",
          "text": [
            "Initialised with 187 image(s) found.\n",
            "Output directory set to /content/drive/MyDrive/thesis/dataset/paddy_doctor/train/bacterial_panicle_blight/output."
          ]
        },
        {
          "output_type": "stream",
          "name": "stderr",
          "text": [
            "Processing <PIL.Image.Image image mode=RGB size=480x640 at 0x7FBEDA089ED0>: 100%|██████████| 1100/1100 [01:34<00:00, 11.66 Samples/s]\n"
          ]
        }
      ]
    },
    {
      "cell_type": "code",
      "source": [
        "import pathlib\n",
        "train_directory= '/content/drive/MyDrive/thesis/dataset/paddy_doctor/train'\n",
        "data_dir_train = pathlib.Path(train_directory)\n",
        "\n",
        "aug_train_files= list(data_dir_train.glob('*/output/*.jpg'))\n",
        "aug_train_files= list(map(lambda x: str(x), aug_train_files))\n",
        "aug_train_labels= list(map(lambda x: x.split('/')[-3], aug_train_files))\n",
        "aug_train_id= list(map(lambda x: x.split('/')[-1], aug_train_files))\n",
        "\n",
        "train_files= list(data_dir_train.glob('*/*.jpg'))\n",
        "train_files= list(map(lambda x: str(x), train_files))\n",
        "train_labels= list(map(lambda x: x.split('/')[-2], train_files))\n",
        "train_id= list(map(lambda x: x.split('/')[-1], train_files))\n",
        "\n",
        "aug_train_df= pd.DataFrame(list(zip(aug_train_id, aug_train_files, aug_train_labels)), columns= ['image_id', 'path','label'])\n",
        "final_train_df= pd.DataFrame(list(zip(train_id, train_files, train_labels)), columns= ['image_id', 'path','label'])\n",
        "final_aug_train_df= pd.concat([final_train_df, aug_train_df])\n",
        "\n",
        "final_aug_train_df.head()"
      ],
      "metadata": {
        "id": "sDimEq2OPrGb",
        "outputId": "cd83633f-33a7-4a7e-b3a9-62079d035f78",
        "colab": {
          "base_uri": "https://localhost:8080/",
          "height": 206
        }
      },
      "execution_count": 72,
      "outputs": [
        {
          "output_type": "execute_result",
          "data": {
            "text/plain": [
              "     image_id                                               path  \\\n",
              "0  100330.jpg  /content/drive/MyDrive/thesis/dataset/paddy_do...   \n",
              "1  100548.jpg  /content/drive/MyDrive/thesis/dataset/paddy_do...   \n",
              "2  101391.jpg  /content/drive/MyDrive/thesis/dataset/paddy_do...   \n",
              "3  102323.jpg  /content/drive/MyDrive/thesis/dataset/paddy_do...   \n",
              "4  100513.jpg  /content/drive/MyDrive/thesis/dataset/paddy_do...   \n",
              "\n",
              "                   label  \n",
              "0  bacterial_leaf_blight  \n",
              "1  bacterial_leaf_blight  \n",
              "2  bacterial_leaf_blight  \n",
              "3  bacterial_leaf_blight  \n",
              "4  bacterial_leaf_blight  "
            ],
            "text/html": [
              "\n",
              "  <div id=\"df-c2180e21-be5b-4422-8cf6-50447a749e93\">\n",
              "    <div class=\"colab-df-container\">\n",
              "      <div>\n",
              "<style scoped>\n",
              "    .dataframe tbody tr th:only-of-type {\n",
              "        vertical-align: middle;\n",
              "    }\n",
              "\n",
              "    .dataframe tbody tr th {\n",
              "        vertical-align: top;\n",
              "    }\n",
              "\n",
              "    .dataframe thead th {\n",
              "        text-align: right;\n",
              "    }\n",
              "</style>\n",
              "<table border=\"1\" class=\"dataframe\">\n",
              "  <thead>\n",
              "    <tr style=\"text-align: right;\">\n",
              "      <th></th>\n",
              "      <th>image_id</th>\n",
              "      <th>path</th>\n",
              "      <th>label</th>\n",
              "    </tr>\n",
              "  </thead>\n",
              "  <tbody>\n",
              "    <tr>\n",
              "      <th>0</th>\n",
              "      <td>100330.jpg</td>\n",
              "      <td>/content/drive/MyDrive/thesis/dataset/paddy_do...</td>\n",
              "      <td>bacterial_leaf_blight</td>\n",
              "    </tr>\n",
              "    <tr>\n",
              "      <th>1</th>\n",
              "      <td>100548.jpg</td>\n",
              "      <td>/content/drive/MyDrive/thesis/dataset/paddy_do...</td>\n",
              "      <td>bacterial_leaf_blight</td>\n",
              "    </tr>\n",
              "    <tr>\n",
              "      <th>2</th>\n",
              "      <td>101391.jpg</td>\n",
              "      <td>/content/drive/MyDrive/thesis/dataset/paddy_do...</td>\n",
              "      <td>bacterial_leaf_blight</td>\n",
              "    </tr>\n",
              "    <tr>\n",
              "      <th>3</th>\n",
              "      <td>102323.jpg</td>\n",
              "      <td>/content/drive/MyDrive/thesis/dataset/paddy_do...</td>\n",
              "      <td>bacterial_leaf_blight</td>\n",
              "    </tr>\n",
              "    <tr>\n",
              "      <th>4</th>\n",
              "      <td>100513.jpg</td>\n",
              "      <td>/content/drive/MyDrive/thesis/dataset/paddy_do...</td>\n",
              "      <td>bacterial_leaf_blight</td>\n",
              "    </tr>\n",
              "  </tbody>\n",
              "</table>\n",
              "</div>\n",
              "      <button class=\"colab-df-convert\" onclick=\"convertToInteractive('df-c2180e21-be5b-4422-8cf6-50447a749e93')\"\n",
              "              title=\"Convert this dataframe to an interactive table.\"\n",
              "              style=\"display:none;\">\n",
              "        \n",
              "  <svg xmlns=\"http://www.w3.org/2000/svg\" height=\"24px\"viewBox=\"0 0 24 24\"\n",
              "       width=\"24px\">\n",
              "    <path d=\"M0 0h24v24H0V0z\" fill=\"none\"/>\n",
              "    <path d=\"M18.56 5.44l.94 2.06.94-2.06 2.06-.94-2.06-.94-.94-2.06-.94 2.06-2.06.94zm-11 1L8.5 8.5l.94-2.06 2.06-.94-2.06-.94L8.5 2.5l-.94 2.06-2.06.94zm10 10l.94 2.06.94-2.06 2.06-.94-2.06-.94-.94-2.06-.94 2.06-2.06.94z\"/><path d=\"M17.41 7.96l-1.37-1.37c-.4-.4-.92-.59-1.43-.59-.52 0-1.04.2-1.43.59L10.3 9.45l-7.72 7.72c-.78.78-.78 2.05 0 2.83L4 21.41c.39.39.9.59 1.41.59.51 0 1.02-.2 1.41-.59l7.78-7.78 2.81-2.81c.8-.78.8-2.07 0-2.86zM5.41 20L4 18.59l7.72-7.72 1.47 1.35L5.41 20z\"/>\n",
              "  </svg>\n",
              "      </button>\n",
              "      \n",
              "  <style>\n",
              "    .colab-df-container {\n",
              "      display:flex;\n",
              "      flex-wrap:wrap;\n",
              "      gap: 12px;\n",
              "    }\n",
              "\n",
              "    .colab-df-convert {\n",
              "      background-color: #E8F0FE;\n",
              "      border: none;\n",
              "      border-radius: 50%;\n",
              "      cursor: pointer;\n",
              "      display: none;\n",
              "      fill: #1967D2;\n",
              "      height: 32px;\n",
              "      padding: 0 0 0 0;\n",
              "      width: 32px;\n",
              "    }\n",
              "\n",
              "    .colab-df-convert:hover {\n",
              "      background-color: #E2EBFA;\n",
              "      box-shadow: 0px 1px 2px rgba(60, 64, 67, 0.3), 0px 1px 3px 1px rgba(60, 64, 67, 0.15);\n",
              "      fill: #174EA6;\n",
              "    }\n",
              "\n",
              "    [theme=dark] .colab-df-convert {\n",
              "      background-color: #3B4455;\n",
              "      fill: #D2E3FC;\n",
              "    }\n",
              "\n",
              "    [theme=dark] .colab-df-convert:hover {\n",
              "      background-color: #434B5C;\n",
              "      box-shadow: 0px 1px 3px 1px rgba(0, 0, 0, 0.15);\n",
              "      filter: drop-shadow(0px 1px 2px rgba(0, 0, 0, 0.3));\n",
              "      fill: #FFFFFF;\n",
              "    }\n",
              "  </style>\n",
              "\n",
              "      <script>\n",
              "        const buttonEl =\n",
              "          document.querySelector('#df-c2180e21-be5b-4422-8cf6-50447a749e93 button.colab-df-convert');\n",
              "        buttonEl.style.display =\n",
              "          google.colab.kernel.accessAllowed ? 'block' : 'none';\n",
              "\n",
              "        async function convertToInteractive(key) {\n",
              "          const element = document.querySelector('#df-c2180e21-be5b-4422-8cf6-50447a749e93');\n",
              "          const dataTable =\n",
              "            await google.colab.kernel.invokeFunction('convertToInteractive',\n",
              "                                                     [key], {});\n",
              "          if (!dataTable) return;\n",
              "\n",
              "          const docLinkHtml = 'Like what you see? Visit the ' +\n",
              "            '<a target=\"_blank\" href=https://colab.research.google.com/notebooks/data_table.ipynb>data table notebook</a>'\n",
              "            + ' to learn more about interactive tables.';\n",
              "          element.innerHTML = '';\n",
              "          dataTable['output_type'] = 'display_data';\n",
              "          await google.colab.output.renderOutput(dataTable, element);\n",
              "          const docLink = document.createElement('div');\n",
              "          docLink.innerHTML = docLinkHtml;\n",
              "          element.appendChild(docLink);\n",
              "        }\n",
              "      </script>\n",
              "    </div>\n",
              "  </div>\n",
              "  "
            ]
          },
          "metadata": {},
          "execution_count": 72
        }
      ]
    },
    {
      "cell_type": "code",
      "source": [
        "val_directory= '/content/drive/MyDrive/thesis/dataset/paddy_doctor/val'\n",
        "val_files= list(glob(os.path.join(val_directory, '*', '*.jpg')))\n",
        "val_labels= list(map(lambda x: x.split('/')[-2],val_files))\n",
        "val_id= list(map(lambda x: x.split('/')[-1],val_files))\n",
        "final_val_df= pd.DataFrame(list(zip(val_id, val_files, val_labels)), columns= ['image_id', 'path','label'])\n",
        "\n",
        "final_val_df.head()"
      ],
      "metadata": {
        "id": "nW_CBcNISr8b",
        "outputId": "80ee3395-77ae-4561-a81d-27c4aa57d6e8",
        "colab": {
          "base_uri": "https://localhost:8080/",
          "height": 206
        }
      },
      "execution_count": 78,
      "outputs": [
        {
          "output_type": "execute_result",
          "data": {
            "text/plain": [
              "     image_id                                               path  \\\n",
              "0  101593.jpg  /content/drive/MyDrive/thesis/dataset/paddy_do...   \n",
              "1  100289.jpg  /content/drive/MyDrive/thesis/dataset/paddy_do...   \n",
              "2  101652.jpg  /content/drive/MyDrive/thesis/dataset/paddy_do...   \n",
              "3  101809.jpg  /content/drive/MyDrive/thesis/dataset/paddy_do...   \n",
              "4  100126.jpg  /content/drive/MyDrive/thesis/dataset/paddy_do...   \n",
              "\n",
              "                   label  \n",
              "0  bacterial_leaf_blight  \n",
              "1  bacterial_leaf_blight  \n",
              "2  bacterial_leaf_blight  \n",
              "3  bacterial_leaf_blight  \n",
              "4  bacterial_leaf_blight  "
            ],
            "text/html": [
              "\n",
              "  <div id=\"df-b70db0eb-83e8-42c0-8d35-4ed241e870b5\">\n",
              "    <div class=\"colab-df-container\">\n",
              "      <div>\n",
              "<style scoped>\n",
              "    .dataframe tbody tr th:only-of-type {\n",
              "        vertical-align: middle;\n",
              "    }\n",
              "\n",
              "    .dataframe tbody tr th {\n",
              "        vertical-align: top;\n",
              "    }\n",
              "\n",
              "    .dataframe thead th {\n",
              "        text-align: right;\n",
              "    }\n",
              "</style>\n",
              "<table border=\"1\" class=\"dataframe\">\n",
              "  <thead>\n",
              "    <tr style=\"text-align: right;\">\n",
              "      <th></th>\n",
              "      <th>image_id</th>\n",
              "      <th>path</th>\n",
              "      <th>label</th>\n",
              "    </tr>\n",
              "  </thead>\n",
              "  <tbody>\n",
              "    <tr>\n",
              "      <th>0</th>\n",
              "      <td>101593.jpg</td>\n",
              "      <td>/content/drive/MyDrive/thesis/dataset/paddy_do...</td>\n",
              "      <td>bacterial_leaf_blight</td>\n",
              "    </tr>\n",
              "    <tr>\n",
              "      <th>1</th>\n",
              "      <td>100289.jpg</td>\n",
              "      <td>/content/drive/MyDrive/thesis/dataset/paddy_do...</td>\n",
              "      <td>bacterial_leaf_blight</td>\n",
              "    </tr>\n",
              "    <tr>\n",
              "      <th>2</th>\n",
              "      <td>101652.jpg</td>\n",
              "      <td>/content/drive/MyDrive/thesis/dataset/paddy_do...</td>\n",
              "      <td>bacterial_leaf_blight</td>\n",
              "    </tr>\n",
              "    <tr>\n",
              "      <th>3</th>\n",
              "      <td>101809.jpg</td>\n",
              "      <td>/content/drive/MyDrive/thesis/dataset/paddy_do...</td>\n",
              "      <td>bacterial_leaf_blight</td>\n",
              "    </tr>\n",
              "    <tr>\n",
              "      <th>4</th>\n",
              "      <td>100126.jpg</td>\n",
              "      <td>/content/drive/MyDrive/thesis/dataset/paddy_do...</td>\n",
              "      <td>bacterial_leaf_blight</td>\n",
              "    </tr>\n",
              "  </tbody>\n",
              "</table>\n",
              "</div>\n",
              "      <button class=\"colab-df-convert\" onclick=\"convertToInteractive('df-b70db0eb-83e8-42c0-8d35-4ed241e870b5')\"\n",
              "              title=\"Convert this dataframe to an interactive table.\"\n",
              "              style=\"display:none;\">\n",
              "        \n",
              "  <svg xmlns=\"http://www.w3.org/2000/svg\" height=\"24px\"viewBox=\"0 0 24 24\"\n",
              "       width=\"24px\">\n",
              "    <path d=\"M0 0h24v24H0V0z\" fill=\"none\"/>\n",
              "    <path d=\"M18.56 5.44l.94 2.06.94-2.06 2.06-.94-2.06-.94-.94-2.06-.94 2.06-2.06.94zm-11 1L8.5 8.5l.94-2.06 2.06-.94-2.06-.94L8.5 2.5l-.94 2.06-2.06.94zm10 10l.94 2.06.94-2.06 2.06-.94-2.06-.94-.94-2.06-.94 2.06-2.06.94z\"/><path d=\"M17.41 7.96l-1.37-1.37c-.4-.4-.92-.59-1.43-.59-.52 0-1.04.2-1.43.59L10.3 9.45l-7.72 7.72c-.78.78-.78 2.05 0 2.83L4 21.41c.39.39.9.59 1.41.59.51 0 1.02-.2 1.41-.59l7.78-7.78 2.81-2.81c.8-.78.8-2.07 0-2.86zM5.41 20L4 18.59l7.72-7.72 1.47 1.35L5.41 20z\"/>\n",
              "  </svg>\n",
              "      </button>\n",
              "      \n",
              "  <style>\n",
              "    .colab-df-container {\n",
              "      display:flex;\n",
              "      flex-wrap:wrap;\n",
              "      gap: 12px;\n",
              "    }\n",
              "\n",
              "    .colab-df-convert {\n",
              "      background-color: #E8F0FE;\n",
              "      border: none;\n",
              "      border-radius: 50%;\n",
              "      cursor: pointer;\n",
              "      display: none;\n",
              "      fill: #1967D2;\n",
              "      height: 32px;\n",
              "      padding: 0 0 0 0;\n",
              "      width: 32px;\n",
              "    }\n",
              "\n",
              "    .colab-df-convert:hover {\n",
              "      background-color: #E2EBFA;\n",
              "      box-shadow: 0px 1px 2px rgba(60, 64, 67, 0.3), 0px 1px 3px 1px rgba(60, 64, 67, 0.15);\n",
              "      fill: #174EA6;\n",
              "    }\n",
              "\n",
              "    [theme=dark] .colab-df-convert {\n",
              "      background-color: #3B4455;\n",
              "      fill: #D2E3FC;\n",
              "    }\n",
              "\n",
              "    [theme=dark] .colab-df-convert:hover {\n",
              "      background-color: #434B5C;\n",
              "      box-shadow: 0px 1px 3px 1px rgba(0, 0, 0, 0.15);\n",
              "      filter: drop-shadow(0px 1px 2px rgba(0, 0, 0, 0.3));\n",
              "      fill: #FFFFFF;\n",
              "    }\n",
              "  </style>\n",
              "\n",
              "      <script>\n",
              "        const buttonEl =\n",
              "          document.querySelector('#df-b70db0eb-83e8-42c0-8d35-4ed241e870b5 button.colab-df-convert');\n",
              "        buttonEl.style.display =\n",
              "          google.colab.kernel.accessAllowed ? 'block' : 'none';\n",
              "\n",
              "        async function convertToInteractive(key) {\n",
              "          const element = document.querySelector('#df-b70db0eb-83e8-42c0-8d35-4ed241e870b5');\n",
              "          const dataTable =\n",
              "            await google.colab.kernel.invokeFunction('convertToInteractive',\n",
              "                                                     [key], {});\n",
              "          if (!dataTable) return;\n",
              "\n",
              "          const docLinkHtml = 'Like what you see? Visit the ' +\n",
              "            '<a target=\"_blank\" href=https://colab.research.google.com/notebooks/data_table.ipynb>data table notebook</a>'\n",
              "            + ' to learn more about interactive tables.';\n",
              "          element.innerHTML = '';\n",
              "          dataTable['output_type'] = 'display_data';\n",
              "          await google.colab.output.renderOutput(dataTable, element);\n",
              "          const docLink = document.createElement('div');\n",
              "          docLink.innerHTML = docLinkHtml;\n",
              "          element.appendChild(docLink);\n",
              "        }\n",
              "      </script>\n",
              "    </div>\n",
              "  </div>\n",
              "  "
            ]
          },
          "metadata": {},
          "execution_count": 78
        }
      ]
    },
    {
      "cell_type": "code",
      "source": [
        "final_val_df.label.value_counts()"
      ],
      "metadata": {
        "id": "3egYS_4wSsMd",
        "outputId": "53c41466-c012-4933-9cb2-2c32aa82dff0",
        "colab": {
          "base_uri": "https://localhost:8080/"
        }
      },
      "execution_count": 79,
      "outputs": [
        {
          "output_type": "execute_result",
          "data": {
            "text/plain": [
              "bacterial_leaf_blight       150\n",
              "bacterial_leaf_streak       150\n",
              "bacterial_panicle_blight    150\n",
              "blast                       150\n",
              "brown_spot                  150\n",
              "dead_heart                  150\n",
              "downy_mildew                150\n",
              "hispa                       150\n",
              "normal                      150\n",
              "tungro                      150\n",
              "Name: label, dtype: int64"
            ]
          },
          "metadata": {},
          "execution_count": 79
        }
      ]
    },
    {
      "cell_type": "code",
      "source": [
        "final_aug_train_df.label.value_counts()"
      ],
      "metadata": {
        "id": "w5KXNaanUrio",
        "outputId": "bc7b76c5-4392-4228-df56-26594085076f",
        "colab": {
          "base_uri": "https://localhost:8080/"
        }
      },
      "execution_count": 85,
      "outputs": [
        {
          "output_type": "execute_result",
          "data": {
            "text/plain": [
              "normal                      1614\n",
              "blast                       1588\n",
              "dead_heart                  1492\n",
              "hispa                       1444\n",
              "tungro                      1438\n",
              "brown_spot                  1415\n",
              "downy_mildew                1370\n",
              "bacterial_leaf_streak       1330\n",
              "bacterial_leaf_blight       1329\n",
              "bacterial_panicle_blight    1287\n",
              "Name: label, dtype: int64"
            ]
          },
          "metadata": {},
          "execution_count": 85
        }
      ]
    },
    {
      "cell_type": "code",
      "source": [
        "final_aug_train_df.to_csv('/content/drive/MyDrive/thesis/dataset/paddy_doctor/train/train.csv')\n",
        "final_val_df.to_csv('/content/drive/MyDrive/thesis/dataset/paddy_doctor/val/val.csv')"
      ],
      "metadata": {
        "id": "Rhei6-JDcv7V"
      },
      "execution_count": 84,
      "outputs": []
    }
  ]
}