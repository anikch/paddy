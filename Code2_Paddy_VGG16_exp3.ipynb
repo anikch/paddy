{
  "nbformat": 4,
  "nbformat_minor": 0,
  "metadata": {
    "colab": {
      "provenance": [],
      "collapsed_sections": [],
      "machine_shape": "hm",
      "mount_file_id": "1Tv3OCnqy1z5OpEkO130l3dxhXr0wsZgB",
      "authorship_tag": "ABX9TyNzDf5Ot1647tjKwSj7bw44",
      "include_colab_link": true
    },
    "kernelspec": {
      "name": "python3",
      "display_name": "Python 3"
    },
    "language_info": {
      "name": "python"
    },
    "accelerator": "GPU",
    "gpuClass": "premium"
  },
  "cells": [
    {
      "cell_type": "markdown",
      "metadata": {
        "id": "view-in-github",
        "colab_type": "text"
      },
      "source": [
        "<a href=\"https://colab.research.google.com/github/anikch/paddy/blob/main/Code2_Paddy_VGG16_exp3.ipynb\" target=\"_parent\"><img src=\"https://colab.research.google.com/assets/colab-badge.svg\" alt=\"Open In Colab\"/></a>"
      ]
    },
    {
      "cell_type": "code",
      "execution_count": 1,
      "metadata": {
        "colab": {
          "base_uri": "https://localhost:8080/"
        },
        "id": "ldWDN70l6Hrz",
        "outputId": "a37954b4-6874-4a1e-dd7b-87af03d6bc7f"
      },
      "outputs": [
        {
          "output_type": "stream",
          "name": "stdout",
          "text": [
            "Looking in indexes: https://pypi.org/simple, https://us-python.pkg.dev/colab-wheels/public/simple/\n",
            "Collecting tensorflow_addons\n",
            "  Downloading tensorflow_addons-0.18.0-cp37-cp37m-manylinux_2_17_x86_64.manylinux2014_x86_64.whl (1.1 MB)\n",
            "\u001b[K     |████████████████████████████████| 1.1 MB 4.8 MB/s \n",
            "\u001b[?25hRequirement already satisfied: packaging in /usr/local/lib/python3.7/dist-packages (from tensorflow_addons) (21.3)\n",
            "Requirement already satisfied: typeguard>=2.7 in /usr/local/lib/python3.7/dist-packages (from tensorflow_addons) (2.7.1)\n",
            "Requirement already satisfied: pyparsing!=3.0.5,>=2.0.2 in /usr/local/lib/python3.7/dist-packages (from packaging->tensorflow_addons) (3.0.9)\n",
            "Installing collected packages: tensorflow-addons\n",
            "Successfully installed tensorflow-addons-0.18.0\n"
          ]
        }
      ],
      "source": [
        "!pip install tensorflow_addons"
      ]
    },
    {
      "cell_type": "code",
      "source": [
        "!pip install keras_cv"
      ],
      "metadata": {
        "colab": {
          "base_uri": "https://localhost:8080/"
        },
        "id": "TEPL2726jHpv",
        "outputId": "b0e43098-b7fe-46e3-a709-2643e69fcf99"
      },
      "execution_count": 2,
      "outputs": [
        {
          "output_type": "stream",
          "name": "stdout",
          "text": [
            "Looking in indexes: https://pypi.org/simple, https://us-python.pkg.dev/colab-wheels/public/simple/\n",
            "Collecting keras_cv\n",
            "  Downloading keras_cv-0.3.4-py3-none-any.whl (394 kB)\n",
            "\u001b[K     |████████████████████████████████| 394 kB 4.7 MB/s \n",
            "\u001b[?25hRequirement already satisfied: regex in /usr/local/lib/python3.7/dist-packages (from keras_cv) (2022.6.2)\n",
            "Requirement already satisfied: absl-py in /usr/local/lib/python3.7/dist-packages (from keras_cv) (1.3.0)\n",
            "Requirement already satisfied: packaging in /usr/local/lib/python3.7/dist-packages (from keras_cv) (21.3)\n",
            "Requirement already satisfied: pyparsing!=3.0.5,>=2.0.2 in /usr/local/lib/python3.7/dist-packages (from packaging->keras_cv) (3.0.9)\n",
            "Installing collected packages: keras-cv\n",
            "Successfully installed keras-cv-0.3.4\n"
          ]
        }
      ]
    },
    {
      "cell_type": "code",
      "source": [
        "import pandas as pd\n",
        "import numpy as np\n",
        "import tensorflow as tf\n",
        "import tensorflow_addons as tfa\n",
        "from sklearn.metrics import classification_report, confusion_matrix, ConfusionMatrixDisplay\n",
        "import matplotlib.pyplot as plt\n",
        "import seaborn as sns\n",
        "from typing import List\n",
        "from tensorflow import keras\n",
        "from keras.preprocessing.image import ImageDataGenerator\n",
        "from tensorflow.keras import layers\n",
        "from tensorflow.keras.callbacks import ModelCheckpoint, EarlyStopping\n",
        "from functools import partial\n",
        "import posixpath\n",
        "from keras import models, regularizers, layers, optimizers, losses, metrics\n",
        "import keras_cv\n",
        "from keras.models import Sequential\n",
        "from keras.layers import Dense\n",
        "from tensorflow.keras.utils import plot_model"
      ],
      "metadata": {
        "id": "7lI0v4g76OWm"
      },
      "execution_count": 3,
      "outputs": []
    },
    {
      "cell_type": "code",
      "source": [
        "from google.colab import drive\n",
        "drive.mount('/content/drive')"
      ],
      "metadata": {
        "colab": {
          "base_uri": "https://localhost:8080/"
        },
        "id": "v7njDtLg6Ps6",
        "outputId": "89ac1613-f389-49b5-c5b5-6e5721196bd3"
      },
      "execution_count": 4,
      "outputs": [
        {
          "output_type": "stream",
          "name": "stdout",
          "text": [
            "Mounted at /content/drive\n"
          ]
        }
      ]
    },
    {
      "cell_type": "code",
      "source": [
        "!nvidia-smi"
      ],
      "metadata": {
        "colab": {
          "base_uri": "https://localhost:8080/"
        },
        "id": "lb2hQ92A6WOI",
        "outputId": "636fdb1c-359a-4d42-cfa8-8e1daedb652d"
      },
      "execution_count": 5,
      "outputs": [
        {
          "output_type": "stream",
          "name": "stdout",
          "text": [
            "Tue Oct 25 13:05:02 2022       \n",
            "+-----------------------------------------------------------------------------+\n",
            "| NVIDIA-SMI 460.32.03    Driver Version: 460.32.03    CUDA Version: 11.2     |\n",
            "|-------------------------------+----------------------+----------------------+\n",
            "| GPU  Name        Persistence-M| Bus-Id        Disp.A | Volatile Uncorr. ECC |\n",
            "| Fan  Temp  Perf  Pwr:Usage/Cap|         Memory-Usage | GPU-Util  Compute M. |\n",
            "|                               |                      |               MIG M. |\n",
            "|===============================+======================+======================|\n",
            "|   0  A100-SXM4-40GB      Off  | 00000000:00:04.0 Off |                    0 |\n",
            "| N/A   30C    P0    43W / 400W |      0MiB / 40536MiB |      0%      Default |\n",
            "|                               |                      |             Disabled |\n",
            "+-------------------------------+----------------------+----------------------+\n",
            "                                                                               \n",
            "+-----------------------------------------------------------------------------+\n",
            "| Processes:                                                                  |\n",
            "|  GPU   GI   CI        PID   Type   Process name                  GPU Memory |\n",
            "|        ID   ID                                                   Usage      |\n",
            "|=============================================================================|\n",
            "|  No running processes found                                                 |\n",
            "+-----------------------------------------------------------------------------+\n"
          ]
        }
      ]
    },
    {
      "cell_type": "code",
      "source": [
        "colab= '/content/drive/MyDrive'\n",
        "local= r'G:\\My Drive'\n",
        "\n",
        "code_runtime= colab"
      ],
      "metadata": {
        "id": "4AtLPkXN6aSa"
      },
      "execution_count": 6,
      "outputs": []
    },
    {
      "cell_type": "code",
      "source": [
        "tf.__version__"
      ],
      "metadata": {
        "colab": {
          "base_uri": "https://localhost:8080/",
          "height": 35
        },
        "id": "FzWX_57e6dMv",
        "outputId": "500d94dc-c9aa-4d46-ef8c-4b994a474202"
      },
      "execution_count": 7,
      "outputs": [
        {
          "output_type": "execute_result",
          "data": {
            "text/plain": [
              "'2.9.2'"
            ],
            "application/vnd.google.colaboratory.intrinsic+json": {
              "type": "string"
            }
          },
          "metadata": {},
          "execution_count": 7
        }
      ]
    },
    {
      "cell_type": "code",
      "source": [
        "file1= 'thesis/dataset/paddy_doctor/train.csv'\n",
        "inp_file = posixpath.join(code_runtime, file1)\n",
        "\n",
        "train_table=pd.read_csv(inp_file)\n",
        "train_table"
      ],
      "metadata": {
        "colab": {
          "base_uri": "https://localhost:8080/",
          "height": 424
        },
        "id": "1pzjWUi86exJ",
        "outputId": "9d648875-83ff-4e33-f64d-16aa5f22eb4a"
      },
      "execution_count": 8,
      "outputs": [
        {
          "output_type": "execute_result",
          "data": {
            "text/plain": [
              "         image_id                  label variety  age\n",
              "0      100330.jpg  bacterial_leaf_blight   ADT45   45\n",
              "1      100365.jpg  bacterial_leaf_blight   ADT45   45\n",
              "2      100382.jpg  bacterial_leaf_blight   ADT45   45\n",
              "3      100632.jpg  bacterial_leaf_blight   ADT45   45\n",
              "4      101918.jpg  bacterial_leaf_blight   ADT45   45\n",
              "...           ...                    ...     ...  ...\n",
              "10402  107607.jpg                 tungro   Zonal   55\n",
              "10403  107811.jpg                 tungro   Zonal   55\n",
              "10404  108547.jpg                 tungro   Zonal   55\n",
              "10405  110245.jpg                 tungro   Zonal   55\n",
              "10406  110381.jpg                 tungro   Zonal   55\n",
              "\n",
              "[10407 rows x 4 columns]"
            ],
            "text/html": [
              "\n",
              "  <div id=\"df-7c681b3e-93b3-433e-8092-96f815c5a5be\">\n",
              "    <div class=\"colab-df-container\">\n",
              "      <div>\n",
              "<style scoped>\n",
              "    .dataframe tbody tr th:only-of-type {\n",
              "        vertical-align: middle;\n",
              "    }\n",
              "\n",
              "    .dataframe tbody tr th {\n",
              "        vertical-align: top;\n",
              "    }\n",
              "\n",
              "    .dataframe thead th {\n",
              "        text-align: right;\n",
              "    }\n",
              "</style>\n",
              "<table border=\"1\" class=\"dataframe\">\n",
              "  <thead>\n",
              "    <tr style=\"text-align: right;\">\n",
              "      <th></th>\n",
              "      <th>image_id</th>\n",
              "      <th>label</th>\n",
              "      <th>variety</th>\n",
              "      <th>age</th>\n",
              "    </tr>\n",
              "  </thead>\n",
              "  <tbody>\n",
              "    <tr>\n",
              "      <th>0</th>\n",
              "      <td>100330.jpg</td>\n",
              "      <td>bacterial_leaf_blight</td>\n",
              "      <td>ADT45</td>\n",
              "      <td>45</td>\n",
              "    </tr>\n",
              "    <tr>\n",
              "      <th>1</th>\n",
              "      <td>100365.jpg</td>\n",
              "      <td>bacterial_leaf_blight</td>\n",
              "      <td>ADT45</td>\n",
              "      <td>45</td>\n",
              "    </tr>\n",
              "    <tr>\n",
              "      <th>2</th>\n",
              "      <td>100382.jpg</td>\n",
              "      <td>bacterial_leaf_blight</td>\n",
              "      <td>ADT45</td>\n",
              "      <td>45</td>\n",
              "    </tr>\n",
              "    <tr>\n",
              "      <th>3</th>\n",
              "      <td>100632.jpg</td>\n",
              "      <td>bacterial_leaf_blight</td>\n",
              "      <td>ADT45</td>\n",
              "      <td>45</td>\n",
              "    </tr>\n",
              "    <tr>\n",
              "      <th>4</th>\n",
              "      <td>101918.jpg</td>\n",
              "      <td>bacterial_leaf_blight</td>\n",
              "      <td>ADT45</td>\n",
              "      <td>45</td>\n",
              "    </tr>\n",
              "    <tr>\n",
              "      <th>...</th>\n",
              "      <td>...</td>\n",
              "      <td>...</td>\n",
              "      <td>...</td>\n",
              "      <td>...</td>\n",
              "    </tr>\n",
              "    <tr>\n",
              "      <th>10402</th>\n",
              "      <td>107607.jpg</td>\n",
              "      <td>tungro</td>\n",
              "      <td>Zonal</td>\n",
              "      <td>55</td>\n",
              "    </tr>\n",
              "    <tr>\n",
              "      <th>10403</th>\n",
              "      <td>107811.jpg</td>\n",
              "      <td>tungro</td>\n",
              "      <td>Zonal</td>\n",
              "      <td>55</td>\n",
              "    </tr>\n",
              "    <tr>\n",
              "      <th>10404</th>\n",
              "      <td>108547.jpg</td>\n",
              "      <td>tungro</td>\n",
              "      <td>Zonal</td>\n",
              "      <td>55</td>\n",
              "    </tr>\n",
              "    <tr>\n",
              "      <th>10405</th>\n",
              "      <td>110245.jpg</td>\n",
              "      <td>tungro</td>\n",
              "      <td>Zonal</td>\n",
              "      <td>55</td>\n",
              "    </tr>\n",
              "    <tr>\n",
              "      <th>10406</th>\n",
              "      <td>110381.jpg</td>\n",
              "      <td>tungro</td>\n",
              "      <td>Zonal</td>\n",
              "      <td>55</td>\n",
              "    </tr>\n",
              "  </tbody>\n",
              "</table>\n",
              "<p>10407 rows × 4 columns</p>\n",
              "</div>\n",
              "      <button class=\"colab-df-convert\" onclick=\"convertToInteractive('df-7c681b3e-93b3-433e-8092-96f815c5a5be')\"\n",
              "              title=\"Convert this dataframe to an interactive table.\"\n",
              "              style=\"display:none;\">\n",
              "        \n",
              "  <svg xmlns=\"http://www.w3.org/2000/svg\" height=\"24px\"viewBox=\"0 0 24 24\"\n",
              "       width=\"24px\">\n",
              "    <path d=\"M0 0h24v24H0V0z\" fill=\"none\"/>\n",
              "    <path d=\"M18.56 5.44l.94 2.06.94-2.06 2.06-.94-2.06-.94-.94-2.06-.94 2.06-2.06.94zm-11 1L8.5 8.5l.94-2.06 2.06-.94-2.06-.94L8.5 2.5l-.94 2.06-2.06.94zm10 10l.94 2.06.94-2.06 2.06-.94-2.06-.94-.94-2.06-.94 2.06-2.06.94z\"/><path d=\"M17.41 7.96l-1.37-1.37c-.4-.4-.92-.59-1.43-.59-.52 0-1.04.2-1.43.59L10.3 9.45l-7.72 7.72c-.78.78-.78 2.05 0 2.83L4 21.41c.39.39.9.59 1.41.59.51 0 1.02-.2 1.41-.59l7.78-7.78 2.81-2.81c.8-.78.8-2.07 0-2.86zM5.41 20L4 18.59l7.72-7.72 1.47 1.35L5.41 20z\"/>\n",
              "  </svg>\n",
              "      </button>\n",
              "      \n",
              "  <style>\n",
              "    .colab-df-container {\n",
              "      display:flex;\n",
              "      flex-wrap:wrap;\n",
              "      gap: 12px;\n",
              "    }\n",
              "\n",
              "    .colab-df-convert {\n",
              "      background-color: #E8F0FE;\n",
              "      border: none;\n",
              "      border-radius: 50%;\n",
              "      cursor: pointer;\n",
              "      display: none;\n",
              "      fill: #1967D2;\n",
              "      height: 32px;\n",
              "      padding: 0 0 0 0;\n",
              "      width: 32px;\n",
              "    }\n",
              "\n",
              "    .colab-df-convert:hover {\n",
              "      background-color: #E2EBFA;\n",
              "      box-shadow: 0px 1px 2px rgba(60, 64, 67, 0.3), 0px 1px 3px 1px rgba(60, 64, 67, 0.15);\n",
              "      fill: #174EA6;\n",
              "    }\n",
              "\n",
              "    [theme=dark] .colab-df-convert {\n",
              "      background-color: #3B4455;\n",
              "      fill: #D2E3FC;\n",
              "    }\n",
              "\n",
              "    [theme=dark] .colab-df-convert:hover {\n",
              "      background-color: #434B5C;\n",
              "      box-shadow: 0px 1px 3px 1px rgba(0, 0, 0, 0.15);\n",
              "      filter: drop-shadow(0px 1px 2px rgba(0, 0, 0, 0.3));\n",
              "      fill: #FFFFFF;\n",
              "    }\n",
              "  </style>\n",
              "\n",
              "      <script>\n",
              "        const buttonEl =\n",
              "          document.querySelector('#df-7c681b3e-93b3-433e-8092-96f815c5a5be button.colab-df-convert');\n",
              "        buttonEl.style.display =\n",
              "          google.colab.kernel.accessAllowed ? 'block' : 'none';\n",
              "\n",
              "        async function convertToInteractive(key) {\n",
              "          const element = document.querySelector('#df-7c681b3e-93b3-433e-8092-96f815c5a5be');\n",
              "          const dataTable =\n",
              "            await google.colab.kernel.invokeFunction('convertToInteractive',\n",
              "                                                     [key], {});\n",
              "          if (!dataTable) return;\n",
              "\n",
              "          const docLinkHtml = 'Like what you see? Visit the ' +\n",
              "            '<a target=\"_blank\" href=https://colab.research.google.com/notebooks/data_table.ipynb>data table notebook</a>'\n",
              "            + ' to learn more about interactive tables.';\n",
              "          element.innerHTML = '';\n",
              "          dataTable['output_type'] = 'display_data';\n",
              "          await google.colab.output.renderOutput(dataTable, element);\n",
              "          const docLink = document.createElement('div');\n",
              "          docLink.innerHTML = docLinkHtml;\n",
              "          element.appendChild(docLink);\n",
              "        }\n",
              "      </script>\n",
              "    </div>\n",
              "  </div>\n",
              "  "
            ]
          },
          "metadata": {},
          "execution_count": 8
        }
      ]
    },
    {
      "cell_type": "code",
      "source": [
        "labels=list(np.unique(train_table['label']))\n",
        "labels"
      ],
      "metadata": {
        "colab": {
          "base_uri": "https://localhost:8080/"
        },
        "id": "SJnUw8yI6j-u",
        "outputId": "0562ea89-d3cf-474b-b80a-daa9021f0e42"
      },
      "execution_count": 9,
      "outputs": [
        {
          "output_type": "execute_result",
          "data": {
            "text/plain": [
              "['bacterial_leaf_blight',\n",
              " 'bacterial_leaf_streak',\n",
              " 'bacterial_panicle_blight',\n",
              " 'blast',\n",
              " 'brown_spot',\n",
              " 'dead_heart',\n",
              " 'downy_mildew',\n",
              " 'hispa',\n",
              " 'normal',\n",
              " 'tungro']"
            ]
          },
          "metadata": {},
          "execution_count": 9
        }
      ]
    },
    {
      "cell_type": "code",
      "source": [
        "train_dir= 'thesis/dataset/paddy_doctor/train/'\n",
        "val_dir= 'thesis/dataset/paddy_doctor/val/'\n",
        "img_size= 224\n",
        "\n",
        "train_files= posixpath.join(code_runtime, train_dir)\n",
        "test_files= posixpath.join(code_runtime, val_dir)\n",
        "\n",
        "train_data= tf.keras.utils.image_dataset_from_directory(train_files,\n",
        "                                                        labels='inferred',\n",
        "                                                        label_mode='categorical',\n",
        "                                                        validation_split=0.2,\n",
        "                                                        subset=\"training\",\n",
        "                                                        class_names=labels,\n",
        "                                                        color_mode='rgb',\n",
        "                                                        image_size=(img_size, img_size),\n",
        "                                                        shuffle=True,\n",
        "                                                        seed= 42,\n",
        "                                                        batch_size= 16)\n",
        "\n",
        "val_data= tf.keras.utils.image_dataset_from_directory(train_files,\n",
        "                                                        labels= 'inferred',\n",
        "                                                        label_mode='categorical',\n",
        "                                                        validation_split=0.2,\n",
        "                                                        subset=\"validation\",\n",
        "                                                        class_names= labels,\n",
        "                                                        color_mode='rgb',\n",
        "                                                        image_size=(img_size, img_size),\n",
        "                                                        shuffle=True,\n",
        "                                                        seed= 42,\n",
        "                                                        batch_size= 16)\n",
        "\n",
        "\n",
        "test_datagen= ImageDataGenerator()\n",
        "test_data= test_datagen.flow_from_directory(test_files,\n",
        "                                            target_size= (img_size, img_size),\n",
        "                                            batch_size= 16,\n",
        "                                            shuffle = False, \n",
        "                                            class_mode='categorical')"
      ],
      "metadata": {
        "colab": {
          "base_uri": "https://localhost:8080/"
        },
        "id": "ZOsJAOVU6naa",
        "outputId": "1536df43-40db-45d5-e610-0f41293f7a5c"
      },
      "execution_count": 10,
      "outputs": [
        {
          "output_type": "stream",
          "name": "stdout",
          "text": [
            "Found 14302 files belonging to 10 classes.\n",
            "Using 11442 files for training.\n",
            "Found 14302 files belonging to 10 classes.\n",
            "Using 2860 files for validation.\n",
            "Found 1500 images belonging to 10 classes.\n"
          ]
        }
      ]
    },
    {
      "cell_type": "code",
      "source": [
        "class_names = train_data.class_names\n",
        "print(class_names)"
      ],
      "metadata": {
        "colab": {
          "base_uri": "https://localhost:8080/"
        },
        "id": "3NskJ7ArhJWJ",
        "outputId": "b86ab834-facf-47b7-de20-92fdc89a00a9"
      },
      "execution_count": 11,
      "outputs": [
        {
          "output_type": "stream",
          "name": "stdout",
          "text": [
            "['bacterial_leaf_blight', 'bacterial_leaf_streak', 'bacterial_panicle_blight', 'blast', 'brown_spot', 'dead_heart', 'downy_mildew', 'hispa', 'normal', 'tungro']\n"
          ]
        }
      ]
    },
    {
      "cell_type": "code",
      "source": [
        "test_data.class_indices"
      ],
      "metadata": {
        "colab": {
          "base_uri": "https://localhost:8080/"
        },
        "id": "g5lYz3u4bK77",
        "outputId": "f433d50f-3572-4ae7-a53c-0061f8948edb"
      },
      "execution_count": 12,
      "outputs": [
        {
          "output_type": "execute_result",
          "data": {
            "text/plain": [
              "{'bacterial_leaf_blight': 0,\n",
              " 'bacterial_leaf_streak': 1,\n",
              " 'bacterial_panicle_blight': 2,\n",
              " 'blast': 3,\n",
              " 'brown_spot': 4,\n",
              " 'dead_heart': 5,\n",
              " 'downy_mildew': 6,\n",
              " 'hispa': 7,\n",
              " 'normal': 8,\n",
              " 'tungro': 9}"
            ]
          },
          "metadata": {},
          "execution_count": 12
        }
      ]
    },
    {
      "cell_type": "markdown",
      "source": [
        "## Augmentation Pipeline"
      ],
      "metadata": {
        "id": "jvjXLOt4iFkj"
      }
    },
    {
      "cell_type": "code",
      "source": [
        "# data augmentation\n",
        "def augment_train_data(images, labels):\n",
        "  inputs= {\"images\": images, \"labels\": labels}\n",
        "  layers= keras_cv.layers.RandAugment.get_standard_policy(value_range=(0, 255), geometric= True, magnitude= 0.7, magnitude_stddev= 0.25)\n",
        "  layers= layers[4:] + [keras_cv.layers.preprocessing.RandomFlip(mode= 'horizontal'),\n",
        "                    keras_cv.layers.preprocessing.RandomRotation(factor= .1, seed= 42),\n",
        "                    #keras_cv.layers.GridMask(ratio_factor= (.0, .3), rotation_factor= (.0,.1), fill_mode= 'gaussian_noise'), \n",
        "                    #keras_cv.layers.RandomColorJitter(brightness_factor= .5, contrast_factor= .5, hue_factor= .2, saturation_factor= (.1, .9), value_range= [0, 255])\n",
        "                    ]\n",
        "  aug_pipeline= keras_cv.layers.RandomAugmentationPipeline(layers= layers, augmentations_per_image= 3)\n",
        "  outputs= aug_pipeline(inputs)\n",
        "  print(*layers)\n",
        "  return outputs['images'], outputs['labels']"
      ],
      "metadata": {
        "id": "rIQR6MzoiG-A"
      },
      "execution_count": 13,
      "outputs": []
    },
    {
      "cell_type": "code",
      "source": [
        "AUTOTUNE= tf.data.AUTOTUNE\n",
        "train_aug_ds= train_data.map(augment_train_data, num_parallel_calls= tf.data.AUTOTUNE).prefetch(tf.data.AUTOTUNE)\n",
        "val_ds= val_data.prefetch(buffer_size= AUTOTUNE)"
      ],
      "metadata": {
        "colab": {
          "base_uri": "https://localhost:8080/"
        },
        "id": "ZDvxAwUfiVjJ",
        "outputId": "116d514e-58dc-4583-f7a4-19a67b12d4d3"
      },
      "execution_count": 14,
      "outputs": [
        {
          "output_type": "stream",
          "name": "stdout",
          "text": [
            "<keras.layers.preprocessing.image_preprocessing.RandomContrast object at 0x7fe310557690> <keras.layers.preprocessing.image_preprocessing.RandomBrightness object at 0x7fe3290061d0> <keras_cv.layers.preprocessing.random_shear.RandomShear object at 0x7fe310557610> <keras_cv.layers.preprocessing.random_shear.RandomShear object at 0x7fe310557d90> <keras.layers.preprocessing.image_preprocessing.RandomTranslation object at 0x7fe310557bd0> <keras.layers.preprocessing.image_preprocessing.RandomTranslation object at 0x7fe32a0de550> <keras_cv.layers.preprocessing.random_flip.RandomFlip object at 0x7fe32a0cdd90> <keras_cv.layers.preprocessing.random_rotation.RandomRotation object at 0x7fe39ad6a0d0>\n"
          ]
        }
      ]
    },
    {
      "cell_type": "markdown",
      "source": [
        "## VGG16 (Augmentation + Transfer Learning + Fine Tune)"
      ],
      "metadata": {
        "id": "ZdGqx8T3OC5O"
      }
    },
    {
      "cell_type": "code",
      "source": [
        "base_model= tf.keras.applications.VGG16(\n",
        "    include_top= False,\n",
        "    weights= 'imagenet',\n",
        "    input_shape=(img_size, img_size, 3),\n",
        "    pooling= 'max'\n",
        ")"
      ],
      "metadata": {
        "id": "Mg74WAkUc0IO",
        "colab": {
          "base_uri": "https://localhost:8080/"
        },
        "outputId": "7eb34875-4e01-4d59-d713-11cb86e5a0d3"
      },
      "execution_count": 15,
      "outputs": [
        {
          "output_type": "stream",
          "name": "stdout",
          "text": [
            "Downloading data from https://storage.googleapis.com/tensorflow/keras-applications/vgg16/vgg16_weights_tf_dim_ordering_tf_kernels_notop.h5\n",
            "58889256/58889256 [==============================] - 0s 0us/step\n"
          ]
        }
      ]
    },
    {
      "cell_type": "code",
      "source": [
        "tf.keras.utils.plot_model(\n",
        "    base_model,\n",
        "    show_shapes= True,\n",
        "    show_dtype=False,\n",
        "    show_layer_names=True,\n",
        "    rankdir=\"TR\",\n",
        "    expand_nested=False,\n",
        "    dpi=72,\n",
        "    layer_range=None,\n",
        "    show_layer_activations=True,\n",
        ")"
      ],
      "metadata": {
        "colab": {
          "base_uri": "https://localhost:8080/",
          "height": 1000
        },
        "id": "vwEB5G2tXWvY",
        "outputId": "df217923-b030-4f5f-cd24-7853d1245ee8"
      },
      "execution_count": 16,
      "outputs": [
        {
          "output_type": "execute_result",
          "data": {
            "image/png": "[encoded data removed]",
            "text/plain": [
              "<IPython.core.display.Image object>"
            ]
          },
          "metadata": {},
          "execution_count": 16
        }
      ]
    },
    {
      "cell_type": "code",
      "source": [
        "inputs= tf.keras.Input(shape= (img_size, img_size, 3))\n",
        "preprocess_layer= tf.keras.applications.vgg16.preprocess_input(inputs)\n",
        "normalization_layer= tf.keras.layers.Rescaling(scale= 1./127.5, offset= -1)(preprocess_layer)\n",
        "x= base_model(normalization_layer)\n",
        "x= tf.keras.layers.Dropout(0.25)(x)\n",
        "outputs= tf.keras.layers.Dense(10, activation= 'softmax')(x)"
      ],
      "metadata": {
        "id": "l9mR1azhWhJd"
      },
      "execution_count": 17,
      "outputs": []
    },
    {
      "cell_type": "code",
      "source": [
        "model= tf.keras.Model(inputs= inputs, outputs= outputs, name= \"vgg16_TL_augmentation\")"
      ],
      "metadata": {
        "id": "TS4VmA2QC32F"
      },
      "execution_count": 18,
      "outputs": []
    },
    {
      "cell_type": "code",
      "source": [
        "model.summary()"
      ],
      "metadata": {
        "colab": {
          "base_uri": "https://localhost:8080/"
        },
        "id": "bdDyJ_-CM6DD",
        "outputId": "03546826-8d32-4291-d488-84649bfd2cf2"
      },
      "execution_count": 19,
      "outputs": [
        {
          "output_type": "stream",
          "name": "stdout",
          "text": [
            "Model: \"vgg16_TL_augmentation\"\n",
            "_________________________________________________________________\n",
            " Layer (type)                Output Shape              Param #   \n",
            "=================================================================\n",
            " input_2 (InputLayer)        [(None, 224, 224, 3)]     0         \n",
            "                                                                 \n",
            " tf.__operators__.getitem (S  (None, 224, 224, 3)      0         \n",
            " licingOpLambda)                                                 \n",
            "                                                                 \n",
            " tf.nn.bias_add (TFOpLambda)  (None, 224, 224, 3)      0         \n",
            "                                                                 \n",
            " rescaling (Rescaling)       (None, 224, 224, 3)       0         \n",
            "                                                                 \n",
            " vgg16 (Functional)          (None, 512)               14714688  \n",
            "                                                                 \n",
            " dropout (Dropout)           (None, 512)               0         \n",
            "                                                                 \n",
            " dense (Dense)               (None, 10)                5130      \n",
            "                                                                 \n",
            "=================================================================\n",
            "Total params: 14,719,818\n",
            "Trainable params: 14,719,818\n",
            "Non-trainable params: 0\n",
            "_________________________________________________________________\n"
          ]
        }
      ]
    },
    {
      "cell_type": "code",
      "source": [
        "tf.keras.utils.plot_model(\n",
        "    model,\n",
        "    show_shapes= True,\n",
        "    show_dtype=False,\n",
        "    show_layer_names=True,\n",
        "    rankdir=\"TR\",\n",
        "    expand_nested=False,\n",
        "    dpi=72,\n",
        "    layer_range=None,\n",
        "    show_layer_activations=True,\n",
        ")"
      ],
      "metadata": {
        "colab": {
          "base_uri": "https://localhost:8080/",
          "height": 570
        },
        "id": "omIMBz7MXhHZ",
        "outputId": "b91254ff-23d1-471a-89c9-47e0a28df891"
      },
      "execution_count": 20,
      "outputs": [
        {
          "output_type": "execute_result",
          "data": {
            "image/png": "[encoded data removed]",
            "text/plain": [
              "<IPython.core.display.Image object>"
            ]
          },
          "metadata": {},
          "execution_count": 20
        }
      ]
    },
    {
      "cell_type": "code",
      "source": [
        "%%time\n",
        "n_epochs= 100\n",
        "\n",
        "filepath= \"weights-improvement-{epoch:02d}-{val_accuracy:.4f}.hdf5\"\n",
        "checkpoint_callback= ModelCheckpoint(filepath, monitor= 'val_accuracy', verbose= 1, save_best_only= True, mode= 'max')\n",
        "early_stop_callback= EarlyStopping(monitor='val_accuracy', patience= 10, verbose= 1, mode='max', restore_best_weights= True)\n",
        "callbacks_list=[checkpoint_callback, early_stop_callback]"
      ],
      "metadata": {
        "colab": {
          "base_uri": "https://localhost:8080/"
        },
        "id": "JEPSySyRXjtU",
        "outputId": "c90790de-aff7-4fc2-e047-5858586e95b5"
      },
      "execution_count": 21,
      "outputs": [
        {
          "output_type": "stream",
          "name": "stdout",
          "text": [
            "CPU times: user 119 µs, sys: 0 ns, total: 119 µs\n",
            "Wall time: 124 µs\n"
          ]
        }
      ]
    },
    {
      "cell_type": "code",
      "source": [
        "optimizer_adam_amsgrad= tf.keras.optimizers.Adam(learning_rate= 1e-4, amsgrad= True)\n",
        "optimizer_adam= tf.keras.optimizers.Adam(learning_rate= 1e-4, amsgrad= False)\n",
        "optimizer_sgd= tf.keras.optimizers.SGD(learning_rate= 1e-4, momentum= 0.9)"
      ],
      "metadata": {
        "id": "GTyzHOiIXpqF"
      },
      "execution_count": 22,
      "outputs": []
    },
    {
      "cell_type": "code",
      "source": [
        "model.compile(\n",
        "        optimizer = optimizer_sgd,\n",
        "        loss = 'categorical_crossentropy', \n",
        "        metrics = ['accuracy', tfa.metrics.F1Score(average='macro', num_classes= 10)]\n",
        "        )"
      ],
      "metadata": {
        "id": "YB-F0cnAFnky"
      },
      "execution_count": 23,
      "outputs": []
    },
    {
      "cell_type": "code",
      "source": [
        "history= model.fit(train_aug_ds,\n",
        "                  epochs= n_epochs,\n",
        "                  validation_data= val_ds,\n",
        "                  callbacks= callbacks_list,\n",
        "                  verbose= 1)"
      ],
      "metadata": {
        "colab": {
          "base_uri": "https://localhost:8080/"
        },
        "id": "QJmzjWyjX40y",
        "outputId": "9779aeeb-8dd8-4017-86a6-fe95a70d3d79"
      },
      "execution_count": 24,
      "outputs": [
        {
          "output_type": "stream",
          "name": "stdout",
          "text": [
            "Epoch 1/100\n",
            "716/716 [==============================] - ETA: 0s - loss: 2.2236 - accuracy: 0.1855 - f1_score: 0.1828\n",
            "Epoch 1: val_accuracy improved from -inf to 0.30664, saving model to weights-improvement-01-0.3066.hdf5\n",
            "716/716 [==============================] - 342s 456ms/step - loss: 2.2236 - accuracy: 0.1855 - f1_score: 0.1828 - val_loss: 1.9542 - val_accuracy: 0.3066 - val_f1_score: 0.3005\n",
            "Epoch 2/100\n",
            "715/716 [============================>.] - ETA: 0s - loss: 1.9681 - accuracy: 0.2871 - f1_score: 0.2780\n",
            "Epoch 2: val_accuracy improved from 0.30664 to 0.48112, saving model to weights-improvement-02-0.4811.hdf5\n",
            "716/716 [==============================] - 48s 67ms/step - loss: 1.9681 - accuracy: 0.2871 - f1_score: 0.2780 - val_loss: 1.4864 - val_accuracy: 0.4811 - val_f1_score: 0.4670\n",
            "Epoch 3/100\n",
            "715/716 [============================>.] - ETA: 0s - loss: 1.6885 - accuracy: 0.3912 - f1_score: 0.3854\n",
            "Epoch 3: val_accuracy improved from 0.48112 to 0.57552, saving model to weights-improvement-03-0.5755.hdf5\n",
            "716/716 [==============================] - 49s 67ms/step - loss: 1.6886 - accuracy: 0.3911 - f1_score: 0.3853 - val_loss: 1.1951 - val_accuracy: 0.5755 - val_f1_score: 0.5698\n",
            "Epoch 4/100\n",
            "714/716 [============================>.] - ETA: 0s - loss: 1.5257 - accuracy: 0.4549 - f1_score: 0.4500\n",
            "Epoch 4: val_accuracy improved from 0.57552 to 0.60769, saving model to weights-improvement-04-0.6077.hdf5\n",
            "716/716 [==============================] - 66s 92ms/step - loss: 1.5259 - accuracy: 0.4549 - f1_score: 0.4500 - val_loss: 1.0955 - val_accuracy: 0.6077 - val_f1_score: 0.5936\n",
            "Epoch 5/100\n",
            "715/716 [============================>.] - ETA: 0s - loss: 1.4150 - accuracy: 0.4964 - f1_score: 0.4913\n",
            "Epoch 5: val_accuracy improved from 0.60769 to 0.67692, saving model to weights-improvement-05-0.6769.hdf5\n",
            "716/716 [==============================] - 49s 67ms/step - loss: 1.4149 - accuracy: 0.4965 - f1_score: 0.4914 - val_loss: 0.9284 - val_accuracy: 0.6769 - val_f1_score: 0.6688\n",
            "Epoch 6/100\n",
            "714/716 [============================>.] - ETA: 0s - loss: 1.3444 - accuracy: 0.5236 - f1_score: 0.5189\n",
            "Epoch 6: val_accuracy improved from 0.67692 to 0.69895, saving model to weights-improvement-06-0.6990.hdf5\n",
            "716/716 [==============================] - 48s 67ms/step - loss: 1.3442 - accuracy: 0.5237 - f1_score: 0.5190 - val_loss: 0.8326 - val_accuracy: 0.6990 - val_f1_score: 0.6993\n",
            "Epoch 7/100\n",
            "714/716 [============================>.] - ETA: 0s - loss: 1.2626 - accuracy: 0.5493 - f1_score: 0.5459\n",
            "Epoch 7: val_accuracy improved from 0.69895 to 0.71783, saving model to weights-improvement-07-0.7178.hdf5\n",
            "716/716 [==============================] - 49s 67ms/step - loss: 1.2630 - accuracy: 0.5491 - f1_score: 0.5459 - val_loss: 0.7898 - val_accuracy: 0.7178 - val_f1_score: 0.7074\n",
            "Epoch 8/100\n",
            "715/716 [============================>.] - ETA: 0s - loss: 1.2087 - accuracy: 0.5786 - f1_score: 0.5746\n",
            "Epoch 8: val_accuracy improved from 0.71783 to 0.76853, saving model to weights-improvement-08-0.7685.hdf5\n",
            "716/716 [==============================] - 48s 67ms/step - loss: 1.2086 - accuracy: 0.5786 - f1_score: 0.5746 - val_loss: 0.6867 - val_accuracy: 0.7685 - val_f1_score: 0.7663\n",
            "Epoch 9/100\n",
            "715/716 [============================>.] - ETA: 0s - loss: 1.1577 - accuracy: 0.5927 - f1_score: 0.5902\n",
            "Epoch 9: val_accuracy improved from 0.76853 to 0.79510, saving model to weights-improvement-09-0.7951.hdf5\n",
            "716/716 [==============================] - 49s 67ms/step - loss: 1.1576 - accuracy: 0.5927 - f1_score: 0.5903 - val_loss: 0.6224 - val_accuracy: 0.7951 - val_f1_score: 0.7939\n",
            "Epoch 10/100\n",
            "716/716 [==============================] - ETA: 0s - loss: 1.1165 - accuracy: 0.6145 - f1_score: 0.6128\n",
            "Epoch 10: val_accuracy did not improve from 0.79510\n",
            "716/716 [==============================] - 48s 67ms/step - loss: 1.1165 - accuracy: 0.6145 - f1_score: 0.6128 - val_loss: 0.6812 - val_accuracy: 0.7671 - val_f1_score: 0.7616\n",
            "Epoch 11/100\n",
            "714/716 [============================>.] - ETA: 0s - loss: 1.0632 - accuracy: 0.6362 - f1_score: 0.6341\n",
            "Epoch 11: val_accuracy improved from 0.79510 to 0.80280, saving model to weights-improvement-11-0.8028.hdf5\n",
            "716/716 [==============================] - 49s 67ms/step - loss: 1.0634 - accuracy: 0.6360 - f1_score: 0.6339 - val_loss: 0.5687 - val_accuracy: 0.8028 - val_f1_score: 0.7994\n",
            "Epoch 12/100\n",
            "714/716 [============================>.] - ETA: 0s - loss: 1.0217 - accuracy: 0.6457 - f1_score: 0.6444\n",
            "Epoch 12: val_accuracy improved from 0.80280 to 0.82203, saving model to weights-improvement-12-0.8220.hdf5\n",
            "716/716 [==============================] - 49s 67ms/step - loss: 1.0214 - accuracy: 0.6459 - f1_score: 0.6446 - val_loss: 0.5246 - val_accuracy: 0.8220 - val_f1_score: 0.8205\n",
            "Epoch 13/100\n",
            "715/716 [============================>.] - ETA: 0s - loss: 0.9764 - accuracy: 0.6622 - f1_score: 0.6611\n",
            "Epoch 13: val_accuracy improved from 0.82203 to 0.82902, saving model to weights-improvement-13-0.8290.hdf5\n",
            "716/716 [==============================] - 49s 67ms/step - loss: 0.9765 - accuracy: 0.6621 - f1_score: 0.6611 - val_loss: 0.5190 - val_accuracy: 0.8290 - val_f1_score: 0.8298\n",
            "Epoch 14/100\n",
            "714/716 [============================>.] - ETA: 0s - loss: 0.9490 - accuracy: 0.6667 - f1_score: 0.6658\n",
            "Epoch 14: val_accuracy improved from 0.82902 to 0.84196, saving model to weights-improvement-14-0.8420.hdf5\n",
            "716/716 [==============================] - 49s 67ms/step - loss: 0.9492 - accuracy: 0.6666 - f1_score: 0.6657 - val_loss: 0.4854 - val_accuracy: 0.8420 - val_f1_score: 0.8425\n",
            "Epoch 15/100\n",
            "714/716 [============================>.] - ETA: 0s - loss: 0.9421 - accuracy: 0.6731 - f1_score: 0.6726\n",
            "Epoch 15: val_accuracy did not improve from 0.84196\n",
            "716/716 [==============================] - 48s 67ms/step - loss: 0.9424 - accuracy: 0.6729 - f1_score: 0.6724 - val_loss: 0.5028 - val_accuracy: 0.8364 - val_f1_score: 0.8359\n",
            "Epoch 16/100\n",
            "714/716 [============================>.] - ETA: 0s - loss: 0.9257 - accuracy: 0.6801 - f1_score: 0.6795\n",
            "Epoch 16: val_accuracy improved from 0.84196 to 0.87133, saving model to weights-improvement-16-0.8713.hdf5\n",
            "716/716 [==============================] - 49s 67ms/step - loss: 0.9259 - accuracy: 0.6802 - f1_score: 0.6796 - val_loss: 0.4078 - val_accuracy: 0.8713 - val_f1_score: 0.8697\n",
            "Epoch 17/100\n",
            "714/716 [============================>.] - ETA: 0s - loss: 0.8688 - accuracy: 0.7061 - f1_score: 0.7054\n",
            "Epoch 17: val_accuracy improved from 0.87133 to 0.87308, saving model to weights-improvement-17-0.8731.hdf5\n",
            "716/716 [==============================] - 49s 67ms/step - loss: 0.8694 - accuracy: 0.7058 - f1_score: 0.7052 - val_loss: 0.3948 - val_accuracy: 0.8731 - val_f1_score: 0.8720\n",
            "Epoch 18/100\n",
            "714/716 [============================>.] - ETA: 0s - loss: 0.8516 - accuracy: 0.7003 - f1_score: 0.7001\n",
            "Epoch 18: val_accuracy improved from 0.87308 to 0.87552, saving model to weights-improvement-18-0.8755.hdf5\n",
            "716/716 [==============================] - 49s 67ms/step - loss: 0.8519 - accuracy: 0.7003 - f1_score: 0.7001 - val_loss: 0.3802 - val_accuracy: 0.8755 - val_f1_score: 0.8756\n",
            "Epoch 19/100\n",
            "715/716 [============================>.] - ETA: 0s - loss: 0.8346 - accuracy: 0.7114 - f1_score: 0.7113\n",
            "Epoch 19: val_accuracy improved from 0.87552 to 0.88497, saving model to weights-improvement-19-0.8850.hdf5\n",
            "716/716 [==============================] - 49s 67ms/step - loss: 0.8346 - accuracy: 0.7114 - f1_score: 0.7114 - val_loss: 0.3706 - val_accuracy: 0.8850 - val_f1_score: 0.8834\n",
            "Epoch 20/100\n",
            "715/716 [============================>.] - ETA: 0s - loss: 0.7983 - accuracy: 0.7276 - f1_score: 0.7275\n",
            "Epoch 20: val_accuracy improved from 0.88497 to 0.88601, saving model to weights-improvement-20-0.8860.hdf5\n",
            "716/716 [==============================] - 49s 67ms/step - loss: 0.7983 - accuracy: 0.7277 - f1_score: 0.7275 - val_loss: 0.3537 - val_accuracy: 0.8860 - val_f1_score: 0.8863\n",
            "Epoch 21/100\n",
            "714/716 [============================>.] - ETA: 0s - loss: 0.7716 - accuracy: 0.7349 - f1_score: 0.7352\n",
            "Epoch 21: val_accuracy improved from 0.88601 to 0.90070, saving model to weights-improvement-21-0.9007.hdf5\n",
            "716/716 [==============================] - 49s 67ms/step - loss: 0.7721 - accuracy: 0.7348 - f1_score: 0.7351 - val_loss: 0.3172 - val_accuracy: 0.9007 - val_f1_score: 0.9006\n",
            "Epoch 22/100\n",
            "714/716 [============================>.] - ETA: 0s - loss: 0.7593 - accuracy: 0.7403 - f1_score: 0.7403\n",
            "Epoch 22: val_accuracy did not improve from 0.90070\n",
            "716/716 [==============================] - 48s 67ms/step - loss: 0.7597 - accuracy: 0.7401 - f1_score: 0.7401 - val_loss: 0.3574 - val_accuracy: 0.8853 - val_f1_score: 0.8845\n",
            "Epoch 23/100\n",
            "714/716 [============================>.] - ETA: 0s - loss: 0.7475 - accuracy: 0.7398 - f1_score: 0.7395\n",
            "Epoch 23: val_accuracy did not improve from 0.90070\n",
            "716/716 [==============================] - 48s 67ms/step - loss: 0.7473 - accuracy: 0.7398 - f1_score: 0.7395 - val_loss: 0.3646 - val_accuracy: 0.8766 - val_f1_score: 0.8779\n",
            "Epoch 24/100\n",
            "715/716 [============================>.] - ETA: 0s - loss: 0.7218 - accuracy: 0.7482 - f1_score: 0.7480\n",
            "Epoch 24: val_accuracy did not improve from 0.90070\n",
            "716/716 [==============================] - 74s 102ms/step - loss: 0.7217 - accuracy: 0.7482 - f1_score: 0.7481 - val_loss: 0.3362 - val_accuracy: 0.8993 - val_f1_score: 0.8983\n",
            "Epoch 25/100\n",
            "715/716 [============================>.] - ETA: 0s - loss: 0.7063 - accuracy: 0.7594 - f1_score: 0.7593\n",
            "Epoch 25: val_accuracy improved from 0.90070 to 0.91888, saving model to weights-improvement-25-0.9189.hdf5\n",
            "716/716 [==============================] - 49s 67ms/step - loss: 0.7062 - accuracy: 0.7594 - f1_score: 0.7594 - val_loss: 0.2810 - val_accuracy: 0.9189 - val_f1_score: 0.9182\n",
            "Epoch 26/100\n",
            "714/716 [============================>.] - ETA: 0s - loss: 0.7107 - accuracy: 0.7561 - f1_score: 0.7564\n",
            "Epoch 26: val_accuracy did not improve from 0.91888\n",
            "716/716 [==============================] - 48s 67ms/step - loss: 0.7106 - accuracy: 0.7562 - f1_score: 0.7565 - val_loss: 0.3022 - val_accuracy: 0.9080 - val_f1_score: 0.9070\n",
            "Epoch 27/100\n",
            "714/716 [============================>.] - ETA: 0s - loss: 0.6865 - accuracy: 0.7682 - f1_score: 0.7684\n",
            "Epoch 27: val_accuracy did not improve from 0.91888\n",
            "716/716 [==============================] - 48s 67ms/step - loss: 0.6867 - accuracy: 0.7680 - f1_score: 0.7683 - val_loss: 0.2867 - val_accuracy: 0.9161 - val_f1_score: 0.9159\n",
            "Epoch 28/100\n",
            "714/716 [============================>.] - ETA: 0s - loss: 0.6542 - accuracy: 0.7773 - f1_score: 0.7773\n",
            "Epoch 28: val_accuracy did not improve from 0.91888\n",
            "716/716 [==============================] - 48s 67ms/step - loss: 0.6538 - accuracy: 0.7775 - f1_score: 0.7775 - val_loss: 0.3080 - val_accuracy: 0.9028 - val_f1_score: 0.9032\n",
            "Epoch 29/100\n",
            "715/716 [============================>.] - ETA: 0s - loss: 0.6641 - accuracy: 0.7753 - f1_score: 0.7755\n",
            "Epoch 29: val_accuracy did not improve from 0.91888\n",
            "716/716 [==============================] - 49s 67ms/step - loss: 0.6640 - accuracy: 0.7753 - f1_score: 0.7755 - val_loss: 0.3132 - val_accuracy: 0.8976 - val_f1_score: 0.8978\n",
            "Epoch 30/100\n",
            "715/716 [============================>.] - ETA: 0s - loss: 0.6494 - accuracy: 0.7803 - f1_score: 0.7808\n",
            "Epoch 30: val_accuracy did not improve from 0.91888\n",
            "716/716 [==============================] - 48s 67ms/step - loss: 0.6494 - accuracy: 0.7804 - f1_score: 0.7808 - val_loss: 0.2724 - val_accuracy: 0.9168 - val_f1_score: 0.9167\n",
            "Epoch 31/100\n",
            "715/716 [============================>.] - ETA: 0s - loss: 0.6411 - accuracy: 0.7815 - f1_score: 0.7818\n",
            "Epoch 31: val_accuracy improved from 0.91888 to 0.92622, saving model to weights-improvement-31-0.9262.hdf5\n",
            "716/716 [==============================] - 49s 67ms/step - loss: 0.6411 - accuracy: 0.7814 - f1_score: 0.7818 - val_loss: 0.2437 - val_accuracy: 0.9262 - val_f1_score: 0.9266\n",
            "Epoch 32/100\n",
            "714/716 [============================>.] - ETA: 0s - loss: 0.6294 - accuracy: 0.7871 - f1_score: 0.7881\n",
            "Epoch 32: val_accuracy did not improve from 0.92622\n",
            "716/716 [==============================] - 48s 67ms/step - loss: 0.6295 - accuracy: 0.7872 - f1_score: 0.7882 - val_loss: 0.2506 - val_accuracy: 0.9206 - val_f1_score: 0.9193\n",
            "Epoch 33/100\n",
            "714/716 [============================>.] - ETA: 0s - loss: 0.6087 - accuracy: 0.7967 - f1_score: 0.7970\n",
            "Epoch 33: val_accuracy did not improve from 0.92622\n",
            "716/716 [==============================] - 48s 67ms/step - loss: 0.6085 - accuracy: 0.7967 - f1_score: 0.7970 - val_loss: 0.2550 - val_accuracy: 0.9259 - val_f1_score: 0.9252\n",
            "Epoch 34/100\n",
            "715/716 [============================>.] - ETA: 0s - loss: 0.6003 - accuracy: 0.7956 - f1_score: 0.7959\n",
            "Epoch 34: val_accuracy improved from 0.92622 to 0.93322, saving model to weights-improvement-34-0.9332.hdf5\n",
            "716/716 [==============================] - 49s 67ms/step - loss: 0.6004 - accuracy: 0.7956 - f1_score: 0.7959 - val_loss: 0.2356 - val_accuracy: 0.9332 - val_f1_score: 0.9324\n",
            "Epoch 35/100\n",
            "714/716 [============================>.] - ETA: 0s - loss: 0.6061 - accuracy: 0.7946 - f1_score: 0.7948\n",
            "Epoch 35: val_accuracy did not improve from 0.93322\n",
            "716/716 [==============================] - 48s 67ms/step - loss: 0.6058 - accuracy: 0.7947 - f1_score: 0.7949 - val_loss: 0.2365 - val_accuracy: 0.9332 - val_f1_score: 0.9333\n",
            "Epoch 36/100\n",
            "714/716 [============================>.] - ETA: 0s - loss: 0.5913 - accuracy: 0.7968 - f1_score: 0.7968\n",
            "Epoch 36: val_accuracy did not improve from 0.93322\n",
            "716/716 [==============================] - 48s 67ms/step - loss: 0.5918 - accuracy: 0.7966 - f1_score: 0.7967 - val_loss: 0.2353 - val_accuracy: 0.9297 - val_f1_score: 0.9301\n",
            "Epoch 37/100\n",
            "715/716 [============================>.] - ETA: 0s - loss: 0.5709 - accuracy: 0.8067 - f1_score: 0.8068\n",
            "Epoch 37: val_accuracy improved from 0.93322 to 0.93601, saving model to weights-improvement-37-0.9360.hdf5\n",
            "716/716 [==============================] - 49s 67ms/step - loss: 0.5708 - accuracy: 0.8068 - f1_score: 0.8068 - val_loss: 0.2148 - val_accuracy: 0.9360 - val_f1_score: 0.9364\n",
            "Epoch 38/100\n",
            "715/716 [============================>.] - ETA: 0s - loss: 0.5594 - accuracy: 0.8058 - f1_score: 0.8059\n",
            "Epoch 38: val_accuracy did not improve from 0.93601\n",
            "716/716 [==============================] - 48s 67ms/step - loss: 0.5594 - accuracy: 0.8058 - f1_score: 0.8060 - val_loss: 0.2420 - val_accuracy: 0.9280 - val_f1_score: 0.9279\n",
            "Epoch 39/100\n",
            "714/716 [============================>.] - ETA: 0s - loss: 0.5634 - accuracy: 0.8059 - f1_score: 0.8062\n",
            "Epoch 39: val_accuracy did not improve from 0.93601\n",
            "716/716 [==============================] - 48s 67ms/step - loss: 0.5633 - accuracy: 0.8059 - f1_score: 0.8062 - val_loss: 0.2312 - val_accuracy: 0.9339 - val_f1_score: 0.9339\n",
            "Epoch 40/100\n",
            "714/716 [============================>.] - ETA: 0s - loss: 0.5545 - accuracy: 0.8117 - f1_score: 0.8121\n",
            "Epoch 40: val_accuracy improved from 0.93601 to 0.93776, saving model to weights-improvement-40-0.9378.hdf5\n",
            "716/716 [==============================] - 49s 67ms/step - loss: 0.5547 - accuracy: 0.8117 - f1_score: 0.8121 - val_loss: 0.2190 - val_accuracy: 0.9378 - val_f1_score: 0.9379\n",
            "Epoch 41/100\n",
            "715/716 [============================>.] - ETA: 0s - loss: 0.5399 - accuracy: 0.8159 - f1_score: 0.8165\n",
            "Epoch 41: val_accuracy did not improve from 0.93776\n",
            "716/716 [==============================] - 48s 67ms/step - loss: 0.5399 - accuracy: 0.8159 - f1_score: 0.8166 - val_loss: 0.2340 - val_accuracy: 0.9357 - val_f1_score: 0.9358\n",
            "Epoch 42/100\n",
            "715/716 [============================>.] - ETA: 0s - loss: 0.5359 - accuracy: 0.8189 - f1_score: 0.8192\n",
            "Epoch 42: val_accuracy improved from 0.93776 to 0.94091, saving model to weights-improvement-42-0.9409.hdf5\n",
            "716/716 [==============================] - 49s 67ms/step - loss: 0.5360 - accuracy: 0.8188 - f1_score: 0.8192 - val_loss: 0.2104 - val_accuracy: 0.9409 - val_f1_score: 0.9414\n",
            "Epoch 43/100\n",
            "714/716 [============================>.] - ETA: 0s - loss: 0.5288 - accuracy: 0.8184 - f1_score: 0.8191\n",
            "Epoch 43: val_accuracy did not improve from 0.94091\n",
            "716/716 [==============================] - 49s 67ms/step - loss: 0.5298 - accuracy: 0.8180 - f1_score: 0.8187 - val_loss: 0.2151 - val_accuracy: 0.9350 - val_f1_score: 0.9349\n",
            "Epoch 44/100\n",
            "714/716 [============================>.] - ETA: 0s - loss: 0.5170 - accuracy: 0.8227 - f1_score: 0.8233\n",
            "Epoch 44: val_accuracy improved from 0.94091 to 0.94371, saving model to weights-improvement-44-0.9437.hdf5\n",
            "716/716 [==============================] - 49s 67ms/step - loss: 0.5169 - accuracy: 0.8228 - f1_score: 0.8234 - val_loss: 0.1919 - val_accuracy: 0.9437 - val_f1_score: 0.9435\n",
            "Epoch 45/100\n",
            "714/716 [============================>.] - ETA: 0s - loss: 0.5173 - accuracy: 0.8254 - f1_score: 0.8254\n",
            "Epoch 45: val_accuracy improved from 0.94371 to 0.94545, saving model to weights-improvement-45-0.9455.hdf5\n",
            "716/716 [==============================] - 49s 67ms/step - loss: 0.5172 - accuracy: 0.8253 - f1_score: 0.8254 - val_loss: 0.1926 - val_accuracy: 0.9455 - val_f1_score: 0.9455\n",
            "Epoch 46/100\n",
            "715/716 [============================>.] - ETA: 0s - loss: 0.5009 - accuracy: 0.8260 - f1_score: 0.8263\n",
            "Epoch 46: val_accuracy did not improve from 0.94545\n",
            "716/716 [==============================] - 48s 67ms/step - loss: 0.5009 - accuracy: 0.8260 - f1_score: 0.8263 - val_loss: 0.2080 - val_accuracy: 0.9423 - val_f1_score: 0.9425\n",
            "Epoch 47/100\n",
            "714/716 [============================>.] - ETA: 0s - loss: 0.5093 - accuracy: 0.8247 - f1_score: 0.8252\n",
            "Epoch 47: val_accuracy improved from 0.94545 to 0.94580, saving model to weights-improvement-47-0.9458.hdf5\n",
            "716/716 [==============================] - 49s 67ms/step - loss: 0.5096 - accuracy: 0.8244 - f1_score: 0.8250 - val_loss: 0.1877 - val_accuracy: 0.9458 - val_f1_score: 0.9458\n",
            "Epoch 48/100\n",
            "714/716 [============================>.] - ETA: 0s - loss: 0.4791 - accuracy: 0.8369 - f1_score: 0.8374\n",
            "Epoch 48: val_accuracy did not improve from 0.94580\n",
            "716/716 [==============================] - 49s 68ms/step - loss: 0.4791 - accuracy: 0.8369 - f1_score: 0.8374 - val_loss: 0.2240 - val_accuracy: 0.9322 - val_f1_score: 0.9326\n",
            "Epoch 49/100\n",
            "715/716 [============================>.] - ETA: 0s - loss: 0.4801 - accuracy: 0.8374 - f1_score: 0.8375\n",
            "Epoch 49: val_accuracy did not improve from 0.94580\n",
            "716/716 [==============================] - 48s 67ms/step - loss: 0.4800 - accuracy: 0.8374 - f1_score: 0.8376 - val_loss: 0.2021 - val_accuracy: 0.9395 - val_f1_score: 0.9388\n",
            "Epoch 50/100\n",
            "715/716 [============================>.] - ETA: 0s - loss: 0.4836 - accuracy: 0.8356 - f1_score: 0.8358\n",
            "Epoch 50: val_accuracy did not improve from 0.94580\n",
            "716/716 [==============================] - 48s 67ms/step - loss: 0.4836 - accuracy: 0.8356 - f1_score: 0.8358 - val_loss: 0.1958 - val_accuracy: 0.9441 - val_f1_score: 0.9439\n",
            "Epoch 51/100\n",
            "715/716 [============================>.] - ETA: 0s - loss: 0.4711 - accuracy: 0.8389 - f1_score: 0.8391\n",
            "Epoch 51: val_accuracy improved from 0.94580 to 0.94825, saving model to weights-improvement-51-0.9483.hdf5\n",
            "716/716 [==============================] - 49s 67ms/step - loss: 0.4711 - accuracy: 0.8389 - f1_score: 0.8391 - val_loss: 0.1867 - val_accuracy: 0.9483 - val_f1_score: 0.9480\n",
            "Epoch 52/100\n",
            "714/716 [============================>.] - ETA: 0s - loss: 0.4642 - accuracy: 0.8403 - f1_score: 0.8412\n",
            "Epoch 52: val_accuracy did not improve from 0.94825\n",
            "716/716 [==============================] - 49s 67ms/step - loss: 0.4643 - accuracy: 0.8403 - f1_score: 0.8412 - val_loss: 0.2095 - val_accuracy: 0.9416 - val_f1_score: 0.9412\n",
            "Epoch 53/100\n",
            "714/716 [============================>.] - ETA: 0s - loss: 0.4477 - accuracy: 0.8480 - f1_score: 0.8486\n",
            "Epoch 53: val_accuracy did not improve from 0.94825\n",
            "716/716 [==============================] - 49s 67ms/step - loss: 0.4476 - accuracy: 0.8479 - f1_score: 0.8485 - val_loss: 0.1992 - val_accuracy: 0.9455 - val_f1_score: 0.9454\n",
            "Epoch 54/100\n",
            "715/716 [============================>.] - ETA: 0s - loss: 0.4688 - accuracy: 0.8402 - f1_score: 0.8409\n",
            "Epoch 54: val_accuracy improved from 0.94825 to 0.95210, saving model to weights-improvement-54-0.9521.hdf5\n",
            "716/716 [==============================] - 48s 67ms/step - loss: 0.4690 - accuracy: 0.8402 - f1_score: 0.8408 - val_loss: 0.1659 - val_accuracy: 0.9521 - val_f1_score: 0.9519\n",
            "Epoch 55/100\n",
            "715/716 [============================>.] - ETA: 0s - loss: 0.4622 - accuracy: 0.8409 - f1_score: 0.8416\n",
            "Epoch 55: val_accuracy did not improve from 0.95210\n",
            "716/716 [==============================] - 48s 67ms/step - loss: 0.4624 - accuracy: 0.8408 - f1_score: 0.8415 - val_loss: 0.1827 - val_accuracy: 0.9472 - val_f1_score: 0.9471\n",
            "Epoch 56/100\n",
            "715/716 [============================>.] - ETA: 0s - loss: 0.4435 - accuracy: 0.8505 - f1_score: 0.8510\n",
            "Epoch 56: val_accuracy did not improve from 0.95210\n",
            "716/716 [==============================] - 49s 67ms/step - loss: 0.4435 - accuracy: 0.8506 - f1_score: 0.8510 - val_loss: 0.1839 - val_accuracy: 0.9458 - val_f1_score: 0.9460\n",
            "Epoch 57/100\n",
            "714/716 [============================>.] - ETA: 0s - loss: 0.4445 - accuracy: 0.8498 - f1_score: 0.8507\n",
            "Epoch 57: val_accuracy improved from 0.95210 to 0.95245, saving model to weights-improvement-57-0.9524.hdf5\n",
            "716/716 [==============================] - 49s 67ms/step - loss: 0.4444 - accuracy: 0.8499 - f1_score: 0.8509 - val_loss: 0.1647 - val_accuracy: 0.9524 - val_f1_score: 0.9525\n",
            "Epoch 58/100\n",
            "714/716 [============================>.] - ETA: 0s - loss: 0.4412 - accuracy: 0.8480 - f1_score: 0.8483\n",
            "Epoch 58: val_accuracy did not improve from 0.95245\n",
            "716/716 [==============================] - 48s 67ms/step - loss: 0.4422 - accuracy: 0.8477 - f1_score: 0.8480 - val_loss: 0.1892 - val_accuracy: 0.9469 - val_f1_score: 0.9463\n",
            "Epoch 59/100\n",
            "715/716 [============================>.] - ETA: 0s - loss: 0.4348 - accuracy: 0.8510 - f1_score: 0.8517\n",
            "Epoch 59: val_accuracy did not improve from 0.95245\n",
            "716/716 [==============================] - 48s 67ms/step - loss: 0.4348 - accuracy: 0.8511 - f1_score: 0.8517 - val_loss: 0.1663 - val_accuracy: 0.9503 - val_f1_score: 0.9502\n",
            "Epoch 60/100\n",
            "714/716 [============================>.] - ETA: 0s - loss: 0.4303 - accuracy: 0.8559 - f1_score: 0.8564\n",
            "Epoch 60: val_accuracy did not improve from 0.95245\n",
            "716/716 [==============================] - 48s 67ms/step - loss: 0.4302 - accuracy: 0.8559 - f1_score: 0.8564 - val_loss: 0.1814 - val_accuracy: 0.9486 - val_f1_score: 0.9486\n",
            "Epoch 61/100\n",
            "714/716 [============================>.] - ETA: 0s - loss: 0.4227 - accuracy: 0.8580 - f1_score: 0.8585\n",
            "Epoch 61: val_accuracy did not improve from 0.95245\n",
            "716/716 [==============================] - 48s 67ms/step - loss: 0.4224 - accuracy: 0.8582 - f1_score: 0.8586 - val_loss: 0.1748 - val_accuracy: 0.9521 - val_f1_score: 0.9516\n",
            "Epoch 62/100\n",
            "714/716 [============================>.] - ETA: 0s - loss: 0.4102 - accuracy: 0.8613 - f1_score: 0.8619\n",
            "Epoch 62: val_accuracy did not improve from 0.95245\n",
            "716/716 [==============================] - 49s 67ms/step - loss: 0.4106 - accuracy: 0.8611 - f1_score: 0.8617 - val_loss: 0.1700 - val_accuracy: 0.9507 - val_f1_score: 0.9507\n",
            "Epoch 63/100\n",
            "714/716 [============================>.] - ETA: 0s - loss: 0.4140 - accuracy: 0.8592 - f1_score: 0.8598\n",
            "Epoch 63: val_accuracy did not improve from 0.95245\n",
            "716/716 [==============================] - 48s 67ms/step - loss: 0.4141 - accuracy: 0.8591 - f1_score: 0.8597 - val_loss: 0.2088 - val_accuracy: 0.9409 - val_f1_score: 0.9406\n",
            "Epoch 64/100\n",
            "714/716 [============================>.] - ETA: 0s - loss: 0.4112 - accuracy: 0.8553 - f1_score: 0.8559\n",
            "Epoch 64: val_accuracy did not improve from 0.95245\n",
            "716/716 [==============================] - 48s 67ms/step - loss: 0.4111 - accuracy: 0.8554 - f1_score: 0.8560 - val_loss: 0.1714 - val_accuracy: 0.9514 - val_f1_score: 0.9512\n",
            "Epoch 65/100\n",
            "716/716 [==============================] - ETA: 0s - loss: 0.4130 - accuracy: 0.8610 - f1_score: 0.8615\n",
            "Epoch 65: val_accuracy improved from 0.95245 to 0.95839, saving model to weights-improvement-65-0.9584.hdf5\n",
            "716/716 [==============================] - 49s 67ms/step - loss: 0.4130 - accuracy: 0.8610 - f1_score: 0.8615 - val_loss: 0.1622 - val_accuracy: 0.9584 - val_f1_score: 0.9584\n",
            "Epoch 66/100\n",
            "716/716 [==============================] - ETA: 0s - loss: 0.4124 - accuracy: 0.8625 - f1_score: 0.8628\n",
            "Epoch 66: val_accuracy did not improve from 0.95839\n",
            "716/716 [==============================] - 49s 67ms/step - loss: 0.4124 - accuracy: 0.8625 - f1_score: 0.8628 - val_loss: 0.1626 - val_accuracy: 0.9503 - val_f1_score: 0.9504\n",
            "Epoch 67/100\n",
            "715/716 [============================>.] - ETA: 0s - loss: 0.4079 - accuracy: 0.8590 - f1_score: 0.8596\n",
            "Epoch 67: val_accuracy did not improve from 0.95839\n",
            "716/716 [==============================] - 49s 67ms/step - loss: 0.4078 - accuracy: 0.8590 - f1_score: 0.8596 - val_loss: 0.1500 - val_accuracy: 0.9542 - val_f1_score: 0.9544\n",
            "Epoch 68/100\n",
            "715/716 [============================>.] - ETA: 0s - loss: 0.3961 - accuracy: 0.8667 - f1_score: 0.8671\n",
            "Epoch 68: val_accuracy did not improve from 0.95839\n",
            "716/716 [==============================] - 49s 67ms/step - loss: 0.3961 - accuracy: 0.8666 - f1_score: 0.8670 - val_loss: 0.1657 - val_accuracy: 0.9559 - val_f1_score: 0.9558\n",
            "Epoch 69/100\n",
            "715/716 [============================>.] - ETA: 0s - loss: 0.3908 - accuracy: 0.8670 - f1_score: 0.8675\n",
            "Epoch 69: val_accuracy did not improve from 0.95839\n",
            "716/716 [==============================] - 49s 67ms/step - loss: 0.3909 - accuracy: 0.8671 - f1_score: 0.8675 - val_loss: 0.1751 - val_accuracy: 0.9500 - val_f1_score: 0.9500\n",
            "Epoch 70/100\n",
            "714/716 [============================>.] - ETA: 0s - loss: 0.3880 - accuracy: 0.8651 - f1_score: 0.8658\n",
            "Epoch 70: val_accuracy did not improve from 0.95839\n",
            "716/716 [==============================] - 48s 67ms/step - loss: 0.3880 - accuracy: 0.8650 - f1_score: 0.8657 - val_loss: 0.1568 - val_accuracy: 0.9580 - val_f1_score: 0.9583\n",
            "Epoch 71/100\n",
            "715/716 [============================>.] - ETA: 0s - loss: 0.3963 - accuracy: 0.8635 - f1_score: 0.8644\n",
            "Epoch 71: val_accuracy did not improve from 0.95839\n",
            "716/716 [==============================] - 49s 67ms/step - loss: 0.3963 - accuracy: 0.8634 - f1_score: 0.8643 - val_loss: 0.1646 - val_accuracy: 0.9573 - val_f1_score: 0.9571\n",
            "Epoch 72/100\n",
            "716/716 [==============================] - ETA: 0s - loss: 0.3897 - accuracy: 0.8662 - f1_score: 0.8667\n",
            "Epoch 72: val_accuracy did not improve from 0.95839\n",
            "716/716 [==============================] - 49s 67ms/step - loss: 0.3897 - accuracy: 0.8662 - f1_score: 0.8667 - val_loss: 0.1662 - val_accuracy: 0.9528 - val_f1_score: 0.9529\n",
            "Epoch 73/100\n",
            "715/716 [============================>.] - ETA: 0s - loss: 0.3795 - accuracy: 0.8689 - f1_score: 0.8695\n",
            "Epoch 73: val_accuracy did not improve from 0.95839\n",
            "716/716 [==============================] - 49s 67ms/step - loss: 0.3794 - accuracy: 0.8689 - f1_score: 0.8695 - val_loss: 0.1786 - val_accuracy: 0.9538 - val_f1_score: 0.9538\n",
            "Epoch 74/100\n",
            "715/716 [============================>.] - ETA: 0s - loss: 0.3738 - accuracy: 0.8707 - f1_score: 0.8711\n",
            "Epoch 74: val_accuracy did not improve from 0.95839\n",
            "716/716 [==============================] - 49s 67ms/step - loss: 0.3737 - accuracy: 0.8707 - f1_score: 0.8711 - val_loss: 0.1947 - val_accuracy: 0.9507 - val_f1_score: 0.9507\n",
            "Epoch 75/100\n",
            "714/716 [============================>.] - ETA: 0s - loss: 0.3676 - accuracy: 0.8781 - f1_score: 0.8789\n",
            "Epoch 75: val_accuracy did not improve from 0.95839\n",
            "Restoring model weights from the end of the best epoch: 65.\n",
            "716/716 [==============================] - 49s 67ms/step - loss: 0.3678 - accuracy: 0.8779 - f1_score: 0.8787 - val_loss: 0.1806 - val_accuracy: 0.9490 - val_f1_score: 0.9491\n",
            "Epoch 75: early stopping\n"
          ]
        }
      ]
    },
    {
      "cell_type": "code",
      "source": [
        "model.evaluate(test_data, batch_size= 16, return_dict= True)"
      ],
      "metadata": {
        "colab": {
          "base_uri": "https://localhost:8080/"
        },
        "id": "I2xN4seoYV2b",
        "outputId": "c5c5e543-5002-4cb4-b4c7-14e929f3004e"
      },
      "execution_count": 25,
      "outputs": [
        {
          "output_type": "stream",
          "name": "stdout",
          "text": [
            "94/94 [==============================] - 368s 4s/step - loss: 0.2069 - accuracy: 0.9460 - f1_score: 0.9459\n"
          ]
        },
        {
          "output_type": "execute_result",
          "data": {
            "text/plain": [
              "{'loss': 0.20688563585281372,\n",
              " 'accuracy': 0.9459999799728394,\n",
              " 'f1_score': 0.945870578289032}"
            ]
          },
          "metadata": {},
          "execution_count": 25
        }
      ]
    },
    {
      "cell_type": "code",
      "source": [
        "model_load= tf.keras.models.load_model('/content/weights-improvement-65-0.9584.hdf5')\n",
        "model_load.evaluate(test_data, batch_size= 16, return_dict= True)"
      ],
      "metadata": {
        "colab": {
          "base_uri": "https://localhost:8080/"
        },
        "id": "-q2FOr2d90mi",
        "outputId": "3dee8097-064e-4963-8f57-4e7214927157"
      },
      "execution_count": 26,
      "outputs": [
        {
          "output_type": "stream",
          "name": "stdout",
          "text": [
            "94/94 [==============================] - 10s 100ms/step - loss: 0.2069 - accuracy: 0.9460 - f1_score: 0.9459\n"
          ]
        },
        {
          "output_type": "execute_result",
          "data": {
            "text/plain": [
              "{'loss': 0.20688563585281372,\n",
              " 'accuracy': 0.9459999799728394,\n",
              " 'f1_score': 0.945870578289032}"
            ]
          },
          "metadata": {},
          "execution_count": 26
        }
      ]
    },
    {
      "cell_type": "code",
      "source": [
        "# Generating Confusion Matrix and Classification Report\n",
        "Y_pred= model.predict_generator(test_data, 1500// 16 + 1)\n",
        "y_pred= np.argmax(Y_pred, axis= 1)\n",
        "print('Confusion Matrix')\n",
        "conf_matrix= confusion_matrix(test_data.classes, y_pred)\n",
        "conf_mat = np.array2string(conf_matrix)\n",
        "#print(conf_matrix)\n",
        "#print(\"=============================================================================================\")\n",
        "print('Classification Report')\n",
        "target_names= test_data.class_indices\n",
        "class_rep_vgg = classification_report(test_data.classes, y_pred, target_names=target_names)\n",
        "print(class_rep_vgg)"
      ],
      "metadata": {
        "colab": {
          "base_uri": "https://localhost:8080/"
        },
        "id": "EAjGmcc2YZVY",
        "outputId": "f025bab1-86e6-4f3f-a99c-f6789e36725f"
      },
      "execution_count": 27,
      "outputs": [
        {
          "output_type": "stream",
          "name": "stderr",
          "text": [
            "/usr/local/lib/python3.7/dist-packages/ipykernel_launcher.py:2: UserWarning: `Model.predict_generator` is deprecated and will be removed in a future version. Please use `Model.predict`, which supports generators.\n",
            "  \n"
          ]
        },
        {
          "output_type": "stream",
          "name": "stdout",
          "text": [
            "Confusion Matrix\n",
            "Classification Report\n",
            "                          precision    recall  f1-score   support\n",
            "\n",
            "   bacterial_leaf_blight       0.96      0.88      0.92       150\n",
            "   bacterial_leaf_streak       0.95      0.99      0.97       150\n",
            "bacterial_panicle_blight       0.99      0.97      0.98       150\n",
            "                   blast       0.92      0.97      0.94       150\n",
            "              brown_spot       0.95      0.93      0.94       150\n",
            "              dead_heart       0.96      0.99      0.98       150\n",
            "            downy_mildew       0.95      0.92      0.93       150\n",
            "                   hispa       0.89      0.93      0.91       150\n",
            "                  normal       0.95      0.93      0.94       150\n",
            "                  tungro       0.94      0.96      0.95       150\n",
            "\n",
            "                accuracy                           0.95      1500\n",
            "               macro avg       0.95      0.95      0.95      1500\n",
            "            weighted avg       0.95      0.95      0.95      1500\n",
            "\n"
          ]
        }
      ]
    },
    {
      "cell_type": "code",
      "source": [
        "ConfusionMatrixDisplay.from_predictions(test_data.classes, y_pred, display_labels= target_names, xticks_rotation= 'vertical')"
      ],
      "metadata": {
        "colab": {
          "base_uri": "https://localhost:8080/",
          "height": 406
        },
        "id": "tT3VcrsgYdGx",
        "outputId": "728dca5c-95b0-43a3-e2ab-e2281f7ee800"
      },
      "execution_count": 28,
      "outputs": [
        {
          "output_type": "execute_result",
          "data": {
            "text/plain": [
              "<sklearn.metrics._plot.confusion_matrix.ConfusionMatrixDisplay at 0x7fe28f3d63d0>"
            ]
          },
          "metadata": {},
          "execution_count": 28
        },
        {
          "output_type": "display_data",
          "data": {
            "text/plain": [
              "<Figure size 432x288 with 2 Axes>"
            ],
            "image/png": "[encoded data removed]"
          },
          "metadata": {
            "needs_background": "light"
          }
        }
      ]
    }
  ]
}