{
  "nbformat": 4,
  "nbformat_minor": 0,
  "metadata": {
    "colab": {
      "provenance": [],
      "collapsed_sections": [],
      "machine_shape": "hm",
      "mount_file_id": "1Tv3OCnqy1z5OpEkO130l3dxhXr0wsZgB",
      "authorship_tag": "ABX9TyNE5AS/6mZoL2GzDHOE749j",
      "include_colab_link": true
    },
    "kernelspec": {
      "name": "python3",
      "display_name": "Python 3"
    },
    "language_info": {
      "name": "python"
    },
    "accelerator": "GPU",
    "gpuClass": "premium"
  },
  "cells": [
    {
      "cell_type": "markdown",
      "metadata": {
        "id": "view-in-github",
        "colab_type": "text"
      },
      "source": [
        "<a href=\"https://colab.research.google.com/github/anikch/paddy/blob/main/Code2_Paddy_VGG16_exp3.ipynb\" target=\"_parent\"><img src=\"https://colab.research.google.com/assets/colab-badge.svg\" alt=\"Open In Colab\"/></a>"
      ]
    },
    {
      "cell_type": "code",
      "execution_count": 40,
      "metadata": {
        "colab": {
          "base_uri": "https://localhost:8080/"
        },
        "id": "ldWDN70l6Hrz",
        "outputId": "5a79d03e-c61e-464f-fd68-ca9797169eff"
      },
      "outputs": [
        {
          "output_type": "stream",
          "name": "stdout",
          "text": [
            "Looking in indexes: https://pypi.org/simple, https://us-python.pkg.dev/colab-wheels/public/simple/\n",
            "Requirement already satisfied: tensorflow_addons in /usr/local/lib/python3.7/dist-packages (0.18.0)\n",
            "Requirement already satisfied: packaging in /usr/local/lib/python3.7/dist-packages (from tensorflow_addons) (21.3)\n",
            "Requirement already satisfied: typeguard>=2.7 in /usr/local/lib/python3.7/dist-packages (from tensorflow_addons) (2.7.1)\n",
            "Requirement already satisfied: pyparsing!=3.0.5,>=2.0.2 in /usr/local/lib/python3.7/dist-packages (from packaging->tensorflow_addons) (3.0.9)\n"
          ]
        }
      ],
      "source": [
        "!pip install tensorflow_addons"
      ]
    },
    {
      "cell_type": "code",
      "source": [
        "!pip install keras_cv"
      ],
      "metadata": {
        "colab": {
          "base_uri": "https://localhost:8080/"
        },
        "id": "TEPL2726jHpv",
        "outputId": "f54cec3b-1ebd-4a93-9cad-9db26150305e"
      },
      "execution_count": 41,
      "outputs": [
        {
          "output_type": "stream",
          "name": "stdout",
          "text": [
            "Looking in indexes: https://pypi.org/simple, https://us-python.pkg.dev/colab-wheels/public/simple/\n",
            "Requirement already satisfied: keras_cv in /usr/local/lib/python3.7/dist-packages (0.3.4)\n",
            "Requirement already satisfied: absl-py in /usr/local/lib/python3.7/dist-packages (from keras_cv) (1.3.0)\n",
            "Requirement already satisfied: packaging in /usr/local/lib/python3.7/dist-packages (from keras_cv) (21.3)\n",
            "Requirement already satisfied: regex in /usr/local/lib/python3.7/dist-packages (from keras_cv) (2022.6.2)\n",
            "Requirement already satisfied: pyparsing!=3.0.5,>=2.0.2 in /usr/local/lib/python3.7/dist-packages (from packaging->keras_cv) (3.0.9)\n"
          ]
        }
      ]
    },
    {
      "cell_type": "code",
      "source": [
        "import pandas as pd\n",
        "import numpy as np\n",
        "import tensorflow as tf\n",
        "import tensorflow_addons as tfa\n",
        "from sklearn.metrics import classification_report, confusion_matrix, ConfusionMatrixDisplay\n",
        "import matplotlib.pyplot as plt\n",
        "import seaborn as sns\n",
        "from typing import List\n",
        "from tensorflow import keras\n",
        "from keras.preprocessing.image import ImageDataGenerator\n",
        "from tensorflow.keras import layers\n",
        "from tensorflow.keras.callbacks import ModelCheckpoint, EarlyStopping\n",
        "from functools import partial\n",
        "import posixpath\n",
        "from keras import models, regularizers, layers, optimizers, losses, metrics\n",
        "import keras_cv\n",
        "from keras.models import Sequential\n",
        "from keras.layers import Dense\n",
        "from tensorflow.keras.utils import plot_model"
      ],
      "metadata": {
        "id": "7lI0v4g76OWm"
      },
      "execution_count": 42,
      "outputs": []
    },
    {
      "cell_type": "code",
      "source": [
        "from google.colab import drive\n",
        "drive.mount('/content/drive')"
      ],
      "metadata": {
        "colab": {
          "base_uri": "https://localhost:8080/"
        },
        "id": "v7njDtLg6Ps6",
        "outputId": "e05b93ae-041b-4d8a-dc47-e944cd2434d0"
      },
      "execution_count": 43,
      "outputs": [
        {
          "output_type": "stream",
          "name": "stdout",
          "text": [
            "Drive already mounted at /content/drive; to attempt to forcibly remount, call drive.mount(\"/content/drive\", force_remount=True).\n"
          ]
        }
      ]
    },
    {
      "cell_type": "code",
      "source": [
        "!nvidia-smi"
      ],
      "metadata": {
        "colab": {
          "base_uri": "https://localhost:8080/"
        },
        "id": "lb2hQ92A6WOI",
        "outputId": "20dff65a-55b1-4541-c1eb-60f9ada1bfa3"
      },
      "execution_count": 44,
      "outputs": [
        {
          "output_type": "stream",
          "name": "stdout",
          "text": [
            "Mon Oct 24 21:15:02 2022       \n",
            "+-----------------------------------------------------------------------------+\n",
            "| NVIDIA-SMI 460.32.03    Driver Version: 460.32.03    CUDA Version: 11.2     |\n",
            "|-------------------------------+----------------------+----------------------+\n",
            "| GPU  Name        Persistence-M| Bus-Id        Disp.A | Volatile Uncorr. ECC |\n",
            "| Fan  Temp  Perf  Pwr:Usage/Cap|         Memory-Usage | GPU-Util  Compute M. |\n",
            "|                               |                      |               MIG M. |\n",
            "|===============================+======================+======================|\n",
            "|   0  A100-SXM4-40GB      Off  | 00000000:00:04.0 Off |                    0 |\n",
            "| N/A   35C    P0    48W / 400W |   9700MiB / 40536MiB |      0%      Default |\n",
            "|                               |                      |             Disabled |\n",
            "+-------------------------------+----------------------+----------------------+\n",
            "                                                                               \n",
            "+-----------------------------------------------------------------------------+\n",
            "| Processes:                                                                  |\n",
            "|  GPU   GI   CI        PID   Type   Process name                  GPU Memory |\n",
            "|        ID   ID                                                   Usage      |\n",
            "|=============================================================================|\n",
            "+-----------------------------------------------------------------------------+\n"
          ]
        }
      ]
    },
    {
      "cell_type": "code",
      "source": [
        "colab= '/content/drive/MyDrive'\n",
        "local= r'G:\\My Drive'\n",
        "\n",
        "code_runtime= colab"
      ],
      "metadata": {
        "id": "4AtLPkXN6aSa"
      },
      "execution_count": 45,
      "outputs": []
    },
    {
      "cell_type": "code",
      "source": [
        "tf.__version__"
      ],
      "metadata": {
        "colab": {
          "base_uri": "https://localhost:8080/",
          "height": 35
        },
        "id": "FzWX_57e6dMv",
        "outputId": "571f93ec-d14b-437b-dc13-f558cb342ea7"
      },
      "execution_count": 46,
      "outputs": [
        {
          "output_type": "execute_result",
          "data": {
            "text/plain": [
              "'2.9.2'"
            ],
            "application/vnd.google.colaboratory.intrinsic+json": {
              "type": "string"
            }
          },
          "metadata": {},
          "execution_count": 46
        }
      ]
    },
    {
      "cell_type": "code",
      "source": [
        "file1= 'thesis/dataset/paddy_doctor/train.csv'\n",
        "inp_file = posixpath.join(code_runtime, file1)\n",
        "\n",
        "train_table=pd.read_csv(inp_file)\n",
        "train_table"
      ],
      "metadata": {
        "colab": {
          "base_uri": "https://localhost:8080/",
          "height": 424
        },
        "id": "1pzjWUi86exJ",
        "outputId": "c3ab51da-3c7a-4942-ecb3-146be75146a6"
      },
      "execution_count": 47,
      "outputs": [
        {
          "output_type": "execute_result",
          "data": {
            "text/plain": [
              "         image_id                  label variety  age\n",
              "0      100330.jpg  bacterial_leaf_blight   ADT45   45\n",
              "1      100365.jpg  bacterial_leaf_blight   ADT45   45\n",
              "2      100382.jpg  bacterial_leaf_blight   ADT45   45\n",
              "3      100632.jpg  bacterial_leaf_blight   ADT45   45\n",
              "4      101918.jpg  bacterial_leaf_blight   ADT45   45\n",
              "...           ...                    ...     ...  ...\n",
              "10402  107607.jpg                 tungro   Zonal   55\n",
              "10403  107811.jpg                 tungro   Zonal   55\n",
              "10404  108547.jpg                 tungro   Zonal   55\n",
              "10405  110245.jpg                 tungro   Zonal   55\n",
              "10406  110381.jpg                 tungro   Zonal   55\n",
              "\n",
              "[10407 rows x 4 columns]"
            ],
            "text/html": [
              "\n",
              "  <div id=\"df-3d73d120-96e1-4905-8d31-be2bd8990477\">\n",
              "    <div class=\"colab-df-container\">\n",
              "      <div>\n",
              "<style scoped>\n",
              "    .dataframe tbody tr th:only-of-type {\n",
              "        vertical-align: middle;\n",
              "    }\n",
              "\n",
              "    .dataframe tbody tr th {\n",
              "        vertical-align: top;\n",
              "    }\n",
              "\n",
              "    .dataframe thead th {\n",
              "        text-align: right;\n",
              "    }\n",
              "</style>\n",
              "<table border=\"1\" class=\"dataframe\">\n",
              "  <thead>\n",
              "    <tr style=\"text-align: right;\">\n",
              "      <th></th>\n",
              "      <th>image_id</th>\n",
              "      <th>label</th>\n",
              "      <th>variety</th>\n",
              "      <th>age</th>\n",
              "    </tr>\n",
              "  </thead>\n",
              "  <tbody>\n",
              "    <tr>\n",
              "      <th>0</th>\n",
              "      <td>100330.jpg</td>\n",
              "      <td>bacterial_leaf_blight</td>\n",
              "      <td>ADT45</td>\n",
              "      <td>45</td>\n",
              "    </tr>\n",
              "    <tr>\n",
              "      <th>1</th>\n",
              "      <td>100365.jpg</td>\n",
              "      <td>bacterial_leaf_blight</td>\n",
              "      <td>ADT45</td>\n",
              "      <td>45</td>\n",
              "    </tr>\n",
              "    <tr>\n",
              "      <th>2</th>\n",
              "      <td>100382.jpg</td>\n",
              "      <td>bacterial_leaf_blight</td>\n",
              "      <td>ADT45</td>\n",
              "      <td>45</td>\n",
              "    </tr>\n",
              "    <tr>\n",
              "      <th>3</th>\n",
              "      <td>100632.jpg</td>\n",
              "      <td>bacterial_leaf_blight</td>\n",
              "      <td>ADT45</td>\n",
              "      <td>45</td>\n",
              "    </tr>\n",
              "    <tr>\n",
              "      <th>4</th>\n",
              "      <td>101918.jpg</td>\n",
              "      <td>bacterial_leaf_blight</td>\n",
              "      <td>ADT45</td>\n",
              "      <td>45</td>\n",
              "    </tr>\n",
              "    <tr>\n",
              "      <th>...</th>\n",
              "      <td>...</td>\n",
              "      <td>...</td>\n",
              "      <td>...</td>\n",
              "      <td>...</td>\n",
              "    </tr>\n",
              "    <tr>\n",
              "      <th>10402</th>\n",
              "      <td>107607.jpg</td>\n",
              "      <td>tungro</td>\n",
              "      <td>Zonal</td>\n",
              "      <td>55</td>\n",
              "    </tr>\n",
              "    <tr>\n",
              "      <th>10403</th>\n",
              "      <td>107811.jpg</td>\n",
              "      <td>tungro</td>\n",
              "      <td>Zonal</td>\n",
              "      <td>55</td>\n",
              "    </tr>\n",
              "    <tr>\n",
              "      <th>10404</th>\n",
              "      <td>108547.jpg</td>\n",
              "      <td>tungro</td>\n",
              "      <td>Zonal</td>\n",
              "      <td>55</td>\n",
              "    </tr>\n",
              "    <tr>\n",
              "      <th>10405</th>\n",
              "      <td>110245.jpg</td>\n",
              "      <td>tungro</td>\n",
              "      <td>Zonal</td>\n",
              "      <td>55</td>\n",
              "    </tr>\n",
              "    <tr>\n",
              "      <th>10406</th>\n",
              "      <td>110381.jpg</td>\n",
              "      <td>tungro</td>\n",
              "      <td>Zonal</td>\n",
              "      <td>55</td>\n",
              "    </tr>\n",
              "  </tbody>\n",
              "</table>\n",
              "<p>10407 rows × 4 columns</p>\n",
              "</div>\n",
              "      <button class=\"colab-df-convert\" onclick=\"convertToInteractive('df-3d73d120-96e1-4905-8d31-be2bd8990477')\"\n",
              "              title=\"Convert this dataframe to an interactive table.\"\n",
              "              style=\"display:none;\">\n",
              "        \n",
              "  <svg xmlns=\"http://www.w3.org/2000/svg\" height=\"24px\"viewBox=\"0 0 24 24\"\n",
              "       width=\"24px\">\n",
              "    <path d=\"M0 0h24v24H0V0z\" fill=\"none\"/>\n",
              "    <path d=\"M18.56 5.44l.94 2.06.94-2.06 2.06-.94-2.06-.94-.94-2.06-.94 2.06-2.06.94zm-11 1L8.5 8.5l.94-2.06 2.06-.94-2.06-.94L8.5 2.5l-.94 2.06-2.06.94zm10 10l.94 2.06.94-2.06 2.06-.94-2.06-.94-.94-2.06-.94 2.06-2.06.94z\"/><path d=\"M17.41 7.96l-1.37-1.37c-.4-.4-.92-.59-1.43-.59-.52 0-1.04.2-1.43.59L10.3 9.45l-7.72 7.72c-.78.78-.78 2.05 0 2.83L4 21.41c.39.39.9.59 1.41.59.51 0 1.02-.2 1.41-.59l7.78-7.78 2.81-2.81c.8-.78.8-2.07 0-2.86zM5.41 20L4 18.59l7.72-7.72 1.47 1.35L5.41 20z\"/>\n",
              "  </svg>\n",
              "      </button>\n",
              "      \n",
              "  <style>\n",
              "    .colab-df-container {\n",
              "      display:flex;\n",
              "      flex-wrap:wrap;\n",
              "      gap: 12px;\n",
              "    }\n",
              "\n",
              "    .colab-df-convert {\n",
              "      background-color: #E8F0FE;\n",
              "      border: none;\n",
              "      border-radius: 50%;\n",
              "      cursor: pointer;\n",
              "      display: none;\n",
              "      fill: #1967D2;\n",
              "      height: 32px;\n",
              "      padding: 0 0 0 0;\n",
              "      width: 32px;\n",
              "    }\n",
              "\n",
              "    .colab-df-convert:hover {\n",
              "      background-color: #E2EBFA;\n",
              "      box-shadow: 0px 1px 2px rgba(60, 64, 67, 0.3), 0px 1px 3px 1px rgba(60, 64, 67, 0.15);\n",
              "      fill: #174EA6;\n",
              "    }\n",
              "\n",
              "    [theme=dark] .colab-df-convert {\n",
              "      background-color: #3B4455;\n",
              "      fill: #D2E3FC;\n",
              "    }\n",
              "\n",
              "    [theme=dark] .colab-df-convert:hover {\n",
              "      background-color: #434B5C;\n",
              "      box-shadow: 0px 1px 3px 1px rgba(0, 0, 0, 0.15);\n",
              "      filter: drop-shadow(0px 1px 2px rgba(0, 0, 0, 0.3));\n",
              "      fill: #FFFFFF;\n",
              "    }\n",
              "  </style>\n",
              "\n",
              "      <script>\n",
              "        const buttonEl =\n",
              "          document.querySelector('#df-3d73d120-96e1-4905-8d31-be2bd8990477 button.colab-df-convert');\n",
              "        buttonEl.style.display =\n",
              "          google.colab.kernel.accessAllowed ? 'block' : 'none';\n",
              "\n",
              "        async function convertToInteractive(key) {\n",
              "          const element = document.querySelector('#df-3d73d120-96e1-4905-8d31-be2bd8990477');\n",
              "          const dataTable =\n",
              "            await google.colab.kernel.invokeFunction('convertToInteractive',\n",
              "                                                     [key], {});\n",
              "          if (!dataTable) return;\n",
              "\n",
              "          const docLinkHtml = 'Like what you see? Visit the ' +\n",
              "            '<a target=\"_blank\" href=https://colab.research.google.com/notebooks/data_table.ipynb>data table notebook</a>'\n",
              "            + ' to learn more about interactive tables.';\n",
              "          element.innerHTML = '';\n",
              "          dataTable['output_type'] = 'display_data';\n",
              "          await google.colab.output.renderOutput(dataTable, element);\n",
              "          const docLink = document.createElement('div');\n",
              "          docLink.innerHTML = docLinkHtml;\n",
              "          element.appendChild(docLink);\n",
              "        }\n",
              "      </script>\n",
              "    </div>\n",
              "  </div>\n",
              "  "
            ]
          },
          "metadata": {},
          "execution_count": 47
        }
      ]
    },
    {
      "cell_type": "code",
      "source": [
        "labels=list(np.unique(train_table['label']))\n",
        "labels"
      ],
      "metadata": {
        "colab": {
          "base_uri": "https://localhost:8080/"
        },
        "id": "SJnUw8yI6j-u",
        "outputId": "14b5940d-2516-4c0f-80eb-f7a0b51c5645"
      },
      "execution_count": 48,
      "outputs": [
        {
          "output_type": "execute_result",
          "data": {
            "text/plain": [
              "['bacterial_leaf_blight',\n",
              " 'bacterial_leaf_streak',\n",
              " 'bacterial_panicle_blight',\n",
              " 'blast',\n",
              " 'brown_spot',\n",
              " 'dead_heart',\n",
              " 'downy_mildew',\n",
              " 'hispa',\n",
              " 'normal',\n",
              " 'tungro']"
            ]
          },
          "metadata": {},
          "execution_count": 48
        }
      ]
    },
    {
      "cell_type": "code",
      "source": [
        "train_dir= 'thesis/dataset/paddy_doctor/train/'\n",
        "val_dir= 'thesis/dataset/paddy_doctor/val/'\n",
        "img_size= 224\n",
        "\n",
        "train_files= posixpath.join(code_runtime, train_dir)\n",
        "test_files= posixpath.join(code_runtime, val_dir)\n",
        "\n",
        "train_data= tf.keras.utils.image_dataset_from_directory(train_files,\n",
        "                                                        labels='inferred',\n",
        "                                                        label_mode='categorical',\n",
        "                                                        validation_split=0.2,\n",
        "                                                        subset=\"training\",\n",
        "                                                        class_names=labels,\n",
        "                                                        color_mode='rgb',\n",
        "                                                        image_size=(img_size, img_size),\n",
        "                                                        shuffle=True,\n",
        "                                                        seed= 42,\n",
        "                                                        batch_size= 16)\n",
        "\n",
        "val_data= tf.keras.utils.image_dataset_from_directory(train_files,\n",
        "                                                        labels= 'inferred',\n",
        "                                                        label_mode='categorical',\n",
        "                                                        validation_split=0.2,\n",
        "                                                        subset=\"validation\",\n",
        "                                                        class_names= labels,\n",
        "                                                        color_mode='rgb',\n",
        "                                                        image_size=(img_size, img_size),\n",
        "                                                        shuffle=True,\n",
        "                                                        seed= 42,\n",
        "                                                        batch_size= 16)\n",
        "\n",
        "\n",
        "test_datagen= ImageDataGenerator()\n",
        "test_data= test_datagen.flow_from_directory(test_files,\n",
        "                                            target_size= (img_size, img_size),\n",
        "                                            batch_size= 16,\n",
        "                                            shuffle = False, \n",
        "                                            class_mode='categorical')"
      ],
      "metadata": {
        "colab": {
          "base_uri": "https://localhost:8080/"
        },
        "id": "ZOsJAOVU6naa",
        "outputId": "b5908db2-a8fd-4ec4-c496-9530c03d6bc0"
      },
      "execution_count": 49,
      "outputs": [
        {
          "output_type": "stream",
          "name": "stdout",
          "text": [
            "Found 14302 files belonging to 10 classes.\n",
            "Using 11442 files for training.\n",
            "Found 14302 files belonging to 10 classes.\n",
            "Using 2860 files for validation.\n",
            "Found 1500 images belonging to 10 classes.\n"
          ]
        }
      ]
    },
    {
      "cell_type": "code",
      "source": [
        "class_names = train_data.class_names\n",
        "print(class_names)"
      ],
      "metadata": {
        "colab": {
          "base_uri": "https://localhost:8080/"
        },
        "id": "3NskJ7ArhJWJ",
        "outputId": "a85b5b4d-ede3-43b0-8315-dd5f2cf3c5b2"
      },
      "execution_count": 51,
      "outputs": [
        {
          "output_type": "stream",
          "name": "stdout",
          "text": [
            "['bacterial_leaf_blight', 'bacterial_leaf_streak', 'bacterial_panicle_blight', 'blast', 'brown_spot', 'dead_heart', 'downy_mildew', 'hispa', 'normal', 'tungro']\n"
          ]
        }
      ]
    },
    {
      "cell_type": "code",
      "source": [
        "test_data.class_indices"
      ],
      "metadata": {
        "colab": {
          "base_uri": "https://localhost:8080/"
        },
        "id": "g5lYz3u4bK77",
        "outputId": "a9c1218c-5a0a-4a61-c1b2-1781f424eedf"
      },
      "execution_count": 52,
      "outputs": [
        {
          "output_type": "execute_result",
          "data": {
            "text/plain": [
              "{'bacterial_leaf_blight': 0,\n",
              " 'bacterial_leaf_streak': 1,\n",
              " 'bacterial_panicle_blight': 2,\n",
              " 'blast': 3,\n",
              " 'brown_spot': 4,\n",
              " 'dead_heart': 5,\n",
              " 'downy_mildew': 6,\n",
              " 'hispa': 7,\n",
              " 'normal': 8,\n",
              " 'tungro': 9}"
            ]
          },
          "metadata": {},
          "execution_count": 52
        }
      ]
    },
    {
      "cell_type": "markdown",
      "source": [
        "## Augmentation Pipeline"
      ],
      "metadata": {
        "id": "jvjXLOt4iFkj"
      }
    },
    {
      "cell_type": "code",
      "source": [
        "# data augmentation\n",
        "def augment_train_data(images, labels):\n",
        "  inputs= {\"images\": images, \"labels\": labels}\n",
        "  layers= keras_cv.layers.RandAugment.get_standard_policy(value_range=(0, 255), geometric= True, magnitude= 0.7, magnitude_stddev= 0.25)\n",
        "  layers= layers[4:] + [keras_cv.layers.preprocessing.RandomFlip(mode= 'horizontal'),\n",
        "                    keras_cv.layers.preprocessing.RandomRotation(factor= .1, seed= 42),\n",
        "                    keras_cv.layers.GridMask(ratio_factor= (.0, .3), rotation_factor= (.0,.1), fill_mode= 'gaussian_noise'), \n",
        "                    keras_cv.layers.RandomColorJitter(brightness_factor= .5, contrast_factor= .5, hue_factor= .2, saturation_factor= (.1, .9), value_range= [0, 255])]\n",
        "  aug_pipeline= keras_cv.layers.RandomAugmentationPipeline(layers= layers, augmentations_per_image= 3)\n",
        "  outputs= aug_pipeline(inputs)\n",
        "  print(*layers)\n",
        "  return outputs['images'], outputs['labels']"
      ],
      "metadata": {
        "id": "rIQR6MzoiG-A"
      },
      "execution_count": 56,
      "outputs": []
    },
    {
      "cell_type": "code",
      "source": [
        "AUTOTUNE= tf.data.AUTOTUNE\n",
        "train_aug_ds= train_data.map(augment_train_data, num_parallel_calls= tf.data.AUTOTUNE).prefetch(tf.data.AUTOTUNE)\n",
        "val_ds= val_data.prefetch(buffer_size= AUTOTUNE)"
      ],
      "metadata": {
        "colab": {
          "base_uri": "https://localhost:8080/"
        },
        "id": "ZDvxAwUfiVjJ",
        "outputId": "ab3c00b4-18c2-4cff-d696-fdb2954899ed"
      },
      "execution_count": 57,
      "outputs": [
        {
          "output_type": "stream",
          "name": "stdout",
          "text": [
            "<keras.layers.preprocessing.image_preprocessing.RandomContrast object at 0x7f3d1f5cdb10> <keras.layers.preprocessing.image_preprocessing.RandomBrightness object at 0x7f3d1f605c50> <keras_cv.layers.preprocessing.random_shear.RandomShear object at 0x7f3d1f578950> <keras_cv.layers.preprocessing.random_shear.RandomShear object at 0x7f3d1f578210> <keras.layers.preprocessing.image_preprocessing.RandomTranslation object at 0x7f3d1f578990> <keras.layers.preprocessing.image_preprocessing.RandomTranslation object at 0x7f3d22d845d0> <keras_cv.layers.preprocessing.random_flip.RandomFlip object at 0x7f3d1f6d8890> <keras_cv.layers.preprocessing.random_rotation.RandomRotation object at 0x7f3d2287db10> <keras_cv.layers.preprocessing.grid_mask.GridMask object at 0x7f3d1f431b10> <keras_cv.layers.preprocessing.random_color_jitter.RandomColorJitter object at 0x7f3d1f42c750>\n"
          ]
        }
      ]
    },
    {
      "cell_type": "markdown",
      "source": [
        "## VGG16 (Augmentation + Transfer Learning + Fine Tune)"
      ],
      "metadata": {
        "id": "ZdGqx8T3OC5O"
      }
    },
    {
      "cell_type": "code",
      "source": [
        "base_model= tf.keras.applications.VGG16(\n",
        "    include_top= False,\n",
        "    weights= 'imagenet',\n",
        "    input_shape=(img_size, img_size, 3),\n",
        "    pooling= 'max'\n",
        ")"
      ],
      "metadata": {
        "id": "Mg74WAkUc0IO"
      },
      "execution_count": 58,
      "outputs": []
    },
    {
      "cell_type": "code",
      "source": [
        "tf.keras.utils.plot_model(\n",
        "    base_model,\n",
        "    show_shapes= True,\n",
        "    show_dtype=False,\n",
        "    show_layer_names=True,\n",
        "    rankdir=\"TR\",\n",
        "    expand_nested=False,\n",
        "    dpi=72,\n",
        "    layer_range=None,\n",
        "    show_layer_activations=True,\n",
        ")"
      ],
      "metadata": {
        "colab": {
          "base_uri": "https://localhost:8080/",
          "height": 1000
        },
        "id": "vwEB5G2tXWvY",
        "outputId": "887dbe7c-1f27-4a13-8ce6-08ea6f630101"
      },
      "execution_count": 59,
      "outputs": [
        {
          "output_type": "execute_result",
          "data": {
            "image/png": "[encoded data removed]",
            "text/plain": [
              "<IPython.core.display.Image object>"
            ]
          },
          "metadata": {},
          "execution_count": 59
        }
      ]
    },
    {
      "cell_type": "code",
      "source": [
        "inputs= tf.keras.Input(shape= (img_size, img_size, 3))\n",
        "preprocess_layer= tf.keras.applications.vgg16.preprocess_input(inputs)\n",
        "normalization_layer= tf.keras.layers.Rescaling(scale= 1./127.5, offset= -1)(preprocess_layer)\n",
        "x= base_model(normalization_layer)\n",
        "x= tf.keras.layers.Dropout(0.25)(x)\n",
        "outputs= tf.keras.layers.Dense(10, activation= 'softmax')(x)"
      ],
      "metadata": {
        "id": "l9mR1azhWhJd"
      },
      "execution_count": 60,
      "outputs": []
    },
    {
      "cell_type": "code",
      "source": [
        "model= tf.keras.Model(inputs= inputs, outputs= outputs, name= \"vgg16_TL_augmentation\")"
      ],
      "metadata": {
        "id": "TS4VmA2QC32F"
      },
      "execution_count": 61,
      "outputs": []
    },
    {
      "cell_type": "code",
      "source": [
        "model.summary()"
      ],
      "metadata": {
        "colab": {
          "base_uri": "https://localhost:8080/"
        },
        "id": "bdDyJ_-CM6DD",
        "outputId": "f5c4fc9e-ab71-4f55-df94-1d714db6c576"
      },
      "execution_count": 62,
      "outputs": [
        {
          "output_type": "stream",
          "name": "stdout",
          "text": [
            "Model: \"vgg16_TL_augmentation\"\n",
            "_________________________________________________________________\n",
            " Layer (type)                Output Shape              Param #   \n",
            "=================================================================\n",
            " input_6 (InputLayer)        [(None, 224, 224, 3)]     0         \n",
            "                                                                 \n",
            " tf.__operators__.getitem_2   (None, 224, 224, 3)      0         \n",
            " (SlicingOpLambda)                                               \n",
            "                                                                 \n",
            " tf.nn.bias_add_2 (TFOpLambd  (None, 224, 224, 3)      0         \n",
            " a)                                                              \n",
            "                                                                 \n",
            " rescaling_2 (Rescaling)     (None, 224, 224, 3)       0         \n",
            "                                                                 \n",
            " vgg16 (Functional)          (None, 512)               14714688  \n",
            "                                                                 \n",
            " dropout_2 (Dropout)         (None, 512)               0         \n",
            "                                                                 \n",
            " dense_2 (Dense)             (None, 10)                5130      \n",
            "                                                                 \n",
            "=================================================================\n",
            "Total params: 14,719,818\n",
            "Trainable params: 14,719,818\n",
            "Non-trainable params: 0\n",
            "_________________________________________________________________\n"
          ]
        }
      ]
    },
    {
      "cell_type": "code",
      "source": [
        "tf.keras.utils.plot_model(\n",
        "    model,\n",
        "    show_shapes= True,\n",
        "    show_dtype=False,\n",
        "    show_layer_names=True,\n",
        "    rankdir=\"TR\",\n",
        "    expand_nested=False,\n",
        "    dpi=72,\n",
        "    layer_range=None,\n",
        "    show_layer_activations=True,\n",
        ")"
      ],
      "metadata": {
        "colab": {
          "base_uri": "https://localhost:8080/",
          "height": 570
        },
        "id": "omIMBz7MXhHZ",
        "outputId": "64f9e7bb-9dfd-479b-cca7-03e9a138c497"
      },
      "execution_count": 63,
      "outputs": [
        {
          "output_type": "execute_result",
          "data": {
            "image/png": "[encoded data removed]",
            "text/plain": [
              "<IPython.core.display.Image object>"
            ]
          },
          "metadata": {},
          "execution_count": 63
        }
      ]
    },
    {
      "cell_type": "code",
      "source": [
        "%%time\n",
        "n_epochs= 100\n",
        "\n",
        "filepath= \"weights-improvement-{epoch:02d}-{val_accuracy:.4f}.hdf5\"\n",
        "checkpoint_callback= ModelCheckpoint(filepath, monitor= 'val_accuracy', verbose= 1, save_best_only= True, mode= 'max')\n",
        "early_stop_callback= EarlyStopping(monitor='val_accuracy', patience= 10, verbose= False, mode='max', restore_best_weights= True)\n",
        "callbacks_list=[checkpoint_callback, early_stop_callback]"
      ],
      "metadata": {
        "colab": {
          "base_uri": "https://localhost:8080/"
        },
        "id": "JEPSySyRXjtU",
        "outputId": "d45eeab4-4ae2-43d1-a7af-2586b7071a09"
      },
      "execution_count": 64,
      "outputs": [
        {
          "output_type": "stream",
          "name": "stdout",
          "text": [
            "CPU times: user 164 µs, sys: 0 ns, total: 164 µs\n",
            "Wall time: 176 µs\n"
          ]
        }
      ]
    },
    {
      "cell_type": "code",
      "source": [
        "optimizer_adam_amsgrad= tf.keras.optimizers.Adam(learning_rate= 1e-4, amsgrad= True)\n",
        "optimizer_adam= tf.keras.optimizers.Adam(learning_rate= 1e-4, amsgrad= False)\n",
        "optimizer_sgd= tf.keras.optimizers.SGD(learning_rate= 1e-4, momentum= 0.9)"
      ],
      "metadata": {
        "id": "GTyzHOiIXpqF"
      },
      "execution_count": 65,
      "outputs": []
    },
    {
      "cell_type": "code",
      "source": [
        "model.compile(\n",
        "        optimizer = optimizer_sgd,\n",
        "        loss = 'categorical_crossentropy', \n",
        "        metrics = ['accuracy', tfa.metrics.F1Score(average='macro', num_classes= 10)]\n",
        "        )"
      ],
      "metadata": {
        "id": "YB-F0cnAFnky"
      },
      "execution_count": 66,
      "outputs": []
    },
    {
      "cell_type": "code",
      "source": [
        "history= model.fit(train_aug_ds,\n",
        "                  epochs= n_epochs,\n",
        "                  validation_data= val_ds,\n",
        "                  callbacks= callbacks_list,\n",
        "                  verbose= 1)"
      ],
      "metadata": {
        "colab": {
          "base_uri": "https://localhost:8080/"
        },
        "id": "QJmzjWyjX40y",
        "outputId": "559193ca-bf9b-4435-b969-785244609e6f"
      },
      "execution_count": 67,
      "outputs": [
        {
          "output_type": "stream",
          "name": "stdout",
          "text": [
            "Epoch 1/100\n",
            "715/716 [============================>.] - ETA: 0s - loss: 1.8808 - accuracy: 0.3247 - f1_score: 0.3217\n",
            "Epoch 1: val_accuracy improved from -inf to 0.53846, saving model to weights-improvement-01-0.5385.hdf5\n",
            "716/716 [==============================] - 29s 40ms/step - loss: 1.8807 - accuracy: 0.3247 - f1_score: 0.3217 - val_loss: 1.3033 - val_accuracy: 0.5385 - val_f1_score: 0.5328\n",
            "Epoch 2/100\n",
            "715/716 [============================>.] - ETA: 0s - loss: 1.0964 - accuracy: 0.6175 - f1_score: 0.6131\n",
            "Epoch 2: val_accuracy improved from 0.53846 to 0.71818, saving model to weights-improvement-02-0.7182.hdf5\n",
            "716/716 [==============================] - 28s 39ms/step - loss: 1.0971 - accuracy: 0.6174 - f1_score: 0.6130 - val_loss: 0.8769 - val_accuracy: 0.7182 - val_f1_score: 0.7146\n",
            "Epoch 3/100\n",
            "714/716 [============================>.] - ETA: 0s - loss: 0.7674 - accuracy: 0.7397 - f1_score: 0.7370\n",
            "Epoch 3: val_accuracy improved from 0.71818 to 0.77413, saving model to weights-improvement-03-0.7741.hdf5\n",
            "716/716 [==============================] - 28s 39ms/step - loss: 0.7667 - accuracy: 0.7399 - f1_score: 0.7373 - val_loss: 0.6946 - val_accuracy: 0.7741 - val_f1_score: 0.7727\n",
            "Epoch 4/100\n",
            "715/716 [============================>.] - ETA: 0s - loss: 0.5587 - accuracy: 0.8118 - f1_score: 0.8098\n",
            "Epoch 4: val_accuracy improved from 0.77413 to 0.82168, saving model to weights-improvement-04-0.8217.hdf5\n",
            "716/716 [==============================] - 28s 39ms/step - loss: 0.5588 - accuracy: 0.8117 - f1_score: 0.8097 - val_loss: 0.5476 - val_accuracy: 0.8217 - val_f1_score: 0.8206\n",
            "Epoch 5/100\n",
            "715/716 [============================>.] - ETA: 0s - loss: 0.4048 - accuracy: 0.8643 - f1_score: 0.8632\n",
            "Epoch 5: val_accuracy improved from 0.82168 to 0.83741, saving model to weights-improvement-05-0.8374.hdf5\n",
            "716/716 [==============================] - 28s 39ms/step - loss: 0.4048 - accuracy: 0.8644 - f1_score: 0.8632 - val_loss: 0.5099 - val_accuracy: 0.8374 - val_f1_score: 0.8354\n",
            "Epoch 6/100\n",
            "715/716 [============================>.] - ETA: 0s - loss: 0.3140 - accuracy: 0.8961 - f1_score: 0.8953\n",
            "Epoch 6: val_accuracy improved from 0.83741 to 0.83846, saving model to weights-improvement-06-0.8385.hdf5\n",
            "716/716 [==============================] - 28s 39ms/step - loss: 0.3139 - accuracy: 0.8961 - f1_score: 0.8953 - val_loss: 0.5107 - val_accuracy: 0.8385 - val_f1_score: 0.8374\n",
            "Epoch 7/100\n",
            "715/716 [============================>.] - ETA: 0s - loss: 0.2522 - accuracy: 0.9142 - f1_score: 0.9136\n",
            "Epoch 7: val_accuracy improved from 0.83846 to 0.88741, saving model to weights-improvement-07-0.8874.hdf5\n",
            "716/716 [==============================] - 28s 39ms/step - loss: 0.2522 - accuracy: 0.9143 - f1_score: 0.9136 - val_loss: 0.3772 - val_accuracy: 0.8874 - val_f1_score: 0.8855\n",
            "Epoch 8/100\n",
            "715/716 [============================>.] - ETA: 0s - loss: 0.1868 - accuracy: 0.9383 - f1_score: 0.9379\n",
            "Epoch 8: val_accuracy improved from 0.88741 to 0.89860, saving model to weights-improvement-08-0.8986.hdf5\n",
            "716/716 [==============================] - 28s 39ms/step - loss: 0.1868 - accuracy: 0.9383 - f1_score: 0.9379 - val_loss: 0.3438 - val_accuracy: 0.8986 - val_f1_score: 0.8972\n",
            "Epoch 9/100\n",
            "715/716 [============================>.] - ETA: 0s - loss: 0.1551 - accuracy: 0.9486 - f1_score: 0.9484\n",
            "Epoch 9: val_accuracy did not improve from 0.89860\n",
            "716/716 [==============================] - 28s 39ms/step - loss: 0.1551 - accuracy: 0.9486 - f1_score: 0.9484 - val_loss: 0.4638 - val_accuracy: 0.8535 - val_f1_score: 0.8550\n",
            "Epoch 10/100\n",
            "715/716 [============================>.] - ETA: 0s - loss: 0.1271 - accuracy: 0.9584 - f1_score: 0.9582\n",
            "Epoch 10: val_accuracy did not improve from 0.89860\n",
            "716/716 [==============================] - 28s 39ms/step - loss: 0.1271 - accuracy: 0.9584 - f1_score: 0.9582 - val_loss: 0.3450 - val_accuracy: 0.8986 - val_f1_score: 0.8970\n",
            "Epoch 11/100\n",
            "714/716 [============================>.] - ETA: 0s - loss: 0.1104 - accuracy: 0.9634 - f1_score: 0.9633\n",
            "Epoch 11: val_accuracy improved from 0.89860 to 0.90175, saving model to weights-improvement-11-0.9017.hdf5\n",
            "716/716 [==============================] - 28s 39ms/step - loss: 0.1105 - accuracy: 0.9635 - f1_score: 0.9633 - val_loss: 0.3429 - val_accuracy: 0.9017 - val_f1_score: 0.9005\n",
            "Epoch 12/100\n",
            "715/716 [============================>.] - ETA: 0s - loss: 0.0851 - accuracy: 0.9737 - f1_score: 0.9736\n",
            "Epoch 12: val_accuracy did not improve from 0.90175\n",
            "716/716 [==============================] - 28s 39ms/step - loss: 0.0851 - accuracy: 0.9737 - f1_score: 0.9736 - val_loss: 0.3689 - val_accuracy: 0.9003 - val_f1_score: 0.8991\n",
            "Epoch 13/100\n",
            "715/716 [============================>.] - ETA: 0s - loss: 0.0819 - accuracy: 0.9734 - f1_score: 0.9735\n",
            "Epoch 13: val_accuracy improved from 0.90175 to 0.91923, saving model to weights-improvement-13-0.9192.hdf5\n",
            "716/716 [==============================] - 28s 39ms/step - loss: 0.0819 - accuracy: 0.9734 - f1_score: 0.9735 - val_loss: 0.3046 - val_accuracy: 0.9192 - val_f1_score: 0.9185\n",
            "Epoch 14/100\n",
            "715/716 [============================>.] - ETA: 0s - loss: 0.0595 - accuracy: 0.9809 - f1_score: 0.9810\n",
            "Epoch 14: val_accuracy did not improve from 0.91923\n",
            "716/716 [==============================] - 28s 39ms/step - loss: 0.0595 - accuracy: 0.9809 - f1_score: 0.9810 - val_loss: 0.3297 - val_accuracy: 0.9150 - val_f1_score: 0.9142\n",
            "Epoch 15/100\n",
            "715/716 [============================>.] - ETA: 0s - loss: 0.0518 - accuracy: 0.9833 - f1_score: 0.9831\n",
            "Epoch 15: val_accuracy did not improve from 0.91923\n",
            "716/716 [==============================] - 28s 39ms/step - loss: 0.0518 - accuracy: 0.9833 - f1_score: 0.9831 - val_loss: 0.3233 - val_accuracy: 0.9140 - val_f1_score: 0.9130\n",
            "Epoch 16/100\n",
            "715/716 [============================>.] - ETA: 0s - loss: 0.0496 - accuracy: 0.9850 - f1_score: 0.9850\n",
            "Epoch 16: val_accuracy improved from 0.91923 to 0.92413, saving model to weights-improvement-16-0.9241.hdf5\n",
            "716/716 [==============================] - 28s 39ms/step - loss: 0.0496 - accuracy: 0.9850 - f1_score: 0.9850 - val_loss: 0.3154 - val_accuracy: 0.9241 - val_f1_score: 0.9239\n",
            "Epoch 17/100\n",
            "715/716 [============================>.] - ETA: 0s - loss: 0.0469 - accuracy: 0.9859 - f1_score: 0.9859\n",
            "Epoch 17: val_accuracy improved from 0.92413 to 0.92587, saving model to weights-improvement-17-0.9259.hdf5\n",
            "716/716 [==============================] - 28s 39ms/step - loss: 0.0469 - accuracy: 0.9859 - f1_score: 0.9859 - val_loss: 0.2955 - val_accuracy: 0.9259 - val_f1_score: 0.9245\n",
            "Epoch 18/100\n",
            "715/716 [============================>.] - ETA: 0s - loss: 0.0446 - accuracy: 0.9865 - f1_score: 0.9865\n",
            "Epoch 18: val_accuracy did not improve from 0.92587\n",
            "716/716 [==============================] - 28s 39ms/step - loss: 0.0446 - accuracy: 0.9865 - f1_score: 0.9865 - val_loss: 0.3353 - val_accuracy: 0.9059 - val_f1_score: 0.9040\n",
            "Epoch 19/100\n",
            "715/716 [============================>.] - ETA: 0s - loss: 0.0392 - accuracy: 0.9896 - f1_score: 0.9896\n",
            "Epoch 19: val_accuracy improved from 0.92587 to 0.92622, saving model to weights-improvement-19-0.9262.hdf5\n",
            "716/716 [==============================] - 28s 39ms/step - loss: 0.0392 - accuracy: 0.9896 - f1_score: 0.9896 - val_loss: 0.3084 - val_accuracy: 0.9262 - val_f1_score: 0.9254\n",
            "Epoch 20/100\n",
            "715/716 [============================>.] - ETA: 0s - loss: 0.0342 - accuracy: 0.9892 - f1_score: 0.9892\n",
            "Epoch 20: val_accuracy improved from 0.92622 to 0.92692, saving model to weights-improvement-20-0.9269.hdf5\n",
            "716/716 [==============================] - 28s 39ms/step - loss: 0.0342 - accuracy: 0.9893 - f1_score: 0.9892 - val_loss: 0.2967 - val_accuracy: 0.9269 - val_f1_score: 0.9260\n",
            "Epoch 21/100\n",
            "715/716 [============================>.] - ETA: 0s - loss: 0.0226 - accuracy: 0.9939 - f1_score: 0.9939\n",
            "Epoch 21: val_accuracy improved from 0.92692 to 0.93112, saving model to weights-improvement-21-0.9311.hdf5\n",
            "716/716 [==============================] - 28s 39ms/step - loss: 0.0226 - accuracy: 0.9939 - f1_score: 0.9939 - val_loss: 0.2929 - val_accuracy: 0.9311 - val_f1_score: 0.9299\n",
            "Epoch 22/100\n",
            "715/716 [============================>.] - ETA: 0s - loss: 0.0186 - accuracy: 0.9957 - f1_score: 0.9957\n",
            "Epoch 22: val_accuracy did not improve from 0.93112\n",
            "716/716 [==============================] - 28s 39ms/step - loss: 0.0186 - accuracy: 0.9957 - f1_score: 0.9957 - val_loss: 0.4216 - val_accuracy: 0.9042 - val_f1_score: 0.9029\n",
            "Epoch 23/100\n",
            "714/716 [============================>.] - ETA: 0s - loss: 0.0250 - accuracy: 0.9931 - f1_score: 0.9931\n",
            "Epoch 23: val_accuracy did not improve from 0.93112\n",
            "716/716 [==============================] - 28s 39ms/step - loss: 0.0250 - accuracy: 0.9931 - f1_score: 0.9931 - val_loss: 0.2993 - val_accuracy: 0.9290 - val_f1_score: 0.9288\n",
            "Epoch 24/100\n",
            "715/716 [============================>.] - ETA: 0s - loss: 0.0256 - accuracy: 0.9919 - f1_score: 0.9918\n",
            "Epoch 24: val_accuracy improved from 0.93112 to 0.93287, saving model to weights-improvement-24-0.9329.hdf5\n",
            "716/716 [==============================] - 28s 39ms/step - loss: 0.0256 - accuracy: 0.9919 - f1_score: 0.9918 - val_loss: 0.3312 - val_accuracy: 0.9329 - val_f1_score: 0.9323\n",
            "Epoch 25/100\n",
            "715/716 [============================>.] - ETA: 0s - loss: 0.0262 - accuracy: 0.9925 - f1_score: 0.9925\n",
            "Epoch 25: val_accuracy did not improve from 0.93287\n",
            "716/716 [==============================] - 28s 39ms/step - loss: 0.0262 - accuracy: 0.9925 - f1_score: 0.9925 - val_loss: 0.3305 - val_accuracy: 0.9217 - val_f1_score: 0.9209\n",
            "Epoch 26/100\n",
            "715/716 [============================>.] - ETA: 0s - loss: 0.0236 - accuracy: 0.9934 - f1_score: 0.9934\n",
            "Epoch 26: val_accuracy improved from 0.93287 to 0.93706, saving model to weights-improvement-26-0.9371.hdf5\n",
            "716/716 [==============================] - 28s 39ms/step - loss: 0.0236 - accuracy: 0.9934 - f1_score: 0.9934 - val_loss: 0.2936 - val_accuracy: 0.9371 - val_f1_score: 0.9365\n",
            "Epoch 27/100\n",
            "715/716 [============================>.] - ETA: 0s - loss: 0.0159 - accuracy: 0.9960 - f1_score: 0.9959\n",
            "Epoch 27: val_accuracy improved from 0.93706 to 0.93741, saving model to weights-improvement-27-0.9374.hdf5\n",
            "716/716 [==============================] - 28s 39ms/step - loss: 0.0159 - accuracy: 0.9960 - f1_score: 0.9959 - val_loss: 0.2927 - val_accuracy: 0.9374 - val_f1_score: 0.9366\n",
            "Epoch 28/100\n",
            "715/716 [============================>.] - ETA: 0s - loss: 0.0149 - accuracy: 0.9961 - f1_score: 0.9961\n",
            "Epoch 28: val_accuracy did not improve from 0.93741\n",
            "716/716 [==============================] - 28s 39ms/step - loss: 0.0149 - accuracy: 0.9961 - f1_score: 0.9961 - val_loss: 0.3114 - val_accuracy: 0.9339 - val_f1_score: 0.9335\n",
            "Epoch 29/100\n",
            "715/716 [============================>.] - ETA: 0s - loss: 0.0176 - accuracy: 0.9948 - f1_score: 0.9948\n",
            "Epoch 29: val_accuracy did not improve from 0.93741\n",
            "716/716 [==============================] - 28s 39ms/step - loss: 0.0176 - accuracy: 0.9948 - f1_score: 0.9948 - val_loss: 0.2914 - val_accuracy: 0.9336 - val_f1_score: 0.9331\n",
            "Epoch 30/100\n",
            "715/716 [============================>.] - ETA: 0s - loss: 0.0187 - accuracy: 0.9952 - f1_score: 0.9952\n",
            "Epoch 30: val_accuracy did not improve from 0.93741\n",
            "716/716 [==============================] - 28s 39ms/step - loss: 0.0187 - accuracy: 0.9952 - f1_score: 0.9952 - val_loss: 0.3169 - val_accuracy: 0.9308 - val_f1_score: 0.9301\n",
            "Epoch 31/100\n",
            "715/716 [============================>.] - ETA: 0s - loss: 0.0157 - accuracy: 0.9961 - f1_score: 0.9961\n",
            "Epoch 31: val_accuracy did not improve from 0.93741\n",
            "716/716 [==============================] - 28s 39ms/step - loss: 0.0157 - accuracy: 0.9961 - f1_score: 0.9961 - val_loss: 0.2867 - val_accuracy: 0.9360 - val_f1_score: 0.9357\n",
            "Epoch 32/100\n",
            "715/716 [============================>.] - ETA: 0s - loss: 0.0097 - accuracy: 0.9982 - f1_score: 0.9982\n",
            "Epoch 32: val_accuracy did not improve from 0.93741\n",
            "716/716 [==============================] - 28s 39ms/step - loss: 0.0097 - accuracy: 0.9982 - f1_score: 0.9982 - val_loss: 0.2959 - val_accuracy: 0.9339 - val_f1_score: 0.9334\n",
            "Epoch 33/100\n",
            "714/716 [============================>.] - ETA: 0s - loss: 0.0131 - accuracy: 0.9962 - f1_score: 0.9962\n",
            "Epoch 33: val_accuracy did not improve from 0.93741\n",
            "716/716 [==============================] - 28s 39ms/step - loss: 0.0131 - accuracy: 0.9962 - f1_score: 0.9962 - val_loss: 0.3211 - val_accuracy: 0.9318 - val_f1_score: 0.9308\n",
            "Epoch 34/100\n",
            "715/716 [============================>.] - ETA: 0s - loss: 0.0150 - accuracy: 0.9960 - f1_score: 0.9959\n",
            "Epoch 34: val_accuracy did not improve from 0.93741\n",
            "716/716 [==============================] - 28s 39ms/step - loss: 0.0150 - accuracy: 0.9960 - f1_score: 0.9959 - val_loss: 0.3146 - val_accuracy: 0.9364 - val_f1_score: 0.9357\n",
            "Epoch 35/100\n",
            "715/716 [============================>.] - ETA: 0s - loss: 0.0093 - accuracy: 0.9975 - f1_score: 0.9974\n",
            "Epoch 35: val_accuracy improved from 0.93741 to 0.94091, saving model to weights-improvement-35-0.9409.hdf5\n",
            "716/716 [==============================] - 28s 39ms/step - loss: 0.0093 - accuracy: 0.9975 - f1_score: 0.9974 - val_loss: 0.3213 - val_accuracy: 0.9409 - val_f1_score: 0.9404\n",
            "Epoch 36/100\n",
            "715/716 [============================>.] - ETA: 0s - loss: 0.0115 - accuracy: 0.9971 - f1_score: 0.9971\n",
            "Epoch 36: val_accuracy did not improve from 0.94091\n",
            "716/716 [==============================] - 28s 39ms/step - loss: 0.0115 - accuracy: 0.9971 - f1_score: 0.9971 - val_loss: 0.3136 - val_accuracy: 0.9392 - val_f1_score: 0.9388\n",
            "Epoch 37/100\n",
            "715/716 [============================>.] - ETA: 0s - loss: 0.0064 - accuracy: 0.9987 - f1_score: 0.9987\n",
            "Epoch 37: val_accuracy did not improve from 0.94091\n",
            "716/716 [==============================] - 28s 39ms/step - loss: 0.0064 - accuracy: 0.9987 - f1_score: 0.9987 - val_loss: 0.3358 - val_accuracy: 0.9339 - val_f1_score: 0.9329\n",
            "Epoch 38/100\n",
            "715/716 [============================>.] - ETA: 0s - loss: 0.0099 - accuracy: 0.9965 - f1_score: 0.9965\n",
            "Epoch 38: val_accuracy did not improve from 0.94091\n",
            "716/716 [==============================] - 28s 39ms/step - loss: 0.0099 - accuracy: 0.9965 - f1_score: 0.9965 - val_loss: 0.3535 - val_accuracy: 0.9269 - val_f1_score: 0.9256\n",
            "Epoch 39/100\n",
            "714/716 [============================>.] - ETA: 0s - loss: 0.0072 - accuracy: 0.9979 - f1_score: 0.9979\n",
            "Epoch 39: val_accuracy did not improve from 0.94091\n",
            "716/716 [==============================] - 28s 39ms/step - loss: 0.0073 - accuracy: 0.9978 - f1_score: 0.9978 - val_loss: 0.3082 - val_accuracy: 0.9378 - val_f1_score: 0.9370\n",
            "Epoch 40/100\n",
            "715/716 [============================>.] - ETA: 0s - loss: 0.0162 - accuracy: 0.9955 - f1_score: 0.9955\n",
            "Epoch 40: val_accuracy did not improve from 0.94091\n",
            "716/716 [==============================] - 28s 39ms/step - loss: 0.0162 - accuracy: 0.9955 - f1_score: 0.9955 - val_loss: 0.4740 - val_accuracy: 0.9129 - val_f1_score: 0.9138\n",
            "Epoch 41/100\n",
            "715/716 [============================>.] - ETA: 0s - loss: 0.0086 - accuracy: 0.9976 - f1_score: 0.9976\n",
            "Epoch 41: val_accuracy did not improve from 0.94091\n",
            "716/716 [==============================] - 28s 39ms/step - loss: 0.0086 - accuracy: 0.9976 - f1_score: 0.9976 - val_loss: 0.3038 - val_accuracy: 0.9367 - val_f1_score: 0.9365\n",
            "Epoch 42/100\n",
            "715/716 [============================>.] - ETA: 0s - loss: 0.0080 - accuracy: 0.9982 - f1_score: 0.9982\n",
            "Epoch 42: val_accuracy improved from 0.94091 to 0.94126, saving model to weights-improvement-42-0.9413.hdf5\n",
            "716/716 [==============================] - 28s 39ms/step - loss: 0.0080 - accuracy: 0.9982 - f1_score: 0.9982 - val_loss: 0.3132 - val_accuracy: 0.9413 - val_f1_score: 0.9406\n",
            "Epoch 43/100\n",
            "714/716 [============================>.] - ETA: 0s - loss: 0.0052 - accuracy: 0.9984 - f1_score: 0.9985\n",
            "Epoch 43: val_accuracy did not improve from 0.94126\n",
            "716/716 [==============================] - 28s 39ms/step - loss: 0.0052 - accuracy: 0.9984 - f1_score: 0.9985 - val_loss: 0.3392 - val_accuracy: 0.9367 - val_f1_score: 0.9365\n",
            "Epoch 44/100\n",
            "715/716 [============================>.] - ETA: 0s - loss: 0.0069 - accuracy: 0.9979 - f1_score: 0.9979\n",
            "Epoch 44: val_accuracy did not improve from 0.94126\n",
            "716/716 [==============================] - 28s 39ms/step - loss: 0.0070 - accuracy: 0.9978 - f1_score: 0.9978 - val_loss: 0.3559 - val_accuracy: 0.9322 - val_f1_score: 0.9315\n",
            "Epoch 45/100\n",
            "715/716 [============================>.] - ETA: 0s - loss: 0.0203 - accuracy: 0.9941 - f1_score: 0.9941\n",
            "Epoch 45: val_accuracy did not improve from 0.94126\n",
            "716/716 [==============================] - 28s 39ms/step - loss: 0.0203 - accuracy: 0.9941 - f1_score: 0.9941 - val_loss: 0.3132 - val_accuracy: 0.9371 - val_f1_score: 0.9363\n",
            "Epoch 46/100\n",
            "714/716 [============================>.] - ETA: 0s - loss: 0.0120 - accuracy: 0.9968 - f1_score: 0.9967\n",
            "Epoch 46: val_accuracy did not improve from 0.94126\n",
            "716/716 [==============================] - 28s 39ms/step - loss: 0.0120 - accuracy: 0.9968 - f1_score: 0.9967 - val_loss: 0.2990 - val_accuracy: 0.9353 - val_f1_score: 0.9345\n",
            "Epoch 47/100\n",
            "715/716 [============================>.] - ETA: 0s - loss: 0.0036 - accuracy: 0.9994 - f1_score: 0.9994\n",
            "Epoch 47: val_accuracy did not improve from 0.94126\n",
            "716/716 [==============================] - 28s 39ms/step - loss: 0.0036 - accuracy: 0.9994 - f1_score: 0.9994 - val_loss: 0.3333 - val_accuracy: 0.9360 - val_f1_score: 0.9351\n",
            "Epoch 48/100\n",
            "715/716 [============================>.] - ETA: 0s - loss: 0.0039 - accuracy: 0.9988 - f1_score: 0.9988\n",
            "Epoch 48: val_accuracy did not improve from 0.94126\n",
            "716/716 [==============================] - 28s 39ms/step - loss: 0.0039 - accuracy: 0.9988 - f1_score: 0.9988 - val_loss: 0.4136 - val_accuracy: 0.9185 - val_f1_score: 0.9178\n",
            "Epoch 49/100\n",
            "715/716 [============================>.] - ETA: 0s - loss: 0.0070 - accuracy: 0.9979 - f1_score: 0.9979\n",
            "Epoch 49: val_accuracy did not improve from 0.94126\n",
            "716/716 [==============================] - 28s 39ms/step - loss: 0.0070 - accuracy: 0.9979 - f1_score: 0.9979 - val_loss: 0.3818 - val_accuracy: 0.9269 - val_f1_score: 0.9259\n",
            "Epoch 50/100\n",
            "715/716 [============================>.] - ETA: 0s - loss: 0.0063 - accuracy: 0.9984 - f1_score: 0.9984\n",
            "Epoch 50: val_accuracy did not improve from 0.94126\n",
            "716/716 [==============================] - 28s 39ms/step - loss: 0.0063 - accuracy: 0.9984 - f1_score: 0.9984 - val_loss: 0.3343 - val_accuracy: 0.9406 - val_f1_score: 0.9400\n",
            "Epoch 51/100\n",
            "715/716 [============================>.] - ETA: 0s - loss: 0.0034 - accuracy: 0.9993 - f1_score: 0.9993\n",
            "Epoch 51: val_accuracy did not improve from 0.94126\n",
            "716/716 [==============================] - 28s 39ms/step - loss: 0.0034 - accuracy: 0.9993 - f1_score: 0.9993 - val_loss: 0.3521 - val_accuracy: 0.9399 - val_f1_score: 0.9392\n",
            "Epoch 52/100\n",
            "715/716 [============================>.] - ETA: 0s - loss: 0.0026 - accuracy: 0.9993 - f1_score: 0.9993\n",
            "Epoch 52: val_accuracy did not improve from 0.94126\n",
            "716/716 [==============================] - 28s 39ms/step - loss: 0.0026 - accuracy: 0.9993 - f1_score: 0.9993 - val_loss: 0.3711 - val_accuracy: 0.9311 - val_f1_score: 0.9303\n"
          ]
        }
      ]
    },
    {
      "cell_type": "code",
      "source": [
        "model.evaluate(test_data, batch_size= 16, return_dict= True)"
      ],
      "metadata": {
        "colab": {
          "base_uri": "https://localhost:8080/"
        },
        "id": "I2xN4seoYV2b",
        "outputId": "83e6f9aa-306e-45e2-ab66-5d369ff690f5"
      },
      "execution_count": 68,
      "outputs": [
        {
          "output_type": "stream",
          "name": "stdout",
          "text": [
            "94/94 [==============================] - 9s 98ms/step - loss: 0.3912 - accuracy: 0.9367 - f1_score: 0.9366\n"
          ]
        },
        {
          "output_type": "execute_result",
          "data": {
            "text/plain": [
              "{'loss': 0.3911976218223572,\n",
              " 'accuracy': 0.9366666674613953,\n",
              " 'f1_score': 0.9366415739059448}"
            ]
          },
          "metadata": {},
          "execution_count": 68
        }
      ]
    },
    {
      "cell_type": "code",
      "source": [
        "model_load= tf.keras.models.load_model('/content/weights-improvement-42-0.9413.hdf5')\n",
        "model_load.evaluate(test_data, batch_size= 16, return_dict= True)"
      ],
      "metadata": {
        "colab": {
          "base_uri": "https://localhost:8080/"
        },
        "id": "-q2FOr2d90mi",
        "outputId": "caf13bf0-135c-48c2-d46a-61dc9790ca87"
      },
      "execution_count": 72,
      "outputs": [
        {
          "output_type": "stream",
          "name": "stdout",
          "text": [
            "94/94 [==============================] - 10s 99ms/step - loss: 0.3912 - accuracy: 0.9367 - f1_score: 0.9366\n"
          ]
        },
        {
          "output_type": "execute_result",
          "data": {
            "text/plain": [
              "{'loss': 0.3911976218223572,\n",
              " 'accuracy': 0.9366666674613953,\n",
              " 'f1_score': 0.9366415739059448}"
            ]
          },
          "metadata": {},
          "execution_count": 72
        }
      ]
    },
    {
      "cell_type": "code",
      "source": [
        "# Generating Confusion Matrix and Classification Report\n",
        "Y_pred= model.predict_generator(test_data, 1500// 16 + 1)\n",
        "y_pred= np.argmax(Y_pred, axis= 1)\n",
        "print('Confusion Matrix')\n",
        "conf_matrix= confusion_matrix(test_data.classes, y_pred)\n",
        "conf_mat = np.array2string(conf_matrix)\n",
        "#print(conf_matrix)\n",
        "#print(\"=============================================================================================\")\n",
        "print('Classification Report')\n",
        "target_names= test_data.class_indices\n",
        "class_rep_vgg = classification_report(test_data.classes, y_pred, target_names=target_names)\n",
        "print(class_rep_vgg)"
      ],
      "metadata": {
        "colab": {
          "base_uri": "https://localhost:8080/"
        },
        "id": "EAjGmcc2YZVY",
        "outputId": "a0971a4f-f6a2-4220-b02a-0578d7cae376"
      },
      "execution_count": 73,
      "outputs": [
        {
          "output_type": "stream",
          "name": "stderr",
          "text": [
            "/usr/local/lib/python3.7/dist-packages/ipykernel_launcher.py:2: UserWarning: `Model.predict_generator` is deprecated and will be removed in a future version. Please use `Model.predict`, which supports generators.\n",
            "  \n"
          ]
        },
        {
          "output_type": "stream",
          "name": "stdout",
          "text": [
            "Confusion Matrix\n",
            "Classification Report\n",
            "                          precision    recall  f1-score   support\n",
            "\n",
            "   bacterial_leaf_blight       0.97      0.87      0.92       150\n",
            "   bacterial_leaf_streak       0.96      0.93      0.95       150\n",
            "bacterial_panicle_blight       0.98      0.94      0.96       150\n",
            "                   blast       0.89      0.95      0.92       150\n",
            "              brown_spot       0.94      0.91      0.93       150\n",
            "              dead_heart       0.91      0.99      0.95       150\n",
            "            downy_mildew       0.98      0.89      0.93       150\n",
            "                   hispa       0.92      0.95      0.93       150\n",
            "                  normal       0.94      0.96      0.95       150\n",
            "                  tungro       0.89      0.96      0.92       150\n",
            "\n",
            "                accuracy                           0.94      1500\n",
            "               macro avg       0.94      0.94      0.94      1500\n",
            "            weighted avg       0.94      0.94      0.94      1500\n",
            "\n"
          ]
        }
      ]
    },
    {
      "cell_type": "code",
      "source": [
        "ConfusionMatrixDisplay.from_predictions(test_data.classes, y_pred, display_labels= target_names, xticks_rotation= 'vertical')"
      ],
      "metadata": {
        "colab": {
          "base_uri": "https://localhost:8080/",
          "height": 406
        },
        "id": "tT3VcrsgYdGx",
        "outputId": "de7d9310-55bc-4c2d-e7e1-fb73172ac5fe"
      },
      "execution_count": 74,
      "outputs": [
        {
          "output_type": "execute_result",
          "data": {
            "text/plain": [
              "<sklearn.metrics._plot.confusion_matrix.ConfusionMatrixDisplay at 0x7f3d1f00c6d0>"
            ]
          },
          "metadata": {},
          "execution_count": 74
        },
        {
          "output_type": "display_data",
          "data": {
            "text/plain": [
              "<Figure size 432x288 with 2 Axes>"
            ],
            "image/png": "[encoded data removed]"
          },
          "metadata": {
            "needs_background": "light"
          }
        }
      ]
    }
  ]
}